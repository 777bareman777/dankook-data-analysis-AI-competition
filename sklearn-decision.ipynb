{
 "cells": [
  {
   "cell_type": "code",
   "execution_count": 1,
   "metadata": {
    "ExecuteTime": {
     "end_time": "2020-09-22T12:07:06.594896Z",
     "start_time": "2020-09-22T12:07:06.322657Z"
    }
   },
   "outputs": [],
   "source": [
    "%reload_ext autoreload\n",
    "%autoreload 2\n",
    "%matplotlib inline"
   ]
  },
  {
   "cell_type": "code",
   "execution_count": 2,
   "metadata": {
    "ExecuteTime": {
     "end_time": "2020-09-22T12:07:08.053866Z",
     "start_time": "2020-09-22T12:07:07.279766Z"
    }
   },
   "outputs": [],
   "source": [
    "import numpy as np\n",
    "import pandas as pd\n",
    "\n",
    "import matplotlib.pyplot as plt\n",
    "from matplotlib import rcParams\n",
    "import seaborn as sns\n",
    "\n",
    "import warnings\n",
    "from pathlib import Path"
   ]
  },
  {
   "cell_type": "code",
   "execution_count": 3,
   "metadata": {
    "ExecuteTime": {
     "end_time": "2020-09-22T12:07:08.134470Z",
     "start_time": "2020-09-22T12:07:08.109704Z"
    }
   },
   "outputs": [],
   "source": [
    "pd.set_option('max_columns', 100)\n",
    "pd.set_option('display.precision', 4)\n",
    "\n",
    "rcParams['figure.figsize'] = (16, 8)\n",
    "plt.style.use('fivethirtyeight')\n",
    "sns.set(font_scale=2.5)\n",
    "\n",
    "warnings.filterwarnings('ignore')"
   ]
  },
  {
   "cell_type": "markdown",
   "metadata": {},
   "source": [
    "# 데이터 로드"
   ]
  },
  {
   "cell_type": "code",
   "execution_count": 4,
   "metadata": {
    "ExecuteTime": {
     "end_time": "2020-09-22T12:07:08.473821Z",
     "start_time": "2020-09-22T12:07:08.449387Z"
    }
   },
   "outputs": [],
   "source": [
    "data_dir = Path('../input/dankook')\n",
    "sub_dir = Path('../output/')\n",
    "\n",
    "train_file = data_dir / 'train.csv'\n",
    "test_file = data_dir / 'test.csv'\n",
    "sample_file = data_dir / 'sample_submission.csv'\n",
    "sub_file = sub_dir / 'submission.csv'\n",
    "\n",
    "target_column = 'class'\n",
    "SEED = 2020"
   ]
  },
  {
   "cell_type": "code",
   "execution_count": 5,
   "metadata": {
    "ExecuteTime": {
     "end_time": "2020-09-22T12:07:10.075906Z",
     "start_time": "2020-09-22T12:07:08.827048Z"
    }
   },
   "outputs": [],
   "source": [
    "df_train = pd.read_csv(train_file, index_col=0)\n",
    "df_test = pd.read_csv(test_file, index_col=0)"
   ]
  },
  {
   "cell_type": "code",
   "execution_count": 6,
   "metadata": {
    "ExecuteTime": {
     "end_time": "2020-09-22T12:07:10.503896Z",
     "start_time": "2020-09-22T12:07:10.169552Z"
    }
   },
   "outputs": [
    {
     "name": "stdout",
     "output_type": "stream",
     "text": [
      "제거된 행 개수 : 106590\n"
     ]
    }
   ],
   "source": [
    "# test의 MinMax 범위 넘는 행은 train에서 제거\n",
    "train_shape = df_train.shape[0]\n",
    "\n",
    "for col in df_train.columns[:18]:\n",
    "    df_train = df_train.loc[np.logical_and(df_train[col]>df_test[col].min(),df_train[col]<df_test[col].max())]\n",
    "    \n",
    "print('제거된 행 개수 :', train_shape - df_train.shape[0])"
   ]
  },
  {
   "cell_type": "markdown",
   "metadata": {},
   "source": [
    "# 학습/테스트 데이터 결합"
   ]
  },
  {
   "cell_type": "code",
   "execution_count": 7,
   "metadata": {
    "ExecuteTime": {
     "end_time": "2020-09-22T12:07:11.333361Z",
     "start_time": "2020-09-22T12:07:11.269550Z"
    }
   },
   "outputs": [],
   "source": [
    "dataset = pd.concat([df_train,df_test], axis=0)\n",
    "\n",
    "dataset.fillna(-1, inplace=True)"
   ]
  },
  {
   "cell_type": "code",
   "execution_count": 8,
   "metadata": {
    "ExecuteTime": {
     "end_time": "2020-09-22T12:07:11.673135Z",
     "start_time": "2020-09-22T12:07:11.644290Z"
    }
   },
   "outputs": [],
   "source": [
    "dataset['nObserve'] = dataset['nObserve'].apply(np.log1p)"
   ]
  },
  {
   "cell_type": "code",
   "execution_count": 9,
   "metadata": {
    "ExecuteTime": {
     "end_time": "2020-09-22T12:07:12.019061Z",
     "start_time": "2020-09-22T12:07:11.919093Z"
    }
   },
   "outputs": [
    {
     "name": "stdout",
     "output_type": "stream",
     "text": [
      "(293410, 34)\n"
     ]
    },
    {
     "data": {
      "text/html": [
       "<div>\n",
       "<style scoped>\n",
       "    .dataframe tbody tr th:only-of-type {\n",
       "        vertical-align: middle;\n",
       "    }\n",
       "\n",
       "    .dataframe tbody tr th {\n",
       "        vertical-align: top;\n",
       "    }\n",
       "\n",
       "    .dataframe thead th {\n",
       "        text-align: right;\n",
       "    }\n",
       "</style>\n",
       "<table border=\"1\" class=\"dataframe\">\n",
       "  <thead>\n",
       "    <tr style=\"text-align: right;\">\n",
       "      <th></th>\n",
       "      <th>u</th>\n",
       "      <th>g</th>\n",
       "      <th>r</th>\n",
       "      <th>i</th>\n",
       "      <th>z</th>\n",
       "      <th>redshift</th>\n",
       "      <th>dered_u</th>\n",
       "      <th>dered_g</th>\n",
       "      <th>dered_r</th>\n",
       "      <th>dered_i</th>\n",
       "      <th>dered_z</th>\n",
       "      <th>nObserve</th>\n",
       "      <th>nDetect</th>\n",
       "      <th>airmass_u</th>\n",
       "      <th>airmass_g</th>\n",
       "      <th>airmass_r</th>\n",
       "      <th>airmass_i</th>\n",
       "      <th>airmass_z</th>\n",
       "      <th>class</th>\n",
       "      <th>d_dered_u</th>\n",
       "      <th>d_dered_g</th>\n",
       "      <th>d_dered_r</th>\n",
       "      <th>d_dered_i</th>\n",
       "      <th>d_dered_z</th>\n",
       "      <th>d_dered_rg</th>\n",
       "      <th>d_dered_ig</th>\n",
       "      <th>d_dered_zg</th>\n",
       "      <th>d_dered_ri</th>\n",
       "      <th>d_dered_rz</th>\n",
       "      <th>d_dered_iz</th>\n",
       "      <th>d_obs_det</th>\n",
       "      <th>i-color</th>\n",
       "      <th>s-color</th>\n",
       "      <th>p1</th>\n",
       "    </tr>\n",
       "    <tr>\n",
       "      <th>id</th>\n",
       "      <th></th>\n",
       "      <th></th>\n",
       "      <th></th>\n",
       "      <th></th>\n",
       "      <th></th>\n",
       "      <th></th>\n",
       "      <th></th>\n",
       "      <th></th>\n",
       "      <th></th>\n",
       "      <th></th>\n",
       "      <th></th>\n",
       "      <th></th>\n",
       "      <th></th>\n",
       "      <th></th>\n",
       "      <th></th>\n",
       "      <th></th>\n",
       "      <th></th>\n",
       "      <th></th>\n",
       "      <th></th>\n",
       "      <th></th>\n",
       "      <th></th>\n",
       "      <th></th>\n",
       "      <th></th>\n",
       "      <th></th>\n",
       "      <th></th>\n",
       "      <th></th>\n",
       "      <th></th>\n",
       "      <th></th>\n",
       "      <th></th>\n",
       "      <th></th>\n",
       "      <th></th>\n",
       "      <th></th>\n",
       "      <th></th>\n",
       "      <th></th>\n",
       "    </tr>\n",
       "  </thead>\n",
       "  <tbody>\n",
       "    <tr>\n",
       "      <th>0</th>\n",
       "      <td>23.2640</td>\n",
       "      <td>20.3368</td>\n",
       "      <td>19.0095</td>\n",
       "      <td>17.6724</td>\n",
       "      <td>16.9396</td>\n",
       "      <td>-8.1086e-05</td>\n",
       "      <td>23.1243</td>\n",
       "      <td>20.2578</td>\n",
       "      <td>18.9551</td>\n",
       "      <td>17.6321</td>\n",
       "      <td>16.9089</td>\n",
       "      <td>2.9444</td>\n",
       "      <td>18</td>\n",
       "      <td>1.1898</td>\n",
       "      <td>1.1907</td>\n",
       "      <td>1.1890</td>\n",
       "      <td>1.1894</td>\n",
       "      <td>1.1902</td>\n",
       "      <td>0.0</td>\n",
       "      <td>-0.1397</td>\n",
       "      <td>-0.0790</td>\n",
       "      <td>-0.0544</td>\n",
       "      <td>-0.0403</td>\n",
       "      <td>-0.0307</td>\n",
       "      <td>-1.3027</td>\n",
       "      <td>-2.6257</td>\n",
       "      <td>-3.3488</td>\n",
       "      <td>1.3230</td>\n",
       "      <td>2.0462</td>\n",
       "      <td>0.7232</td>\n",
       "      <td>-15.0556</td>\n",
       "      <td>0.6094</td>\n",
       "      <td>0.0384</td>\n",
       "      <td>1.9346</td>\n",
       "    </tr>\n",
       "    <tr>\n",
       "      <th>2</th>\n",
       "      <td>16.7864</td>\n",
       "      <td>15.8254</td>\n",
       "      <td>15.5363</td>\n",
       "      <td>15.3935</td>\n",
       "      <td>15.3500</td>\n",
       "      <td>4.7198e-04</td>\n",
       "      <td>16.6076</td>\n",
       "      <td>15.6866</td>\n",
       "      <td>15.4400</td>\n",
       "      <td>15.3217</td>\n",
       "      <td>15.2961</td>\n",
       "      <td>1.0986</td>\n",
       "      <td>2</td>\n",
       "      <td>1.0225</td>\n",
       "      <td>1.0241</td>\n",
       "      <td>1.0210</td>\n",
       "      <td>1.0217</td>\n",
       "      <td>1.0233</td>\n",
       "      <td>0.0</td>\n",
       "      <td>-0.1787</td>\n",
       "      <td>-0.1388</td>\n",
       "      <td>-0.0963</td>\n",
       "      <td>-0.0718</td>\n",
       "      <td>-0.0540</td>\n",
       "      <td>-0.2466</td>\n",
       "      <td>-0.3649</td>\n",
       "      <td>-0.3905</td>\n",
       "      <td>0.1183</td>\n",
       "      <td>0.1440</td>\n",
       "      <td>0.0257</td>\n",
       "      <td>-0.9014</td>\n",
       "      <td>0.0617</td>\n",
       "      <td>-0.0031</td>\n",
       "      <td>-0.2855</td>\n",
       "    </tr>\n",
       "    <tr>\n",
       "      <th>3</th>\n",
       "      <td>25.6606</td>\n",
       "      <td>21.1887</td>\n",
       "      <td>20.2212</td>\n",
       "      <td>19.8949</td>\n",
       "      <td>19.6346</td>\n",
       "      <td>5.8143e-06</td>\n",
       "      <td>25.3536</td>\n",
       "      <td>20.9947</td>\n",
       "      <td>20.0873</td>\n",
       "      <td>19.7947</td>\n",
       "      <td>19.5552</td>\n",
       "      <td>1.6094</td>\n",
       "      <td>3</td>\n",
       "      <td>1.2054</td>\n",
       "      <td>1.2061</td>\n",
       "      <td>1.2049</td>\n",
       "      <td>1.2051</td>\n",
       "      <td>1.2057</td>\n",
       "      <td>0.0</td>\n",
       "      <td>-0.3070</td>\n",
       "      <td>-0.1941</td>\n",
       "      <td>-0.1339</td>\n",
       "      <td>-0.1003</td>\n",
       "      <td>-0.0795</td>\n",
       "      <td>-0.9074</td>\n",
       "      <td>-1.2000</td>\n",
       "      <td>-1.4395</td>\n",
       "      <td>0.2926</td>\n",
       "      <td>0.5321</td>\n",
       "      <td>0.2395</td>\n",
       "      <td>-1.3906</td>\n",
       "      <td>-0.8936</td>\n",
       "      <td>-0.5544</td>\n",
       "      <td>3.1910</td>\n",
       "    </tr>\n",
       "    <tr>\n",
       "      <th>4</th>\n",
       "      <td>24.4534</td>\n",
       "      <td>20.6992</td>\n",
       "      <td>19.0424</td>\n",
       "      <td>18.3242</td>\n",
       "      <td>17.9826</td>\n",
       "      <td>-3.3247e-05</td>\n",
       "      <td>23.7714</td>\n",
       "      <td>20.4338</td>\n",
       "      <td>18.8630</td>\n",
       "      <td>18.1903</td>\n",
       "      <td>17.8759</td>\n",
       "      <td>2.6391</td>\n",
       "      <td>12</td>\n",
       "      <td>1.1939</td>\n",
       "      <td>1.1943</td>\n",
       "      <td>1.1937</td>\n",
       "      <td>1.1938</td>\n",
       "      <td>1.1941</td>\n",
       "      <td>0.0</td>\n",
       "      <td>-0.6820</td>\n",
       "      <td>-0.2653</td>\n",
       "      <td>-0.1794</td>\n",
       "      <td>-0.1339</td>\n",
       "      <td>-0.1067</td>\n",
       "      <td>-1.5709</td>\n",
       "      <td>-2.2436</td>\n",
       "      <td>-2.5579</td>\n",
       "      <td>0.6727</td>\n",
       "      <td>0.9871</td>\n",
       "      <td>0.3144</td>\n",
       "      <td>-9.3609</td>\n",
       "      <td>0.1220</td>\n",
       "      <td>0.0117</td>\n",
       "      <td>2.8239</td>\n",
       "    </tr>\n",
       "    <tr>\n",
       "      <th>6</th>\n",
       "      <td>23.9063</td>\n",
       "      <td>20.8472</td>\n",
       "      <td>19.9784</td>\n",
       "      <td>19.4952</td>\n",
       "      <td>19.0526</td>\n",
       "      <td>-4.2489e-05</td>\n",
       "      <td>23.8458</td>\n",
       "      <td>20.7000</td>\n",
       "      <td>19.8766</td>\n",
       "      <td>19.4205</td>\n",
       "      <td>19.0040</td>\n",
       "      <td>1.0986</td>\n",
       "      <td>2</td>\n",
       "      <td>1.2019</td>\n",
       "      <td>1.2020</td>\n",
       "      <td>1.2020</td>\n",
       "      <td>1.2019</td>\n",
       "      <td>1.2020</td>\n",
       "      <td>0.0</td>\n",
       "      <td>-0.0604</td>\n",
       "      <td>-0.1472</td>\n",
       "      <td>-0.1018</td>\n",
       "      <td>-0.0747</td>\n",
       "      <td>-0.0486</td>\n",
       "      <td>-0.8234</td>\n",
       "      <td>-1.2795</td>\n",
       "      <td>-1.6960</td>\n",
       "      <td>0.4561</td>\n",
       "      <td>0.8726</td>\n",
       "      <td>0.4165</td>\n",
       "      <td>-0.9014</td>\n",
       "      <td>-0.2559</td>\n",
       "      <td>-0.2540</td>\n",
       "      <td>1.8643</td>\n",
       "    </tr>\n",
       "  </tbody>\n",
       "</table>\n",
       "</div>"
      ],
      "text/plain": [
       "          u        g        r        i        z    redshift  dered_u  dered_g  \\\n",
       "id                                                                              \n",
       "0   23.2640  20.3368  19.0095  17.6724  16.9396 -8.1086e-05  23.1243  20.2578   \n",
       "2   16.7864  15.8254  15.5363  15.3935  15.3500  4.7198e-04  16.6076  15.6866   \n",
       "3   25.6606  21.1887  20.2212  19.8949  19.6346  5.8143e-06  25.3536  20.9947   \n",
       "4   24.4534  20.6992  19.0424  18.3242  17.9826 -3.3247e-05  23.7714  20.4338   \n",
       "6   23.9063  20.8472  19.9784  19.4952  19.0526 -4.2489e-05  23.8458  20.7000   \n",
       "\n",
       "    dered_r  dered_i  dered_z  nObserve  nDetect  airmass_u  airmass_g  \\\n",
       "id                                                                       \n",
       "0   18.9551  17.6321  16.9089    2.9444       18     1.1898     1.1907   \n",
       "2   15.4400  15.3217  15.2961    1.0986        2     1.0225     1.0241   \n",
       "3   20.0873  19.7947  19.5552    1.6094        3     1.2054     1.2061   \n",
       "4   18.8630  18.1903  17.8759    2.6391       12     1.1939     1.1943   \n",
       "6   19.8766  19.4205  19.0040    1.0986        2     1.2019     1.2020   \n",
       "\n",
       "    airmass_r  airmass_i  airmass_z  class  d_dered_u  d_dered_g  d_dered_r  \\\n",
       "id                                                                            \n",
       "0      1.1890     1.1894     1.1902    0.0    -0.1397    -0.0790    -0.0544   \n",
       "2      1.0210     1.0217     1.0233    0.0    -0.1787    -0.1388    -0.0963   \n",
       "3      1.2049     1.2051     1.2057    0.0    -0.3070    -0.1941    -0.1339   \n",
       "4      1.1937     1.1938     1.1941    0.0    -0.6820    -0.2653    -0.1794   \n",
       "6      1.2020     1.2019     1.2020    0.0    -0.0604    -0.1472    -0.1018   \n",
       "\n",
       "    d_dered_i  d_dered_z  d_dered_rg  d_dered_ig  d_dered_zg  d_dered_ri  \\\n",
       "id                                                                         \n",
       "0     -0.0403    -0.0307     -1.3027     -2.6257     -3.3488      1.3230   \n",
       "2     -0.0718    -0.0540     -0.2466     -0.3649     -0.3905      0.1183   \n",
       "3     -0.1003    -0.0795     -0.9074     -1.2000     -1.4395      0.2926   \n",
       "4     -0.1339    -0.1067     -1.5709     -2.2436     -2.5579      0.6727   \n",
       "6     -0.0747    -0.0486     -0.8234     -1.2795     -1.6960      0.4561   \n",
       "\n",
       "    d_dered_rz  d_dered_iz  d_obs_det  i-color  s-color      p1  \n",
       "id                                                               \n",
       "0       2.0462      0.7232   -15.0556   0.6094   0.0384  1.9346  \n",
       "2       0.1440      0.0257    -0.9014   0.0617  -0.0031 -0.2855  \n",
       "3       0.5321      0.2395    -1.3906  -0.8936  -0.5544  3.1910  \n",
       "4       0.9871      0.3144    -9.3609   0.1220   0.0117  2.8239  \n",
       "6       0.8726      0.4165    -0.9014  -0.2559  -0.2540  1.8643  "
      ]
     },
     "execution_count": 9,
     "metadata": {},
     "output_type": "execute_result"
    }
   ],
   "source": [
    "dataset['d_dered_u'] = dataset['dered_u'] - dataset['u']\n",
    "dataset['d_dered_g'] = dataset['dered_g'] - dataset['g']\n",
    "dataset['d_dered_r'] = dataset['dered_r'] - dataset['r']\n",
    "dataset['d_dered_i'] = dataset['dered_i'] - dataset['i']\n",
    "dataset['d_dered_z'] = dataset['dered_z'] - dataset['z']\n",
    "dataset['d_dered_rg'] = dataset['dered_r'] - dataset['dered_g']\n",
    "dataset['d_dered_ig'] = dataset['dered_i'] - dataset['dered_g']\n",
    "dataset['d_dered_zg'] = dataset['dered_z'] - dataset['dered_g']\n",
    "dataset['d_dered_ri'] = dataset['dered_r'] - dataset['dered_i']\n",
    "dataset['d_dered_rz'] = dataset['dered_r'] - dataset['dered_z']\n",
    "dataset['d_dered_iz'] = dataset['dered_i'] - dataset['dered_z']\n",
    "dataset['d_obs_det'] = dataset['nObserve'] - dataset['nDetect']\n",
    "\n",
    "dataset['i-color'] = -0.436*dataset['u']+1.129*dataset['g']- 0.119*dataset['r'] - 0.574*dataset['i'] + 0.1984\n",
    "dataset['s-color'] = -0.249*dataset['u'] + 0.794*dataset['g'] - 0.555*dataset['r'] + 0.234\n",
    "dataset['p1'] = 0.91*(dataset['u']-dataset['g']) + 0.415*(dataset['g']-dataset['r']) -1.280\n",
    "\n",
    "print(dataset.shape)\n",
    "dataset.head()"
   ]
  },
  {
   "cell_type": "code",
   "execution_count": 10,
   "metadata": {
    "ExecuteTime": {
     "end_time": "2020-09-22T12:07:17.007616Z",
     "start_time": "2020-09-22T12:07:16.881728Z"
    }
   },
   "outputs": [],
   "source": [
    "dataset.drop(['airmass_z', 'airmass_i', 'airmass_r', 'airmass_g', 'u', 'g', 'r', 'i', 'nDetect'], \n",
    "        axis=1, inplace=True)"
   ]
  },
  {
   "cell_type": "markdown",
   "metadata": {},
   "source": [
    "# 데이터셋 분리"
   ]
  },
  {
   "cell_type": "code",
   "execution_count": 11,
   "metadata": {
    "ExecuteTime": {
     "end_time": "2020-09-22T12:07:18.431321Z",
     "start_time": "2020-09-22T12:07:17.811040Z"
    }
   },
   "outputs": [],
   "source": [
    "from sklearn.model_selection import train_test_split \n",
    "\n",
    "# train set\n",
    "X = dataset.loc[ dataset['class'] != -1 , :]\n",
    "X.drop(columns='class',inplace=True,axis=1)\n",
    "y = dataset.loc[ dataset['class'] != -1, 'class']\n",
    "y.astype(int)\n",
    "\n",
    "# test set\n",
    "test = dataset.loc[ dataset['class'] == -1, :]\n",
    "test.drop(columns='class', inplace=True,axis=1)\n",
    "\n",
    "# train set split\n",
    "SEED = 2020\n",
    "X_train, X_test, y_train, y_test = train_test_split(X, y, test_size=0.3, random_state = SEED)"
   ]
  },
  {
   "cell_type": "markdown",
   "metadata": {
    "ExecuteTime": {
     "end_time": "2020-09-17T11:57:26.962900Z",
     "start_time": "2020-09-17T11:57:26.930313Z"
    }
   },
   "source": [
    "# 모델 학습"
   ]
  },
  {
   "cell_type": "code",
   "execution_count": 12,
   "metadata": {
    "ExecuteTime": {
     "end_time": "2020-09-22T12:07:21.078791Z",
     "start_time": "2020-09-22T12:07:21.050807Z"
    }
   },
   "outputs": [],
   "source": [
    "from sklearn.metrics import accuracy_score \n",
    "from sklearn.metrics import mean_squared_error \n",
    "\n",
    "\n",
    "from sklearn.preprocessing import StandardScaler\n",
    "from sklearn.pipeline import make_pipeline"
   ]
  },
  {
   "cell_type": "code",
   "execution_count": 14,
   "metadata": {
    "ExecuteTime": {
     "end_time": "2020-09-22T12:08:03.922302Z",
     "start_time": "2020-09-22T12:08:03.890947Z"
    }
   },
   "outputs": [],
   "source": [
    "from sklearn.tree import DecisionTreeClassifier"
   ]
  },
  {
   "cell_type": "code",
   "execution_count": 15,
   "metadata": {
    "ExecuteTime": {
     "end_time": "2020-09-22T12:08:05.620268Z",
     "start_time": "2020-09-22T12:08:05.255641Z"
    }
   },
   "outputs": [
    {
     "data": {
      "text/plain": [
       "DecisionTreeClassifier(max_depth=5, max_features='sqrt', min_samples_leaf=10,\n",
       "                       random_state=2020)"
      ]
     },
     "execution_count": 15,
     "metadata": {},
     "output_type": "execute_result"
    }
   ],
   "source": [
    "df_parmas = {\n",
    "    'max_depth': 5,\n",
    "    'min_samples_leaf': 10,\n",
    "    'max_features': 'sqrt',\n",
    "    'random_state': 2020\n",
    "}\n",
    "\n",
    "clf = DecisionTreeClassifier(**df_parmas)\n",
    "clf.fit(X_train,y_train)"
   ]
  },
  {
   "cell_type": "code",
   "execution_count": 16,
   "metadata": {
    "ExecuteTime": {
     "end_time": "2020-09-22T12:08:06.437955Z",
     "start_time": "2020-09-22T12:08:06.397557Z"
    }
   },
   "outputs": [
    {
     "name": "stdout",
     "output_type": "stream",
     "text": [
      "82.1424%\n"
     ]
    }
   ],
   "source": [
    "print(f'{accuracy_score(y_test, clf.predict(X_test)) * 100:.4f}%')"
   ]
  },
  {
   "cell_type": "markdown",
   "metadata": {},
   "source": [
    "# 시험 데이터 예측"
   ]
  },
  {
   "cell_type": "code",
   "execution_count": 19,
   "metadata": {
    "ExecuteTime": {
     "end_time": "2020-09-22T12:10:36.579435Z",
     "start_time": "2020-09-22T12:10:36.510072Z"
    }
   },
   "outputs": [],
   "source": [
    "submission = pd.read_csv(sample_file, index_col=0)\n",
    "submission[target_column] = clf.predict(test)"
   ]
  },
  {
   "cell_type": "code",
   "execution_count": 21,
   "metadata": {
    "ExecuteTime": {
     "end_time": "2020-09-22T12:10:49.311735Z",
     "start_time": "2020-09-22T12:10:49.281569Z"
    }
   },
   "outputs": [
    {
     "data": {
      "text/plain": [
       "2.0    47993\n",
       "0.0    30640\n",
       "1.0     1367\n",
       "Name: class, dtype: int64"
      ]
     },
     "execution_count": 21,
     "metadata": {},
     "output_type": "execute_result"
    }
   ],
   "source": [
    "submission[target_column].value_counts()"
   ]
  },
  {
   "cell_type": "markdown",
   "metadata": {},
   "source": [
    "# 제출파일 저장"
   ]
  },
  {
   "cell_type": "code",
   "execution_count": 23,
   "metadata": {
    "ExecuteTime": {
     "end_time": "2020-09-22T12:11:34.938435Z",
     "start_time": "2020-09-22T12:11:34.768496Z"
    }
   },
   "outputs": [],
   "source": [
    "submission.to_csv(sub_file)"
   ]
  },
  {
   "cell_type": "code",
   "execution_count": null,
   "metadata": {},
   "outputs": [],
   "source": []
  }
 ],
 "metadata": {
  "kernelspec": {
   "display_name": "Python 3",
   "language": "python",
   "name": "python3"
  },
  "language_info": {
   "codemirror_mode": {
    "name": "ipython",
    "version": 3
   },
   "file_extension": ".py",
   "mimetype": "text/x-python",
   "name": "python",
   "nbconvert_exporter": "python",
   "pygments_lexer": "ipython3",
   "version": "3.8.2"
  },
  "toc": {
   "base_numbering": 1,
   "nav_menu": {},
   "number_sections": true,
   "sideBar": true,
   "skip_h1_title": false,
   "title_cell": "Table of Contents",
   "title_sidebar": "Contents",
   "toc_cell": false,
   "toc_position": {},
   "toc_section_display": true,
   "toc_window_display": false
  },
  "varInspector": {
   "cols": {
    "lenName": 16,
    "lenType": 16,
    "lenVar": 40
   },
   "kernels_config": {
    "python": {
     "delete_cmd_postfix": "",
     "delete_cmd_prefix": "del ",
     "library": "var_list.py",
     "varRefreshCmd": "print(var_dic_list())"
    },
    "r": {
     "delete_cmd_postfix": ") ",
     "delete_cmd_prefix": "rm(",
     "library": "var_list.r",
     "varRefreshCmd": "cat(var_dic_list()) "
    }
   },
   "types_to_exclude": [
    "module",
    "function",
    "builtin_function_or_method",
    "instance",
    "_Feature"
   ],
   "window_display": false
  }
 },
 "nbformat": 4,
 "nbformat_minor": 2
}
