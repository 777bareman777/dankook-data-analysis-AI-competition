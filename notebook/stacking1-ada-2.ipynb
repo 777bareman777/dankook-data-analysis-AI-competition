{
 "cells": [
  {
   "cell_type": "code",
   "execution_count": 1,
   "metadata": {
    "ExecuteTime": {
     "end_time": "2020-10-04T13:04:17.218920Z",
     "start_time": "2020-10-04T13:04:16.653985Z"
    },
    "executionInfo": {
     "elapsed": 987,
     "status": "ok",
     "timestamp": 1601810416546,
     "user": {
      "displayName": "초보 개발자",
      "photoUrl": "https://lh3.googleusercontent.com/a-/AOh14GjwuaaIJMBxd-C-hVJfn1aom04Ryk7Wt0sM-t03=s64",
      "userId": "04026815740573691214"
     },
     "user_tz": -540
    },
    "id": "qYWU3VILfKgO"
   },
   "outputs": [],
   "source": [
    "%reload_ext autoreload\n",
    "%autoreload 2\n",
    "%matplotlib inline"
   ]
  },
  {
   "cell_type": "code",
   "execution_count": 2,
   "metadata": {
    "ExecuteTime": {
     "end_time": "2020-10-04T13:04:18.956504Z",
     "start_time": "2020-10-04T13:04:17.220993Z"
    },
    "executionInfo": {
     "elapsed": 1964,
     "status": "ok",
     "timestamp": 1601810417532,
     "user": {
      "displayName": "초보 개발자",
      "photoUrl": "https://lh3.googleusercontent.com/a-/AOh14GjwuaaIJMBxd-C-hVJfn1aom04Ryk7Wt0sM-t03=s64",
      "userId": "04026815740573691214"
     },
     "user_tz": -540
    },
    "id": "y-Yt05wlf57T"
   },
   "outputs": [],
   "source": [
    "import numpy as np\n",
    "import pandas as pd\n",
    "\n",
    "from tqdm import tqdm\n",
    "\n",
    "import warnings\n",
    "from pathlib import Path\n",
    "\n",
    "from sklearn.metrics import log_loss\n",
    "from sklearn.model_selection import StratifiedKFold\n",
    "\n",
    "from sklearn.ensemble import AdaBoostClassifier\n",
    "from sklearn.ensemble import RandomForestClassifier\n",
    "\n",
    "from scipy.optimize import minimize"
   ]
  },
  {
   "cell_type": "code",
   "execution_count": 3,
   "metadata": {
    "ExecuteTime": {
     "end_time": "2020-10-04T13:04:18.992191Z",
     "start_time": "2020-10-04T13:04:18.960234Z"
    },
    "executionInfo": {
     "elapsed": 1958,
     "status": "ok",
     "timestamp": 1601810417533,
     "user": {
      "displayName": "초보 개발자",
      "photoUrl": "https://lh3.googleusercontent.com/a-/AOh14GjwuaaIJMBxd-C-hVJfn1aom04Ryk7Wt0sM-t03=s64",
      "userId": "04026815740573691214"
     },
     "user_tz": -540
    },
    "id": "0c5Hugt8f5FM"
   },
   "outputs": [],
   "source": [
    "pd.set_option('max_columns', 100)\n",
    "pd.set_option('display.precision', 4)\n",
    "\n",
    "warnings.filterwarnings('ignore')"
   ]
  },
  {
   "cell_type": "markdown",
   "metadata": {
    "id": "DgF5VBQNf5Hg"
   },
   "source": [
    "# 데이터 로드"
   ]
  },
  {
   "cell_type": "code",
   "execution_count": 4,
   "metadata": {
    "ExecuteTime": {
     "end_time": "2020-10-04T13:04:19.023610Z",
     "start_time": "2020-10-04T13:04:18.995435Z"
    },
    "executionInfo": {
     "elapsed": 1952,
     "status": "ok",
     "timestamp": 1601810417534,
     "user": {
      "displayName": "초보 개발자",
      "photoUrl": "https://lh3.googleusercontent.com/a-/AOh14GjwuaaIJMBxd-C-hVJfn1aom04Ryk7Wt0sM-t03=s64",
      "userId": "04026815740573691214"
     },
     "user_tz": -540
    },
    "id": "vlSuesYQf5Jk"
   },
   "outputs": [],
   "source": [
    "# 로컬 버전\n",
    "\n",
    "data_dir = Path('../input/dankook')\n",
    "feature_dir = Path('../output/feature')\n",
    "val_dir = Path('../output/oof_pred')\n",
    "test_dir = Path('../output/test_pred')\n",
    "sub_dir = Path('../output/sub')\n",
    "\n",
    "\n",
    "train_file = data_dir / 'train.csv'\n",
    "test_file = data_dir / 'test.csv'\n",
    "sample_file = data_dir / 'sample_submission.csv'"
   ]
  },
  {
   "cell_type": "code",
   "execution_count": 5,
   "metadata": {
    "ExecuteTime": {
     "end_time": "2020-10-04T13:04:19.054759Z",
     "start_time": "2020-10-04T13:04:19.025723Z"
    },
    "colab": {
     "base_uri": "https://localhost:8080/",
     "height": 34
    },
    "executionInfo": {
     "elapsed": 16770,
     "status": "ok",
     "timestamp": 1601810432359,
     "user": {
      "displayName": "초보 개발자",
      "photoUrl": "https://lh3.googleusercontent.com/a-/AOh14GjwuaaIJMBxd-C-hVJfn1aom04Ryk7Wt0sM-t03=s64",
      "userId": "04026815740573691214"
     },
     "user_tz": -540
    },
    "id": "XpdYI7Hif5MN",
    "outputId": "96bd2c01-e125-4132-b840-fe546df82057"
   },
   "outputs": [],
   "source": [
    "# # 코렙 \n",
    "\n",
    "# from google.colab import drive\n",
    "# drive.mount('/content/drive')\n",
    "\n",
    "# data_dir = Path('/content/drive/My Drive/Colab Notebooks/input/dankook')\n",
    "# feature_dir = Path('/content/drive/My Drive/Colab Notebooks/output/feature')\n",
    "# val_dir = Path('/content/drive/My Drive/Colab Notebooks/output/oof_pred')\n",
    "# test_dir = Path('/content/drive/My Drive/Colab Notebooks/output/test_pred')\n",
    "# sub_dir = Path('/content/drive/My Drive/Colab Notebooks/output/sub')\n",
    "\n",
    "# train_file = data_dir / 'train.csv'\n",
    "# test_file = data_dir / 'test.csv'\n",
    "# sample_file = data_dir / 'sample_submission.csv'"
   ]
  },
  {
   "cell_type": "code",
   "execution_count": 6,
   "metadata": {
    "ExecuteTime": {
     "end_time": "2020-10-04T13:04:19.086500Z",
     "start_time": "2020-10-04T13:04:19.056592Z"
    },
    "executionInfo": {
     "elapsed": 16761,
     "status": "ok",
     "timestamp": 1601810432360,
     "user": {
      "displayName": "초보 개발자",
      "photoUrl": "https://lh3.googleusercontent.com/a-/AOh14GjwuaaIJMBxd-C-hVJfn1aom04Ryk7Wt0sM-t03=s64",
      "userId": "04026815740573691214"
     },
     "user_tz": -540
    },
    "id": "4AEkySZlf5Oh"
   },
   "outputs": [],
   "source": [
    "algorithm_name = 'adacv'\n",
    "feature_name = 'stacking1'\n",
    "model_name = f'{algorithm_name}_{feature_name}_2'\n",
    "\n",
    "feature_Ver1_file = feature_dir / f'{feature_name}_Ver1.csv'\n",
    "feature_Ver2_file = feature_dir / f'{feature_name}_Ver2.csv'\n",
    "feature_target_file = feature_dir / f'feature_target.csv'\n",
    "\n",
    "stacking1_oof_pred_file = val_dir / f'{model_name}_oof_pred.csv'\n",
    "stacking1_test_pred_file = test_dir / f'{model_name}_test_pred.csv'\n",
    "stacking1_submission_file = sub_dir / f'{model_name}_submission.csv'"
   ]
  },
  {
   "cell_type": "code",
   "execution_count": 7,
   "metadata": {
    "ExecuteTime": {
     "end_time": "2020-10-04T13:04:19.119001Z",
     "start_time": "2020-10-04T13:04:19.088237Z"
    },
    "executionInfo": {
     "elapsed": 16755,
     "status": "ok",
     "timestamp": 1601810432361,
     "user": {
      "displayName": "초보 개발자",
      "photoUrl": "https://lh3.googleusercontent.com/a-/AOh14GjwuaaIJMBxd-C-hVJfn1aom04Ryk7Wt0sM-t03=s64",
      "userId": "04026815740573691214"
     },
     "user_tz": -540
    },
    "id": "yoicve7vkg1a"
   },
   "outputs": [],
   "source": [
    "SEED = 2020\n",
    "num_class = 3\n",
    "n_splits = 5\n",
    "target_column = 'class'"
   ]
  },
  {
   "cell_type": "markdown",
   "metadata": {
    "id": "XHnKJW3of5QS"
   },
   "source": [
    "# Stacking Feature 생성"
   ]
  },
  {
   "cell_type": "code",
   "execution_count": 8,
   "metadata": {
    "ExecuteTime": {
     "end_time": "2020-10-04T13:04:19.165254Z",
     "start_time": "2020-10-04T13:04:19.123438Z"
    },
    "executionInfo": {
     "elapsed": 16749,
     "status": "ok",
     "timestamp": 1601810432362,
     "user": {
      "displayName": "초보 개발자",
      "photoUrl": "https://lh3.googleusercontent.com/a-/AOh14GjwuaaIJMBxd-C-hVJfn1aom04Ryk7Wt0sM-t03=s64",
      "userId": "04026815740573691214"
     },
     "user_tz": -540
    },
    "id": "JOMEtgXN9mXk"
   },
   "outputs": [],
   "source": [
    "def load_data(model_names, oof_list, test_list, feature_names=None,number_of_versions=None):\n",
    "    if number_of_versions == None or number_of_versions == 1:\n",
    "        for model in model_names:\n",
    "            oof_list.append(np.loadtxt(val_dir / f'{model}_oof_pred_ver1.csv',delimiter=','))\n",
    "            test_list.append(np.loadtxt(test_dir / f'{model}_test_pred_ver1.csv', delimiter=','))\n",
    "            if feature_names != None:\n",
    "                feature_names += [f'{model}_ver1_class0', f'{model}_ver1_class1', f'{model}_ver1_class2']\n",
    "    elif number_of_versions == 2:\n",
    "        for model in model_names:\n",
    "            oof_list.append(np.loadtxt(val_dir / f'{model}_oof_pred_ver1.csv',delimiter=','))\n",
    "            oof_list.append(np.loadtxt(val_dir / f'{model}_oof_pred_ver2.csv', delimiter=','))\n",
    "            test_list.append(np.loadtxt(test_dir / f'{model}_test_pred_ver1.csv',delimiter=','))\n",
    "            test_list.append(np.loadtxt(test_dir / f'{model}_test_pred_ver2.csv', delimiter=','))\n",
    "            if feature_names != None:\n",
    "                feature_names += [f'{model}_ver1_class0', f'{model}_ver1_class1', f'{model}_ver1_class2',\n",
    "                                  f'{model}_ver2_class0',f'{model}_ver2_class1',f'{model}_ver2_class2']\n",
    "    elif number_of_versions == 2.1:\n",
    "        for model in model_names:\n",
    "            oof_list.append(np.loadtxt(val_dir / f'{model}_oof_pred_ver1.csv',delimiter=','))\n",
    "            oof_list.append(np.loadtxt(val_dir / f'{model}_oof_pred_ver3.csv', delimiter=','))\n",
    "            test_list.append(np.loadtxt(test_dir / f'{model}_test_pred_ver1.csv',delimiter=','))\n",
    "            test_list.append(np.loadtxt(test_dir / f'{model}_test_pred_ver3.csv', delimiter=','))\n",
    "            if feature_names != None:\n",
    "                feature_names += [f'{model}_ver1_class0', f'{model}_ver1_class1', f'{model}_ver1_class2',\n",
    "                                  f'{model}_ver3_class0',f'{model}_ver3_class1',f'{model}_ver3_class2']\n",
    "    elif number_of_versions == 3:\n",
    "        for model in model_names:\n",
    "            oof_list.append(np.loadtxt(val_dir / f'{model}_oof_pred_ver1.csv',delimiter=','))\n",
    "            oof_list.append(np.loadtxt(val_dir / f'{model}_oof_pred_ver2.csv', delimiter=','))\n",
    "            oof_list.append(np.loadtxt(val_dir / f'{model}_oof_pred_ver3.csv', delimiter=','))\n",
    "            test_list.append(np.loadtxt(test_dir / f'{model}_test_pred_ver1.csv',delimiter=','))\n",
    "            test_list.append(np.loadtxt(test_dir / f'{model}_test_pred_ver2.csv', delimiter=','))\n",
    "            test_list.append(np.loadtxt(test_dir / f'{model}_test_pred_ver3.csv', delimiter=','))\n",
    "            if feature_names != None:\n",
    "                feature_names += [f'{model}_ver1_class0', f'{model}_ver1_class1', f'{model}_ver1_class2',\n",
    "                                  f'{model}_ver2_class0',f'{model}_ver2_class1', f'{model}_ver2_class2',\n",
    "                                  f'{model}_ver3_class0', f'{model}_ver3_class1',f'{model}_ver3_class2']"
   ]
  },
  {
   "cell_type": "code",
   "execution_count": 9,
   "metadata": {
    "ExecuteTime": {
     "end_time": "2020-10-04T13:06:48.264585Z",
     "start_time": "2020-10-04T13:04:19.169873Z"
    },
    "colab": {
     "base_uri": "https://localhost:8080/",
     "height": 1000
    },
    "executionInfo": {
     "elapsed": 169772,
     "status": "ok",
     "timestamp": 1601810585392,
     "user": {
      "displayName": "초보 개발자",
      "photoUrl": "https://lh3.googleusercontent.com/a-/AOh14GjwuaaIJMBxd-C-hVJfn1aom04Ryk7Wt0sM-t03=s64",
      "userId": "04026815740573691214"
     },
     "user_tz": -540
    },
    "id": "_pZTd76wf5Sd",
    "outputId": "bca35acb-a78d-419f-cb51-56839793a665"
   },
   "outputs": [
    {
     "data": {
      "text/plain": [
       "((319923, 138),\n",
       " (80000, 138),\n",
       " ['lrcv_feature_ver1_class0',\n",
       "  'lrcv_feature_ver1_class1',\n",
       "  'lrcv_feature_ver1_class2',\n",
       "  'lrcv_feature_ver2_class0',\n",
       "  'lrcv_feature_ver2_class1',\n",
       "  'lrcv_feature_ver2_class2',\n",
       "  'lrcv_feature_ver3_class0',\n",
       "  'lrcv_feature_ver3_class1',\n",
       "  'lrcv_feature_ver3_class2',\n",
       "  'etscv_feature_ver1_class0',\n",
       "  'etscv_feature_ver1_class1',\n",
       "  'etscv_feature_ver1_class2',\n",
       "  'etscv_feature_ver2_class0',\n",
       "  'etscv_feature_ver2_class1',\n",
       "  'etscv_feature_ver2_class2',\n",
       "  'etscv_feature_ver3_class0',\n",
       "  'etscv_feature_ver3_class1',\n",
       "  'etscv_feature_ver3_class2',\n",
       "  'rfcv_feature_ver1_class0',\n",
       "  'rfcv_feature_ver1_class1',\n",
       "  'rfcv_feature_ver1_class2',\n",
       "  'rfcv_feature_ver2_class0',\n",
       "  'rfcv_feature_ver2_class1',\n",
       "  'rfcv_feature_ver2_class2',\n",
       "  'rfcv_feature_ver3_class0',\n",
       "  'rfcv_feature_ver3_class1',\n",
       "  'rfcv_feature_ver3_class2',\n",
       "  'gbcv_feature_ver1_class0',\n",
       "  'gbcv_feature_ver1_class1',\n",
       "  'gbcv_feature_ver1_class2',\n",
       "  'gbcv_feature_ver2_class0',\n",
       "  'gbcv_feature_ver2_class1',\n",
       "  'gbcv_feature_ver2_class2',\n",
       "  'gbcv_feature_ver3_class0',\n",
       "  'gbcv_feature_ver3_class1',\n",
       "  'gbcv_feature_ver3_class2',\n",
       "  'xgbcv_feature_ver1_class0',\n",
       "  'xgbcv_feature_ver1_class1',\n",
       "  'xgbcv_feature_ver1_class2',\n",
       "  'xgbcv_feature_ver2_class0',\n",
       "  'xgbcv_feature_ver2_class1',\n",
       "  'xgbcv_feature_ver2_class2',\n",
       "  'xgbcv_feature_ver3_class0',\n",
       "  'xgbcv_feature_ver3_class1',\n",
       "  'xgbcv_feature_ver3_class2',\n",
       "  'lgbmcv_feature_ver1_class0',\n",
       "  'lgbmcv_feature_ver1_class1',\n",
       "  'lgbmcv_feature_ver1_class2',\n",
       "  'lgbmcv_feature_ver2_class0',\n",
       "  'lgbmcv_feature_ver2_class1',\n",
       "  'lgbmcv_feature_ver2_class2',\n",
       "  'lgbmcv_feature_ver3_class0',\n",
       "  'lgbmcv_feature_ver3_class1',\n",
       "  'lgbmcv_feature_ver3_class2',\n",
       "  'adacv_feature_ver1_class0',\n",
       "  'adacv_feature_ver1_class1',\n",
       "  'adacv_feature_ver1_class2',\n",
       "  'adacv_feature_ver2_class0',\n",
       "  'adacv_feature_ver2_class1',\n",
       "  'adacv_feature_ver2_class2',\n",
       "  'adacv_feature_ver3_class0',\n",
       "  'adacv_feature_ver3_class1',\n",
       "  'adacv_feature_ver3_class2',\n",
       "  'adacv_feature_2_ver1_class0',\n",
       "  'adacv_feature_2_ver1_class1',\n",
       "  'adacv_feature_2_ver1_class2',\n",
       "  'adacv_feature_2_ver2_class0',\n",
       "  'adacv_feature_2_ver2_class1',\n",
       "  'adacv_feature_2_ver2_class2',\n",
       "  'adacv_feature_2_ver3_class0',\n",
       "  'adacv_feature_2_ver3_class1',\n",
       "  'adacv_feature_2_ver3_class2',\n",
       "  'lrcv_polynomial_feature_ver1_class0',\n",
       "  'lrcv_polynomial_feature_ver1_class1',\n",
       "  'lrcv_polynomial_feature_ver1_class2',\n",
       "  'lrcv_polynomial_feature_ver2_class0',\n",
       "  'lrcv_polynomial_feature_ver2_class1',\n",
       "  'lrcv_polynomial_feature_ver2_class2',\n",
       "  'lrcv_polynomial_feature_ver3_class0',\n",
       "  'lrcv_polynomial_feature_ver3_class1',\n",
       "  'lrcv_polynomial_feature_ver3_class2',\n",
       "  'rfcv_polynomial_feature_ver1_class0',\n",
       "  'rfcv_polynomial_feature_ver1_class1',\n",
       "  'rfcv_polynomial_feature_ver1_class2',\n",
       "  'rfcv_polynomial_feature_ver2_class0',\n",
       "  'rfcv_polynomial_feature_ver2_class1',\n",
       "  'rfcv_polynomial_feature_ver2_class2',\n",
       "  'rfcv_polynomial_feature_ver3_class0',\n",
       "  'rfcv_polynomial_feature_ver3_class1',\n",
       "  'rfcv_polynomial_feature_ver3_class2',\n",
       "  'etscv_polynomial_feature_ver1_class0',\n",
       "  'etscv_polynomial_feature_ver1_class1',\n",
       "  'etscv_polynomial_feature_ver1_class2',\n",
       "  'etscv_polynomial_feature_ver2_class0',\n",
       "  'etscv_polynomial_feature_ver2_class1',\n",
       "  'etscv_polynomial_feature_ver2_class2',\n",
       "  'etscv_polynomial_feature_ver3_class0',\n",
       "  'etscv_polynomial_feature_ver3_class1',\n",
       "  'etscv_polynomial_feature_ver3_class2',\n",
       "  'gbcv_polynomial_feature_ver1_class0',\n",
       "  'gbcv_polynomial_feature_ver1_class1',\n",
       "  'gbcv_polynomial_feature_ver1_class2',\n",
       "  'gbcv_polynomial_feature_ver2_class0',\n",
       "  'gbcv_polynomial_feature_ver2_class1',\n",
       "  'gbcv_polynomial_feature_ver2_class2',\n",
       "  'gbcv_polynomial_feature_ver3_class0',\n",
       "  'gbcv_polynomial_feature_ver3_class1',\n",
       "  'gbcv_polynomial_feature_ver3_class2',\n",
       "  'adacv_polynomial_feature_ver1_class0',\n",
       "  'adacv_polynomial_feature_ver1_class1',\n",
       "  'adacv_polynomial_feature_ver1_class2',\n",
       "  'adacv_polynomial_feature_ver2_class0',\n",
       "  'adacv_polynomial_feature_ver2_class1',\n",
       "  'adacv_polynomial_feature_ver2_class2',\n",
       "  'adacv_polynomial_feature_ver3_class0',\n",
       "  'adacv_polynomial_feature_ver3_class1',\n",
       "  'adacv_polynomial_feature_ver3_class2',\n",
       "  'adacv_polynomial_feature_2_ver1_class0',\n",
       "  'adacv_polynomial_feature_2_ver1_class1',\n",
       "  'adacv_polynomial_feature_2_ver1_class2',\n",
       "  'adacv_polynomial_feature_2_ver2_class0',\n",
       "  'adacv_polynomial_feature_2_ver2_class1',\n",
       "  'adacv_polynomial_feature_2_ver2_class2',\n",
       "  'adacv_polynomial_feature_2_ver3_class0',\n",
       "  'adacv_polynomial_feature_2_ver3_class1',\n",
       "  'adacv_polynomial_feature_2_ver3_class2',\n",
       "  'xgbcv_polynomial_feature_ver1_class0',\n",
       "  'xgbcv_polynomial_feature_ver1_class1',\n",
       "  'xgbcv_polynomial_feature_ver1_class2',\n",
       "  'xgbcv_polynomial_feature_ver3_class0',\n",
       "  'xgbcv_polynomial_feature_ver3_class1',\n",
       "  'xgbcv_polynomial_feature_ver3_class2',\n",
       "  'lgbmcv_polynomial_feature_ver1_class0',\n",
       "  'lgbmcv_polynomial_feature_ver1_class1',\n",
       "  'lgbmcv_polynomial_feature_ver1_class2',\n",
       "  'lgbmcv_polynomial_feature_ver3_class0',\n",
       "  'lgbmcv_polynomial_feature_ver3_class1',\n",
       "  'lgbmcv_polynomial_feature_ver3_class2'])"
      ]
     },
     "execution_count": 9,
     "metadata": {},
     "output_type": "execute_result"
    }
   ],
   "source": [
    "all_oof = []\n",
    "all_test = []\n",
    "feature_names = []\n",
    "\n",
    "model_names = ['lrcv_feature', 'etscv_feature', 'rfcv_feature', 'gbcv_feature','xgbcv_feature','lgbmcv_feature','adacv_feature','adacv_feature_2']\n",
    "load_data(model_names, all_oof, all_test, feature_names,3)\n",
    "\n",
    "model_names = ['lrcv_polynomial_feature','rfcv_polynomial_feature','etscv_polynomial_feature','gbcv_polynomial_feature','adacv_polynomial_feature','adacv_polynomial_feature_2']\n",
    "load_data(model_names,all_oof, all_test,feature_names,3)\n",
    "\n",
    "model_names = ['xgbcv_polynomial_feature','lgbmcv_polynomial_feature']\n",
    "load_data(model_names,all_oof, all_test,feature_names,2.1)\n",
    "\n",
    "all_oof = np.column_stack(all_oof)\n",
    "all_test = np.column_stack(all_test)\n",
    "all_oof.shape, all_test.shape, feature_names"
   ]
  },
  {
   "cell_type": "code",
   "execution_count": 11,
   "metadata": {
    "ExecuteTime": {
     "end_time": "2020-10-04T13:07:22.384501Z",
     "start_time": "2020-10-04T13:07:22.253384Z"
    },
    "colab": {
     "base_uri": "https://localhost:8080/",
     "height": 34
    },
    "executionInfo": {
     "elapsed": 169765,
     "status": "ok",
     "timestamp": 1601810585394,
     "user": {
      "displayName": "초보 개발자",
      "photoUrl": "https://lh3.googleusercontent.com/a-/AOh14GjwuaaIJMBxd-C-hVJfn1aom04Ryk7Wt0sM-t03=s64",
      "userId": "04026815740573691214"
     },
     "user_tz": -540
    },
    "id": "ZwCyrN0jjuxp",
    "outputId": "cf2594ab-0e6e-4885-e047-97c8effe3cc1"
   },
   "outputs": [
    {
     "data": {
      "text/plain": [
       "(319923,)"
      ]
     },
     "execution_count": 11,
     "metadata": {},
     "output_type": "execute_result"
    }
   ],
   "source": [
    "y = pd.read_csv(feature_target_file, index_col=0, usecols=['id',target_column]).values.flatten()\n",
    "y.shape"
   ]
  },
  {
   "cell_type": "markdown",
   "metadata": {
    "id": "y9j967_akXWH"
   },
   "source": [
    "# Stacking\n",
    "\n",
    "- 각 oof마다 fold별로 logloos의 변동이 있으므로 최대한 정보를 뽑아내고자 스태킹을 함."
   ]
  },
  {
   "cell_type": "code",
   "execution_count": 12,
   "metadata": {
    "ExecuteTime": {
     "end_time": "2020-10-04T13:07:22.419918Z",
     "start_time": "2020-10-04T13:07:22.387582Z"
    },
    "executionInfo": {
     "elapsed": 170069,
     "status": "ok",
     "timestamp": 1601810585711,
     "user": {
      "displayName": "초보 개발자",
      "photoUrl": "https://lh3.googleusercontent.com/a-/AOh14GjwuaaIJMBxd-C-hVJfn1aom04Ryk7Wt0sM-t03=s64",
      "userId": "04026815740573691214"
     },
     "user_tz": -540
    },
    "id": "JLj3T0Y6k8gI"
   },
   "outputs": [],
   "source": [
    "# Random Forest parameters\n",
    "rf_params = {\n",
    "    'n_jobs': -1,\n",
    "    'n_estimators': 100,\n",
    "    'max_features' : 'sqrt',\n",
    "    'verbose' : 0,\n",
    "    'random_state': 2020\n",
    "}\n",
    "\n",
    "rf_clf = RandomForestClassifier(**rf_params)\n",
    "\n",
    "# Ada Boost Classifier parameters\n",
    "ada_params = {\n",
    "    'base_estimator': rf_clf,\n",
    "    'n_estimators': 100,\n",
    "    'learning_rate': 0.1,\n",
    "    'algorithm': 'SAMME.R',\n",
    "    'random_state': 2020\n",
    "}"
   ]
  },
  {
   "cell_type": "code",
   "execution_count": 13,
   "metadata": {
    "ExecuteTime": {
     "end_time": "2020-10-04T13:57:06.356365Z",
     "start_time": "2020-10-04T13:07:22.423766Z"
    },
    "colab": {
     "base_uri": "https://localhost:8080/",
     "height": 68
    },
    "id": "67Gcb9twk0tq",
    "outputId": "6f19a3a0-cb68-48c1-bbd0-b8870ae1ec08"
   },
   "outputs": [
    {
     "name": "stdout",
     "output_type": "stream",
     "text": [
      "Traning model for CV #1\n",
      "1 logloss = 0.1714212057802204\n",
      "Traning model for CV #2\n",
      "2 logloss = 0.16979062915291085\n",
      "Traning model for CV #3\n",
      "3 logloss = 0.16284484123956214\n",
      "Traning model for CV #4\n",
      "4 logloss = 0.16457147714420803\n",
      "Traning model for CV #5\n",
      "5 logloss = 0.15980324080758862\n",
      "mean logloss=  0.165686278824898\n"
     ]
    }
   ],
   "source": [
    "mlogloss = []\n",
    "\n",
    "stk_oof_pred = np.zeros((all_oof.shape[0],num_class))\n",
    "stk_test_pred = np.zeros((all_test.shape[0],num_class))\n",
    "\n",
    "kFold = StratifiedKFold(n_splits=n_splits, random_state=2020, shuffle=True)\n",
    "for fold, (trn_idx, val_idx) in enumerate(kFold.split(all_oof,y)):\n",
    "    print(f'Traning model for CV #{fold+1}')\n",
    "    X_train, X_val = all_oof[trn_idx], all_oof[val_idx]\n",
    "    y_train, y_val = y[trn_idx], y[val_idx]\n",
    "\n",
    "    ada_clf = AdaBoostClassifier(**ada_params)\n",
    "    ada_clf.fit(X_train,y_train)\n",
    "\n",
    "    stk_test_pred += ada_clf.predict_proba(all_test) / n_splits\n",
    "    stk_oof_pred[val_idx] += ada_clf.predict_proba(X_val)\n",
    "\n",
    "    mlogloss.append(log_loss(y_val,stk_oof_pred[val_idx]))\n",
    "    print(f'{fold+1} logloss = {log_loss(y_val,stk_oof_pred[val_idx])}')\n",
    "\n",
    "print('mean logloss= ', np.mean(mlogloss))"
   ]
  },
  {
   "cell_type": "markdown",
   "metadata": {
    "id": "L5sqmXXtrghY"
   },
   "source": [
    "# 제출 파일 및 기타 파일 생성"
   ]
  },
  {
   "cell_type": "code",
   "execution_count": 14,
   "metadata": {
    "ExecuteTime": {
     "end_time": "2020-10-04T13:57:06.676060Z",
     "start_time": "2020-10-04T13:57:06.360845Z"
    },
    "id": "4sjJdQ_1qsLH"
   },
   "outputs": [],
   "source": [
    "# submission 파일 생성\n",
    "\n",
    "sub = pd.read_csv(sample_file)\n",
    "sub[target_column] = np.argmax(stk_test_pred, axis=1)\n",
    "sub.to_csv(stacking1_submission_file, index=False, encoding='utf-8-sig')"
   ]
  },
  {
   "cell_type": "code",
   "execution_count": 15,
   "metadata": {
    "ExecuteTime": {
     "end_time": "2020-10-04T13:57:07.913175Z",
     "start_time": "2020-10-04T13:57:06.678399Z"
    },
    "id": "xw6-FQLLqtmS"
   },
   "outputs": [],
   "source": [
    "# stcking1_oof_pred 파일 생성\n",
    "\n",
    "np.savetxt(stacking1_oof_pred_file, stk_oof_pred, fmt='%.18f',delimiter=',')"
   ]
  },
  {
   "cell_type": "code",
   "execution_count": 16,
   "metadata": {
    "ExecuteTime": {
     "end_time": "2020-10-04T13:57:08.253579Z",
     "start_time": "2020-10-04T13:57:07.915568Z"
    },
    "id": "nC6gmO51sGJO"
   },
   "outputs": [],
   "source": [
    "# stacking1_test_pred 파일 생성\n",
    "\n",
    "np.savetxt(stacking1_test_pred_file, stk_test_pred, fmt='%.18f', delimiter=',')"
   ]
  }
 ],
 "metadata": {
  "colab": {
   "authorship_tag": "ABX9TyNf9l2UDLuxgavi/9Zn6H90",
   "collapsed_sections": [],
   "name": "stacking1-ada-2.ipynb",
   "provenance": []
  },
  "kernelspec": {
   "display_name": "Python 3",
   "language": "python",
   "name": "python3"
  },
  "language_info": {
   "codemirror_mode": {
    "name": "ipython",
    "version": 3
   },
   "file_extension": ".py",
   "mimetype": "text/x-python",
   "name": "python",
   "nbconvert_exporter": "python",
   "pygments_lexer": "ipython3",
   "version": "3.8.2"
  },
  "toc": {
   "base_numbering": 1,
   "nav_menu": {},
   "number_sections": true,
   "sideBar": true,
   "skip_h1_title": false,
   "title_cell": "Table of Contents",
   "title_sidebar": "Contents",
   "toc_cell": false,
   "toc_position": {},
   "toc_section_display": true,
   "toc_window_display": false
  },
  "varInspector": {
   "cols": {
    "lenName": 16,
    "lenType": 16,
    "lenVar": 40
   },
   "kernels_config": {
    "python": {
     "delete_cmd_postfix": "",
     "delete_cmd_prefix": "del ",
     "library": "var_list.py",
     "varRefreshCmd": "print(var_dic_list())"
    },
    "r": {
     "delete_cmd_postfix": ") ",
     "delete_cmd_prefix": "rm(",
     "library": "var_list.r",
     "varRefreshCmd": "cat(var_dic_list()) "
    }
   },
   "types_to_exclude": [
    "module",
    "function",
    "builtin_function_or_method",
    "instance",
    "_Feature"
   ],
   "window_display": false
  }
 },
 "nbformat": 4,
 "nbformat_minor": 1
}
