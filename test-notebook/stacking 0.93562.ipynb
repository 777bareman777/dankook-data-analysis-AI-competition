{
 "cells": [
  {
   "cell_type": "code",
   "execution_count": 1,
   "metadata": {
    "ExecuteTime": {
     "end_time": "2020-09-18T05:36:42.584871Z",
     "start_time": "2020-09-18T05:36:42.052435Z"
    }
   },
   "outputs": [],
   "source": [
    "%reload_ext autoreload\n",
    "%autoreload 2\n",
    "%matplotlib inline"
   ]
  },
  {
   "cell_type": "code",
   "execution_count": 2,
   "metadata": {
    "ExecuteTime": {
     "end_time": "2020-09-18T05:36:43.422888Z",
     "start_time": "2020-09-18T05:36:42.587008Z"
    }
   },
   "outputs": [],
   "source": [
    "import numpy as np\n",
    "import pandas as pd\n",
    "\n",
    "import matplotlib.pyplot as plt\n",
    "from matplotlib import rcParams\n",
    "import seaborn as sns\n",
    "\n",
    "import warnings"
   ]
  },
  {
   "cell_type": "code",
   "execution_count": 3,
   "metadata": {
    "ExecuteTime": {
     "end_time": "2020-09-18T05:36:43.453952Z",
     "start_time": "2020-09-18T05:36:43.424949Z"
    }
   },
   "outputs": [],
   "source": [
    "pd.set_option('max_columns', 100)\n",
    "pd.set_option('display.precision', 4)\n",
    "\n",
    "rcParams['figure.figsize'] = (16, 8)\n",
    "plt.style.use('fivethirtyeight')\n",
    "sns.set(font_scale=2.5)\n",
    "\n",
    "warnings.filterwarnings('ignore')"
   ]
  },
  {
   "cell_type": "markdown",
   "metadata": {},
   "source": [
    "# 데이터 로드"
   ]
  },
  {
   "cell_type": "code",
   "execution_count": 4,
   "metadata": {
    "ExecuteTime": {
     "end_time": "2020-09-18T05:36:45.565559Z",
     "start_time": "2020-09-18T05:36:43.455836Z"
    }
   },
   "outputs": [],
   "source": [
    "df_train = pd.read_csv('../input/dankook/train.csv', index_col=0)\n",
    "df_test = pd.read_csv('../input/dankook/test.csv', index_col=0)"
   ]
  },
  {
   "cell_type": "markdown",
   "metadata": {},
   "source": [
    "## 학습/테스트 데이터 결합"
   ]
  },
  {
   "cell_type": "code",
   "execution_count": 5,
   "metadata": {
    "ExecuteTime": {
     "end_time": "2020-09-18T05:36:45.701525Z",
     "start_time": "2020-09-18T05:36:45.567697Z"
    }
   },
   "outputs": [],
   "source": [
    "dataset = pd.concat([df_train,df_test], axis=0)\n",
    "df_train_len = len(df_train)\n",
    "\n",
    "dataset.fillna(-1, inplace=True)"
   ]
  },
  {
   "cell_type": "code",
   "execution_count": 6,
   "metadata": {
    "ExecuteTime": {
     "end_time": "2020-09-18T05:36:45.734407Z",
     "start_time": "2020-09-18T05:36:45.703586Z"
    }
   },
   "outputs": [],
   "source": [
    "dataset['nObserve'] = dataset['nObserve'].apply(np.log1p)"
   ]
  },
  {
   "cell_type": "code",
   "execution_count": 7,
   "metadata": {
    "ExecuteTime": {
     "end_time": "2020-09-18T05:36:45.801635Z",
     "start_time": "2020-09-18T05:36:45.736291Z"
    }
   },
   "outputs": [],
   "source": [
    "dataset['d_dered_u'] = dataset['dered_u'] - dataset['u']\n",
    "dataset['d_dered_g'] = dataset['dered_g'] - dataset['g']\n",
    "dataset['d_dered_r'] = dataset['dered_r'] - dataset['r']\n",
    "dataset['d_dered_i'] = dataset['dered_i'] - dataset['i']\n",
    "dataset['d_dered_z'] = dataset['dered_z'] - dataset['z']\n",
    "dataset['d_dered_rg'] = dataset['dered_r'] - dataset['dered_g']\n",
    "dataset['d_dered_ig'] = dataset['dered_i'] - dataset['dered_g']\n",
    "dataset['d_dered_zg'] = dataset['dered_z'] - dataset['dered_g']\n",
    "dataset['d_dered_ri'] = dataset['dered_r'] - dataset['dered_i']\n",
    "dataset['d_dered_rz'] = dataset['dered_r'] - dataset['dered_z']\n",
    "dataset['d_dered_iz'] = dataset['dered_i'] - dataset['dered_z']\n",
    "dataset['d_obs_det'] = dataset['nObserve'] - dataset['nDetect']"
   ]
  },
  {
   "cell_type": "code",
   "execution_count": 8,
   "metadata": {
    "ExecuteTime": {
     "end_time": "2020-09-18T05:36:45.938275Z",
     "start_time": "2020-09-18T05:36:45.804049Z"
    }
   },
   "outputs": [],
   "source": [
    "dataset.drop(['airmass_z', 'airmass_i', 'airmass_r', 'airmass_g', 'u', 'g', 'r', 'i', 'nDetect'], \n",
    "        axis=1, inplace=True)"
   ]
  },
  {
   "cell_type": "markdown",
   "metadata": {},
   "source": [
    "## 데이터셋 분리"
   ]
  },
  {
   "cell_type": "code",
   "execution_count": 9,
   "metadata": {
    "ExecuteTime": {
     "end_time": "2020-09-18T05:36:46.517721Z",
     "start_time": "2020-09-18T05:36:45.940121Z"
    }
   },
   "outputs": [],
   "source": [
    "from sklearn.model_selection import train_test_split \n",
    "\n",
    "# train set\n",
    "X = dataset.loc[ dataset.index < df_train_len , :]\n",
    "X.drop(columns='class',inplace=True,axis=1)\n",
    "y = dataset.loc[ dataset.index < df_train_len, 'class']\n",
    "y.astype(int)\n",
    "\n",
    "# test set\n",
    "test = dataset.loc[ dataset.index >= df_train_len, :]\n",
    "test.drop(columns='class', inplace=True,axis=1)\n",
    "\n",
    "# train set split\n",
    "SEED = 2020\n",
    "X_train, X_test, y_train, y_test = train_test_split(X, y, test_size=0.3, random_state = SEED)"
   ]
  },
  {
   "cell_type": "markdown",
   "metadata": {
    "ExecuteTime": {
     "end_time": "2020-09-17T11:57:26.962900Z",
     "start_time": "2020-09-17T11:57:26.930313Z"
    }
   },
   "source": [
    "## 모델 학습"
   ]
  },
  {
   "cell_type": "code",
   "execution_count": 10,
   "metadata": {
    "ExecuteTime": {
     "end_time": "2020-09-18T05:36:46.551068Z",
     "start_time": "2020-09-18T05:36:46.519862Z"
    }
   },
   "outputs": [],
   "source": [
    "from sklearn.metrics import accuracy_score \n",
    "from sklearn.metrics import mean_squared_error \n",
    "\n",
    "\n",
    "from sklearn.preprocessing import StandardScaler\n",
    "from sklearn.pipeline import make_pipeline"
   ]
  },
  {
   "cell_type": "markdown",
   "metadata": {},
   "source": [
    "### sklearn.tree"
   ]
  },
  {
   "cell_type": "code",
   "execution_count": 11,
   "metadata": {
    "ExecuteTime": {
     "end_time": "2020-09-18T05:36:46.647701Z",
     "start_time": "2020-09-18T05:36:46.553166Z"
    }
   },
   "outputs": [],
   "source": [
    "from sklearn.tree import DecisionTreeClassifier\n",
    "from sklearn.tree import ExtraTreeClassifier"
   ]
  },
  {
   "cell_type": "code",
   "execution_count": 12,
   "metadata": {
    "ExecuteTime": {
     "end_time": "2020-09-18T05:36:46.680442Z",
     "start_time": "2020-09-18T05:36:46.649597Z"
    }
   },
   "outputs": [],
   "source": [
    "df_parmas = {\n",
    "    'max_features': 'sqrt',\n",
    "    'random_state': 2020\n",
    "}\n",
    "\n",
    "et_parmas = {\n",
    "    'max_features': 'sqrt',\n",
    "    'random_state': 2020\n",
    "}"
   ]
  },
  {
   "cell_type": "code",
   "execution_count": 13,
   "metadata": {
    "ExecuteTime": {
     "end_time": "2020-09-18T05:36:48.681921Z",
     "start_time": "2020-09-18T05:36:46.682410Z"
    }
   },
   "outputs": [
    {
     "name": "stdout",
     "output_type": "stream",
     "text": [
      "0.8964583333333334\n"
     ]
    }
   ],
   "source": [
    "dt_clf = DecisionTreeClassifier(**df_parmas)\n",
    "dt_clf.fit(X_train,y_train)\n",
    "p = dt_clf.predict(X_test)\n",
    "print(accuracy_score(p,y_test))"
   ]
  },
  {
   "cell_type": "code",
   "execution_count": 14,
   "metadata": {
    "ExecuteTime": {
     "end_time": "2020-09-18T05:36:49.054864Z",
     "start_time": "2020-09-18T05:36:48.683556Z"
    }
   },
   "outputs": [
    {
     "name": "stdout",
     "output_type": "stream",
     "text": [
      "0.8528958333333333\n"
     ]
    }
   ],
   "source": [
    "et_clf = ExtraTreeClassifier(**et_parmas)\n",
    "et_clf.fit(X_train,y_train)\n",
    "p = et_clf.predict(X_test)\n",
    "print(accuracy_score(p,y_test))"
   ]
  },
  {
   "cell_type": "markdown",
   "metadata": {},
   "source": [
    "### sklearn.neighbors"
   ]
  },
  {
   "cell_type": "code",
   "execution_count": 15,
   "metadata": {
    "ExecuteTime": {
     "end_time": "2020-09-18T05:36:49.087483Z",
     "start_time": "2020-09-18T05:36:49.056835Z"
    }
   },
   "outputs": [],
   "source": [
    "from sklearn.neighbors import KNeighborsClassifier"
   ]
  },
  {
   "cell_type": "code",
   "execution_count": 16,
   "metadata": {
    "ExecuteTime": {
     "end_time": "2020-09-18T05:36:59.557350Z",
     "start_time": "2020-09-18T05:36:49.089562Z"
    }
   },
   "outputs": [
    {
     "name": "stdout",
     "output_type": "stream",
     "text": [
      "0.87128125\n"
     ]
    }
   ],
   "source": [
    "knn_params = {\n",
    "    'n_neighbors': 5,\n",
    "    'n_jobs': -1\n",
    "}\n",
    "\n",
    "knn_clf=KNeighborsClassifier(**knn_params)\n",
    "knn_clf.fit(X_train,y_train)\n",
    "p = knn_clf.predict(X_test)\n",
    "print(accuracy_score(p,y_test))"
   ]
  },
  {
   "cell_type": "markdown",
   "metadata": {},
   "source": [
    "### sklearn.svm"
   ]
  },
  {
   "cell_type": "code",
   "execution_count": 17,
   "metadata": {
    "ExecuteTime": {
     "end_time": "2020-09-18T05:36:59.591890Z",
     "start_time": "2020-09-18T05:36:59.559424Z"
    }
   },
   "outputs": [],
   "source": [
    "from sklearn.svm import SVC"
   ]
  },
  {
   "cell_type": "code",
   "execution_count": 18,
   "metadata": {
    "ExecuteTime": {
     "end_time": "2020-09-18T06:05:54.086818Z",
     "start_time": "2020-09-18T05:36:59.594221Z"
    }
   },
   "outputs": [
    {
     "name": "stdout",
     "output_type": "stream",
     "text": [
      "0.8991875\n"
     ]
    }
   ],
   "source": [
    "# SVC\n",
    "svc_params = {\n",
    "    'random_state': 2020\n",
    "}\n",
    "\n",
    "svc_clf = make_pipeline(StandardScaler(), SVC(**svc_params))\n",
    "svc_clf.fit(X_train,y_train)\n",
    "p = svc_clf.predict(X_test)\n",
    "print(accuracy_score(p,y_test))"
   ]
  },
  {
   "cell_type": "markdown",
   "metadata": {},
   "source": [
    "### sklearn.ensemble"
   ]
  },
  {
   "cell_type": "code",
   "execution_count": 19,
   "metadata": {
    "ExecuteTime": {
     "end_time": "2020-09-18T06:05:54.246468Z",
     "start_time": "2020-09-18T06:05:54.090778Z"
    }
   },
   "outputs": [],
   "source": [
    "from sklearn.ensemble import RandomForestClassifier\n",
    "from sklearn.ensemble import AdaBoostClassifier\n",
    "from sklearn.ensemble import ExtraTreesClassifier\n",
    "from sklearn.ensemble import GradientBoostingClassifier"
   ]
  },
  {
   "cell_type": "code",
   "execution_count": 20,
   "metadata": {
    "ExecuteTime": {
     "end_time": "2020-09-18T06:06:14.269673Z",
     "start_time": "2020-09-18T06:05:54.247906Z"
    }
   },
   "outputs": [
    {
     "name": "stdout",
     "output_type": "stream",
     "text": [
      "0.93065625\n"
     ]
    }
   ],
   "source": [
    "# Random Forest parameters\n",
    "rf_params = {\n",
    "    'n_jobs': -1,\n",
    "    'n_estimators': 100,\n",
    "    'max_features' : 'sqrt',\n",
    "    'verbose' : 0,\n",
    "    'random_state': 2020\n",
    "}\n",
    "\n",
    "rf_clf = RandomForestClassifier(**rf_params)\n",
    "rf_clf.fit(X_train,y_train)\n",
    "p = rf_clf.predict(X_test)\n",
    "print(accuracy_score(p,y_test))"
   ]
  },
  {
   "cell_type": "code",
   "execution_count": 21,
   "metadata": {
    "ExecuteTime": {
     "end_time": "2020-09-18T06:06:24.370028Z",
     "start_time": "2020-09-18T06:06:14.271640Z"
    }
   },
   "outputs": [
    {
     "name": "stdout",
     "output_type": "stream",
     "text": [
      "0.9194583333333334\n"
     ]
    }
   ],
   "source": [
    "# Extra Trees Parameters\n",
    "ets_params = {\n",
    "    'n_jobs' : -1,\n",
    "    'n_estimators': 100,\n",
    "    'max_features' : 'sqrt',\n",
    "    'verbose' : 0,\n",
    "    'random_state': 2020\n",
    "}\n",
    "\n",
    "ets_clf = ExtraTreesClassifier(**ets_params)\n",
    "ets_clf.fit(X_train,y_train)\n",
    "p = ets_clf.predict(X_test)\n",
    "print(accuracy_score(p,y_test))"
   ]
  },
  {
   "cell_type": "code",
   "execution_count": 22,
   "metadata": {
    "ExecuteTime": {
     "end_time": "2020-09-18T06:07:28.235136Z",
     "start_time": "2020-09-18T06:06:24.371909Z"
    }
   },
   "outputs": [
    {
     "name": "stdout",
     "output_type": "stream",
     "text": [
      "0.87384375\n"
     ]
    }
   ],
   "source": [
    "# AdaBoost Parameters\n",
    "ada_params = {\n",
    "    'n_estimators': 100,\n",
    "    'learning_rate': 0.1,\n",
    "    'algorithm': 'SAMME.R',\n",
    "    'random_state': 2020\n",
    "}\n",
    "\n",
    "ada_clf = AdaBoostClassifier(**ada_params)\n",
    "ada_clf.fit(X_train,y_train)\n",
    "p = ada_clf.predict(X_test)\n",
    "print(accuracy_score(p,y_test))"
   ]
  },
  {
   "cell_type": "code",
   "execution_count": 23,
   "metadata": {
    "ExecuteTime": {
     "end_time": "2020-09-18T06:09:09.746239Z",
     "start_time": "2020-09-18T06:07:28.236896Z"
    }
   },
   "outputs": [
    {
     "name": "stdout",
     "output_type": "stream",
     "text": [
      "0.87384375\n"
     ]
    }
   ],
   "source": [
    "# Gradient Bossting parameters\n",
    "gb_params = {\n",
    "    'n_estimators': 100,\n",
    "    'learning_rate': 0.1,\n",
    "    'max_features': 'sqrt',\n",
    "    'verbose': 0,\n",
    "    'random_state': 2020\n",
    "}\n",
    "\n",
    "gb_clf = GradientBoostingClassifier(**gb_params)\n",
    "gb_clf.fit(X_train,y_train)\n",
    "p = ada_clf.predict(X_test)\n",
    "print(accuracy_score(p,y_test))"
   ]
  },
  {
   "cell_type": "markdown",
   "metadata": {},
   "source": [
    "### xgboost"
   ]
  },
  {
   "cell_type": "code",
   "execution_count": 24,
   "metadata": {
    "ExecuteTime": {
     "end_time": "2020-09-18T06:09:10.305721Z",
     "start_time": "2020-09-18T06:09:09.748151Z"
    }
   },
   "outputs": [],
   "source": [
    "import xgboost as xg"
   ]
  },
  {
   "cell_type": "code",
   "execution_count": 25,
   "metadata": {
    "ExecuteTime": {
     "end_time": "2020-09-18T06:12:18.639955Z",
     "start_time": "2020-09-18T06:09:10.307615Z"
    }
   },
   "outputs": [
    {
     "name": "stdout",
     "output_type": "stream",
     "text": [
      "0.9315625\n"
     ]
    }
   ],
   "source": [
    "# Xgboost\n",
    "xgb_params = {\n",
    "    'n_jobs' : -1, \n",
    "    'n_estimators': 100,\n",
    "    'eta': 0.3, # learning_rate\n",
    "    'booster': 'gbtree',\n",
    "    'gamma': 0,\n",
    "    'tree_method': 'auto',\n",
    "    'objective': 'reg:squarederror',\n",
    "    'random_state': 2020\n",
    "}\n",
    "\n",
    "xgb_clf = xg.XGBClassifier(**xgb_params)\n",
    "xgb_clf.fit(X_train,y_train)\n",
    "p = xgb_clf.predict(X_test)\n",
    "print(accuracy_score(p,y_test))"
   ]
  },
  {
   "cell_type": "markdown",
   "metadata": {},
   "source": [
    "## 앙상블"
   ]
  },
  {
   "cell_type": "code",
   "execution_count": 26,
   "metadata": {
    "ExecuteTime": {
     "end_time": "2020-09-18T06:12:18.673218Z",
     "start_time": "2020-09-18T06:12:18.641616Z"
    }
   },
   "outputs": [],
   "source": [
    "from sklearn.ensemble import StackingClassifier"
   ]
  },
  {
   "cell_type": "markdown",
   "metadata": {},
   "source": [
    "### version 1"
   ]
  },
  {
   "cell_type": "code",
   "execution_count": 27,
   "metadata": {
    "ExecuteTime": {
     "end_time": "2020-09-18T06:12:18.712616Z",
     "start_time": "2020-09-18T06:12:18.675479Z"
    }
   },
   "outputs": [],
   "source": [
    "layer_one_estimators = [\n",
    "    ('df_1', DecisionTreeClassifier(**df_parmas)),\n",
    "    ('et_1', ExtraTreeClassifier(**et_parmas)),\n",
    "    ('knn_1', KNeighborsClassifier(**knn_params)),\n",
    "    ('svc_1', make_pipeline(StandardScaler(), SVC(**svc_params)))\n",
    "]\n",
    "\n",
    "layer_two_estimators = [\n",
    "    ('rf_2', RandomForestClassifier(**rf_params)),\n",
    "    ('ets_2', ExtraTreesClassifier(**ets_params)),\n",
    "    ('ada_2', AdaBoostClassifier(**ada_params)),\n",
    "    ('gb_2', GradientBoostingClassifier(**gb_params))\n",
    "]\n",
    "\n",
    "layer_final_estimator = xg.XGBClassifier(**xgb_params)\n",
    "\n",
    "layer_two = StackingClassifier(estimators=layer_two_estimators, final_estimator=layer_final_estimator, n_jobs=-1)\n",
    "\n",
    "stacking_clf = StackingClassifier(estimators=layer_one_estimators, final_estimator=layer_two, n_jobs=-1)"
   ]
  },
  {
   "cell_type": "code",
   "execution_count": 28,
   "metadata": {
    "ExecuteTime": {
     "end_time": "2020-09-18T07:04:38.217285Z",
     "start_time": "2020-09-18T06:12:18.714466Z"
    }
   },
   "outputs": [
    {
     "data": {
      "text/plain": [
       "StackingClassifier(estimators=[('df_1',\n",
       "                                DecisionTreeClassifier(max_features='sqrt',\n",
       "                                                       random_state=2020)),\n",
       "                               ('et_1',\n",
       "                                ExtraTreeClassifier(max_features='sqrt',\n",
       "                                                    random_state=2020)),\n",
       "                               ('knn_1', KNeighborsClassifier(n_jobs=-1)),\n",
       "                               ('svc_1',\n",
       "                                Pipeline(steps=[('standardscaler',\n",
       "                                                 StandardScaler()),\n",
       "                                                ('svc',\n",
       "                                                 SVC(random_state=2020))]))],\n",
       "                   final_estimator=StackingClassifier(estimat...\n",
       "                                                                                    learning_rate=None,\n",
       "                                                                                    max_delta_step=None,\n",
       "                                                                                    max_depth=None,\n",
       "                                                                                    min_child_weight=None,\n",
       "                                                                                    missing=nan,\n",
       "                                                                                    monotone_constraints=None,\n",
       "                                                                                    n_estimators=100,\n",
       "                                                                                    n_jobs=-1,\n",
       "                                                                                    num_parallel_tree=None,\n",
       "                                                                                    objective='reg:squarederror',\n",
       "                                                                                    random_state=2020,\n",
       "                                                                                    reg_alpha=None,\n",
       "                                                                                    reg_lambda=None,\n",
       "                                                                                    scale_pos_weight=None,\n",
       "                                                                                    subsample=None,\n",
       "                                                                                    tree_method='auto',\n",
       "                                                                                    validate_parameters=None,\n",
       "                                                                                    verbosity=None),\n",
       "                                                      n_jobs=-1),\n",
       "                   n_jobs=-1)"
      ]
     },
     "execution_count": 28,
     "metadata": {},
     "output_type": "execute_result"
    }
   ],
   "source": [
    "stacking_clf.fit(X_train,y_train)"
   ]
  },
  {
   "cell_type": "code",
   "execution_count": 29,
   "metadata": {
    "ExecuteTime": {
     "end_time": "2020-09-18T07:08:21.764790Z",
     "start_time": "2020-09-18T07:04:38.220109Z"
    }
   },
   "outputs": [
    {
     "name": "stdout",
     "output_type": "stream",
     "text": [
      "accuracy for stacking : 0.9203958333333333\n"
     ]
    }
   ],
   "source": [
    "p = stacking_clf.predict(X_test)\n",
    "print('accuracy for stacking :', accuracy_score(y_test,p))"
   ]
  },
  {
   "cell_type": "markdown",
   "metadata": {},
   "source": [
    "### verison2"
   ]
  },
  {
   "cell_type": "code",
   "execution_count": 30,
   "metadata": {
    "ExecuteTime": {
     "end_time": "2020-09-18T07:10:24.131885Z",
     "start_time": "2020-09-18T07:10:24.095773Z"
    }
   },
   "outputs": [],
   "source": [
    "layer_one_estimators = [\n",
    "    ('df_1', DecisionTreeClassifier(**df_parmas)),\n",
    "    ('svc_1', make_pipeline(StandardScaler(), SVC(**svc_params)))\n",
    "]\n",
    "\n",
    "layer_two_estimators = [\n",
    "    ('rf_2', RandomForestClassifier(**rf_params)),\n",
    "    ('ets_2', ExtraTreesClassifier(**ets_params)),\n",
    "]\n",
    "\n",
    "layer_final_estimator = xg.XGBClassifier(**xgb_params)\n",
    "\n",
    "layer_two = StackingClassifier(estimators=layer_two_estimators, final_estimator=layer_final_estimator, n_jobs=-1)\n",
    "\n",
    "stacking_clf = StackingClassifier(estimators=layer_one_estimators, final_estimator=layer_two, n_jobs=-1)"
   ]
  },
  {
   "cell_type": "code",
   "execution_count": 31,
   "metadata": {
    "ExecuteTime": {
     "end_time": "2020-09-18T08:02:31.171944Z",
     "start_time": "2020-09-18T07:10:24.983788Z"
    }
   },
   "outputs": [
    {
     "data": {
      "text/plain": [
       "StackingClassifier(estimators=[('df_1',\n",
       "                                DecisionTreeClassifier(max_features='sqrt',\n",
       "                                                       random_state=2020)),\n",
       "                               ('svc_1',\n",
       "                                Pipeline(steps=[('standardscaler',\n",
       "                                                 StandardScaler()),\n",
       "                                                ('svc',\n",
       "                                                 SVC(random_state=2020))]))],\n",
       "                   final_estimator=StackingClassifier(estimators=[('rf_2',\n",
       "                                                                   RandomForestClassifier(max_features='sqrt',\n",
       "                                                                                          n_jobs=-1,\n",
       "                                                                                          random_state=2020)),\n",
       "                                                                  ('ets_2',\n",
       "                                                                   ExtraTreesClass...\n",
       "                                                                                    learning_rate=None,\n",
       "                                                                                    max_delta_step=None,\n",
       "                                                                                    max_depth=None,\n",
       "                                                                                    min_child_weight=None,\n",
       "                                                                                    missing=nan,\n",
       "                                                                                    monotone_constraints=None,\n",
       "                                                                                    n_estimators=100,\n",
       "                                                                                    n_jobs=-1,\n",
       "                                                                                    num_parallel_tree=None,\n",
       "                                                                                    objective='reg:squarederror',\n",
       "                                                                                    random_state=2020,\n",
       "                                                                                    reg_alpha=None,\n",
       "                                                                                    reg_lambda=None,\n",
       "                                                                                    scale_pos_weight=None,\n",
       "                                                                                    subsample=None,\n",
       "                                                                                    tree_method='auto',\n",
       "                                                                                    validate_parameters=None,\n",
       "                                                                                    verbosity=None),\n",
       "                                                      n_jobs=-1),\n",
       "                   n_jobs=-1)"
      ]
     },
     "execution_count": 31,
     "metadata": {},
     "output_type": "execute_result"
    }
   ],
   "source": [
    "stacking_clf.fit(X_train,y_train)"
   ]
  },
  {
   "cell_type": "code",
   "execution_count": 32,
   "metadata": {
    "ExecuteTime": {
     "end_time": "2020-09-18T08:06:48.543051Z",
     "start_time": "2020-09-18T08:02:52.889141Z"
    }
   },
   "outputs": [
    {
     "name": "stdout",
     "output_type": "stream",
     "text": [
      "accuracy for stacking : 0.9084479166666667\n"
     ]
    }
   ],
   "source": [
    "p = stacking_clf.predict(X_test)\n",
    "print('accuracy for stacking :', accuracy_score(y_test,p))"
   ]
  },
  {
   "cell_type": "markdown",
   "metadata": {},
   "source": [
    "### version3"
   ]
  },
  {
   "cell_type": "code",
   "execution_count": 33,
   "metadata": {
    "ExecuteTime": {
     "end_time": "2020-09-18T08:08:32.262682Z",
     "start_time": "2020-09-18T08:08:32.225821Z"
    }
   },
   "outputs": [],
   "source": [
    "layer_one_estimators = [\n",
    "    ('ada',AdaBoostClassifier(**ada_params)),\n",
    "    ('gb',GradientBoostingClassifier(**gb_params)),\n",
    "    ('svc_1', make_pipeline(StandardScaler(), SVC(**svc_params)))\n",
    "]\n",
    "\n",
    "layer_two_estimators = [\n",
    "    ('rf_2', RandomForestClassifier(**rf_params)),\n",
    "    ('ets_2', ExtraTreesClassifier(**ets_params)),\n",
    "]\n",
    "\n",
    "layer_final_estimator = xg.XGBClassifier(**xgb_params)\n",
    "\n",
    "layer_two = StackingClassifier(estimators=layer_two_estimators, final_estimator=layer_final_estimator, n_jobs=-1)\n",
    "\n",
    "stacking_clf = StackingClassifier(estimators=layer_one_estimators, final_estimator=layer_two, n_jobs=-1)"
   ]
  },
  {
   "cell_type": "code",
   "execution_count": 34,
   "metadata": {
    "ExecuteTime": {
     "end_time": "2020-09-18T09:01:56.259451Z",
     "start_time": "2020-09-18T08:08:40.355779Z"
    }
   },
   "outputs": [
    {
     "data": {
      "text/plain": [
       "StackingClassifier(estimators=[('ada',\n",
       "                                AdaBoostClassifier(learning_rate=0.1,\n",
       "                                                   n_estimators=100,\n",
       "                                                   random_state=2020)),\n",
       "                               ('gb',\n",
       "                                GradientBoostingClassifier(max_features='sqrt',\n",
       "                                                           random_state=2020)),\n",
       "                               ('svc_1',\n",
       "                                Pipeline(steps=[('standardscaler',\n",
       "                                                 StandardScaler()),\n",
       "                                                ('svc',\n",
       "                                                 SVC(random_state=2020))]))],\n",
       "                   final_estimator=StackingClassifier(estimators=[('rf_2',\n",
       "                                                                   RandomForestCl...\n",
       "                                                                                    learning_rate=None,\n",
       "                                                                                    max_delta_step=None,\n",
       "                                                                                    max_depth=None,\n",
       "                                                                                    min_child_weight=None,\n",
       "                                                                                    missing=nan,\n",
       "                                                                                    monotone_constraints=None,\n",
       "                                                                                    n_estimators=100,\n",
       "                                                                                    n_jobs=-1,\n",
       "                                                                                    num_parallel_tree=None,\n",
       "                                                                                    objective='reg:squarederror',\n",
       "                                                                                    random_state=2020,\n",
       "                                                                                    reg_alpha=None,\n",
       "                                                                                    reg_lambda=None,\n",
       "                                                                                    scale_pos_weight=None,\n",
       "                                                                                    subsample=None,\n",
       "                                                                                    tree_method='auto',\n",
       "                                                                                    validate_parameters=None,\n",
       "                                                                                    verbosity=None),\n",
       "                                                      n_jobs=-1),\n",
       "                   n_jobs=-1)"
      ]
     },
     "execution_count": 34,
     "metadata": {},
     "output_type": "execute_result"
    }
   ],
   "source": [
    "stacking_clf.fit(X_train,y_train)"
   ]
  },
  {
   "cell_type": "code",
   "execution_count": 35,
   "metadata": {
    "ExecuteTime": {
     "end_time": "2020-09-18T09:06:02.567922Z",
     "start_time": "2020-09-18T09:02:03.745267Z"
    }
   },
   "outputs": [
    {
     "name": "stdout",
     "output_type": "stream",
     "text": [
      "accuracy for stacking : 0.9245729166666666\n"
     ]
    }
   ],
   "source": [
    "p = stacking_clf.predict(X_test)\n",
    "print('accuracy for stacking :', accuracy_score(y_test,p))"
   ]
  },
  {
   "cell_type": "markdown",
   "metadata": {},
   "source": [
    "### version4"
   ]
  },
  {
   "cell_type": "code",
   "execution_count": 39,
   "metadata": {
    "ExecuteTime": {
     "end_time": "2020-09-18T09:13:22.937294Z",
     "start_time": "2020-09-18T09:13:22.898816Z"
    }
   },
   "outputs": [],
   "source": [
    "estimators = [\n",
    "    ('df', DecisionTreeClassifier(**df_parmas)),\n",
    "    ('et', ExtraTreeClassifier(**et_parmas)),\n",
    "    ('knn', KNeighborsClassifier(**knn_params)),\n",
    "    ('rf', RandomForestClassifier(**rf_params)),\n",
    "    ('ets',ExtraTreesClassifier(**ets_params)),\n",
    "    ('ada',AdaBoostClassifier(**ada_params)),\n",
    "    ('gb',GradientBoostingClassifier(**gb_params)),\n",
    "    ('svc', make_pipeline(StandardScaler(), SVC(random_state=2020)))\n",
    "]\n",
    "final_estimator = xg.XGBClassifier(**xgb_params)\n",
    "\n",
    "stacking_clf = StackingClassifier(estimators=estimators, final_estimator=final_estimator, n_jobs=-1)"
   ]
  },
  {
   "cell_type": "code",
   "execution_count": 40,
   "metadata": {
    "ExecuteTime": {
     "end_time": "2020-09-18T10:09:28.252649Z",
     "start_time": "2020-09-18T09:13:24.924337Z"
    }
   },
   "outputs": [
    {
     "data": {
      "text/plain": [
       "StackingClassifier(estimators=[('df',\n",
       "                                DecisionTreeClassifier(max_features='sqrt',\n",
       "                                                       random_state=2020)),\n",
       "                               ('et',\n",
       "                                ExtraTreeClassifier(max_features='sqrt',\n",
       "                                                    random_state=2020)),\n",
       "                               ('knn', KNeighborsClassifier(n_jobs=-1)),\n",
       "                               ('rf',\n",
       "                                RandomForestClassifier(max_features='sqrt',\n",
       "                                                       n_jobs=-1,\n",
       "                                                       random_state=2020)),\n",
       "                               ('ets',\n",
       "                                ExtraTreesClassifier(max_features='sqrt',\n",
       "                                                     n_jobs=-1,\n",
       "                                                     random_...\n",
       "                                                 interaction_constraints=None,\n",
       "                                                 learning_rate=None,\n",
       "                                                 max_delta_step=None,\n",
       "                                                 max_depth=None,\n",
       "                                                 min_child_weight=None,\n",
       "                                                 missing=nan,\n",
       "                                                 monotone_constraints=None,\n",
       "                                                 n_estimators=100, n_jobs=-1,\n",
       "                                                 num_parallel_tree=None,\n",
       "                                                 objective='reg:squarederror',\n",
       "                                                 random_state=2020,\n",
       "                                                 reg_alpha=None,\n",
       "                                                 reg_lambda=None,\n",
       "                                                 scale_pos_weight=None,\n",
       "                                                 subsample=None,\n",
       "                                                 tree_method='auto',\n",
       "                                                 validate_parameters=None,\n",
       "                                                 verbosity=None),\n",
       "                   n_jobs=-1)"
      ]
     },
     "execution_count": 40,
     "metadata": {},
     "output_type": "execute_result"
    }
   ],
   "source": [
    "stacking_clf.fit(X_train,y_train)"
   ]
  },
  {
   "cell_type": "code",
   "execution_count": 41,
   "metadata": {
    "ExecuteTime": {
     "end_time": "2020-09-18T10:13:47.263673Z",
     "start_time": "2020-09-18T10:09:30.625998Z"
    }
   },
   "outputs": [
    {
     "name": "stdout",
     "output_type": "stream",
     "text": [
      "accuracy for stacking : 0.9327604166666666\n"
     ]
    }
   ],
   "source": [
    "p = stacking_clf.predict(X_test)\n",
    "print('accuracy for stacking :', accuracy_score(y_test,p))"
   ]
  },
  {
   "cell_type": "code",
   "execution_count": 42,
   "metadata": {
    "ExecuteTime": {
     "end_time": "2020-09-18T12:14:35.242714Z",
     "start_time": "2020-09-18T10:19:55.070466Z"
    }
   },
   "outputs": [],
   "source": [
    "# 0.93562 제출파일\n",
    "\n",
    "stacking_clf.fit(X,y)\n",
    "p = stacking_clf.predict(test)\n",
    "submission = pd.read_csv('../input/dankook/sample_submission.csv')\n",
    "submission['class'] = p\n",
    "submission.to_csv('submission.csv',index=False, encoding='utf-8-sig')"
   ]
  },
  {
   "cell_type": "code",
   "execution_count": null,
   "metadata": {},
   "outputs": [],
   "source": [
    " "
   ]
  }
 ],
 "metadata": {
  "kernelspec": {
   "display_name": "Python 3",
   "language": "python",
   "name": "python3"
  },
  "language_info": {
   "codemirror_mode": {
    "name": "ipython",
    "version": 3
   },
   "file_extension": ".py",
   "mimetype": "text/x-python",
   "name": "python",
   "nbconvert_exporter": "python",
   "pygments_lexer": "ipython3",
   "version": "3.8.2"
  },
  "toc": {
   "base_numbering": 1,
   "nav_menu": {},
   "number_sections": true,
   "sideBar": true,
   "skip_h1_title": false,
   "title_cell": "Table of Contents",
   "title_sidebar": "Contents",
   "toc_cell": false,
   "toc_position": {},
   "toc_section_display": true,
   "toc_window_display": false
  },
  "varInspector": {
   "cols": {
    "lenName": 16,
    "lenType": 16,
    "lenVar": 40
   },
   "kernels_config": {
    "python": {
     "delete_cmd_postfix": "",
     "delete_cmd_prefix": "del ",
     "library": "var_list.py",
     "varRefreshCmd": "print(var_dic_list())"
    },
    "r": {
     "delete_cmd_postfix": ") ",
     "delete_cmd_prefix": "rm(",
     "library": "var_list.r",
     "varRefreshCmd": "cat(var_dic_list()) "
    }
   },
   "types_to_exclude": [
    "module",
    "function",
    "builtin_function_or_method",
    "instance",
    "_Feature"
   ],
   "window_display": false
  }
 },
 "nbformat": 4,
 "nbformat_minor": 2
}
