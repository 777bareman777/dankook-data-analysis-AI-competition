{
 "cells": [
  {
   "cell_type": "code",
   "execution_count": 1,
   "metadata": {
    "ExecuteTime": {
     "end_time": "2020-09-26T11:06:39.532930Z",
     "start_time": "2020-09-26T11:06:39.281150Z"
    }
   },
   "outputs": [],
   "source": [
    "%reload_ext autoreload\n",
    "%autoreload 2\n",
    "%matplotlib inline"
   ]
  },
  {
   "cell_type": "code",
   "execution_count": 2,
   "metadata": {
    "ExecuteTime": {
     "end_time": "2020-09-26T11:06:40.235030Z",
     "start_time": "2020-09-26T11:06:39.534545Z"
    }
   },
   "outputs": [],
   "source": [
    "import numpy as np\n",
    "import pandas as pd\n",
    "\n",
    "import matplotlib.pyplot as plt\n",
    "from matplotlib import rcParams\n",
    "import seaborn as sns\n",
    "\n",
    "import warnings\n",
    "from pathlib import Path\n",
    "\n",
    "from sklearn.model_selection import train_test_split\n",
    "from sklearn.metrics import accuracy_score\n",
    "\n",
    "import xgboost as xgb\n",
    "\n",
    "from skopt import BayesSearchCV\n",
    "from sklearn.model_selection import StratifiedKFold"
   ]
  },
  {
   "cell_type": "code",
   "execution_count": 3,
   "metadata": {
    "ExecuteTime": {
     "end_time": "2020-09-26T11:06:40.266572Z",
     "start_time": "2020-09-26T11:06:40.239206Z"
    }
   },
   "outputs": [],
   "source": [
    "pd.set_option('max_columns', 100)\n",
    "pd.set_option('display.precision', 4)\n",
    "\n",
    "rcParams['figure.figsize'] = (16, 8)\n",
    "plt.style.use('fivethirtyeight')\n",
    "sns.set(font_scale=2.5)\n",
    "\n",
    "warnings.filterwarnings('ignore')"
   ]
  },
  {
   "cell_type": "markdown",
   "metadata": {
    "ExecuteTime": {
     "end_time": "2020-09-24T03:20:08.717989Z",
     "start_time": "2020-09-24T03:20:08.694547Z"
    }
   },
   "source": [
    "# 데이터 로드"
   ]
  },
  {
   "cell_type": "code",
   "execution_count": 4,
   "metadata": {
    "ExecuteTime": {
     "end_time": "2020-09-26T11:06:40.294513Z",
     "start_time": "2020-09-26T11:06:40.268269Z"
    }
   },
   "outputs": [],
   "source": [
    "data_dir = Path('../input/dankook')\n",
    "sub_dir = Path('../output/')\n",
    "\n",
    "train_file = data_dir / 'train.csv'\n",
    "test_file = data_dir / 'test.csv'\n",
    "sample_file = data_dir / 'sample_submission.csv'\n",
    "sub_file = sub_dir / 'submission.csv'\n",
    "\n",
    "SEED = 2020"
   ]
  },
  {
   "cell_type": "code",
   "execution_count": 5,
   "metadata": {
    "ExecuteTime": {
     "end_time": "2020-09-26T11:06:42.508711Z",
     "start_time": "2020-09-26T11:06:40.296261Z"
    }
   },
   "outputs": [],
   "source": [
    "df_train = pd.read_csv(train_file, index_col=0)\n",
    "df_test = pd.read_csv(test_file, index_col=0)"
   ]
  },
  {
   "cell_type": "markdown",
   "metadata": {},
   "source": [
    "# 이상체 제거 "
   ]
  },
  {
   "cell_type": "code",
   "execution_count": 6,
   "metadata": {
    "ExecuteTime": {
     "end_time": "2020-09-26T11:06:42.886289Z",
     "start_time": "2020-09-26T11:06:42.510723Z"
    }
   },
   "outputs": [
    {
     "name": "stdout",
     "output_type": "stream",
     "text": [
      "제거된 행 개수 : 77\n"
     ]
    }
   ],
   "source": [
    "# test의 MinMax 범위 넘는 행은 train에서 제거\n",
    "train_shape = df_train.shape[0]\n",
    "\n",
    "for col in df_train.columns[:18]:\n",
    "    df_train = df_train.loc[np.logical_and(df_train[col]>=df_test[col].min(),\n",
    "                            df_train[col]<=df_test[col].max())]\n",
    "\n",
    "print('제거된 행 개수 :', train_shape - df_train.shape[0])"
   ]
  },
  {
   "cell_type": "code",
   "execution_count": 7,
   "metadata": {
    "ExecuteTime": {
     "end_time": "2020-09-26T11:06:43.207880Z",
     "start_time": "2020-09-26T11:06:42.890092Z"
    }
   },
   "outputs": [
    {
     "data": {
      "text/html": [
       "<div>\n",
       "<style scoped>\n",
       "    .dataframe tbody tr th:only-of-type {\n",
       "        vertical-align: middle;\n",
       "    }\n",
       "\n",
       "    .dataframe tbody tr th {\n",
       "        vertical-align: top;\n",
       "    }\n",
       "\n",
       "    .dataframe thead th {\n",
       "        text-align: right;\n",
       "    }\n",
       "</style>\n",
       "<table border=\"1\" class=\"dataframe\">\n",
       "  <thead>\n",
       "    <tr style=\"text-align: right;\">\n",
       "      <th></th>\n",
       "      <th>u</th>\n",
       "      <th>g</th>\n",
       "      <th>r</th>\n",
       "      <th>i</th>\n",
       "      <th>z</th>\n",
       "      <th>redshift</th>\n",
       "      <th>dered_u</th>\n",
       "      <th>dered_g</th>\n",
       "      <th>dered_r</th>\n",
       "      <th>dered_i</th>\n",
       "      <th>dered_z</th>\n",
       "      <th>nObserve</th>\n",
       "      <th>nDetect</th>\n",
       "      <th>airmass_u</th>\n",
       "      <th>airmass_g</th>\n",
       "      <th>airmass_r</th>\n",
       "      <th>airmass_i</th>\n",
       "      <th>airmass_z</th>\n",
       "      <th>class</th>\n",
       "    </tr>\n",
       "  </thead>\n",
       "  <tbody>\n",
       "    <tr>\n",
       "      <th>count</th>\n",
       "      <td>319923.0000</td>\n",
       "      <td>319923.0000</td>\n",
       "      <td>319923.0000</td>\n",
       "      <td>319923.0000</td>\n",
       "      <td>319923.0000</td>\n",
       "      <td>3.1992e+05</td>\n",
       "      <td>319923.0000</td>\n",
       "      <td>319923.0000</td>\n",
       "      <td>319923.0000</td>\n",
       "      <td>319923.0000</td>\n",
       "      <td>319923.0000</td>\n",
       "      <td>319923.0000</td>\n",
       "      <td>319923.0000</td>\n",
       "      <td>319923.0000</td>\n",
       "      <td>319923.0000</td>\n",
       "      <td>319923.0000</td>\n",
       "      <td>319923.0000</td>\n",
       "      <td>319923.0000</td>\n",
       "      <td>319923.0000</td>\n",
       "    </tr>\n",
       "    <tr>\n",
       "      <th>mean</th>\n",
       "      <td>19.8525</td>\n",
       "      <td>18.4318</td>\n",
       "      <td>17.7352</td>\n",
       "      <td>17.3037</td>\n",
       "      <td>17.0603</td>\n",
       "      <td>6.0481e-02</td>\n",
       "      <td>19.6298</td>\n",
       "      <td>18.2591</td>\n",
       "      <td>17.6158</td>\n",
       "      <td>17.2151</td>\n",
       "      <td>16.9944</td>\n",
       "      <td>6.3334</td>\n",
       "      <td>6.1396</td>\n",
       "      <td>1.1758</td>\n",
       "      <td>1.1765</td>\n",
       "      <td>1.1751</td>\n",
       "      <td>1.1754</td>\n",
       "      <td>1.1761</td>\n",
       "      <td>1.1165</td>\n",
       "    </tr>\n",
       "    <tr>\n",
       "      <th>std</th>\n",
       "      <td>1.9392</td>\n",
       "      <td>1.6598</td>\n",
       "      <td>1.4586</td>\n",
       "      <td>1.3141</td>\n",
       "      <td>1.3310</td>\n",
       "      <td>2.9110e-01</td>\n",
       "      <td>1.9114</td>\n",
       "      <td>1.6594</td>\n",
       "      <td>1.4672</td>\n",
       "      <td>1.3250</td>\n",
       "      <td>1.3232</td>\n",
       "      <td>8.8817</td>\n",
       "      <td>8.5522</td>\n",
       "      <td>0.1163</td>\n",
       "      <td>0.1181</td>\n",
       "      <td>0.1147</td>\n",
       "      <td>0.1155</td>\n",
       "      <td>0.1171</td>\n",
       "      <td>0.9234</td>\n",
       "    </tr>\n",
       "    <tr>\n",
       "      <th>min</th>\n",
       "      <td>2.2651</td>\n",
       "      <td>-12.4441</td>\n",
       "      <td>7.7314</td>\n",
       "      <td>7.7115</td>\n",
       "      <td>-9.2548</td>\n",
       "      <td>-2.5915e+01</td>\n",
       "      <td>-30.6337</td>\n",
       "      <td>-18.6560</td>\n",
       "      <td>-8.7560</td>\n",
       "      <td>-3.6973</td>\n",
       "      <td>0.2159</td>\n",
       "      <td>1.0000</td>\n",
       "      <td>1.0000</td>\n",
       "      <td>1.0001</td>\n",
       "      <td>1.0001</td>\n",
       "      <td>1.0002</td>\n",
       "      <td>1.0002</td>\n",
       "      <td>1.0002</td>\n",
       "      <td>0.0000</td>\n",
       "    </tr>\n",
       "    <tr>\n",
       "      <th>25%</th>\n",
       "      <td>18.7244</td>\n",
       "      <td>17.4750</td>\n",
       "      <td>16.8773</td>\n",
       "      <td>16.5240</td>\n",
       "      <td>16.2890</td>\n",
       "      <td>3.5724e-05</td>\n",
       "      <td>18.5639</td>\n",
       "      <td>17.3486</td>\n",
       "      <td>16.7874</td>\n",
       "      <td>16.4532</td>\n",
       "      <td>16.2343</td>\n",
       "      <td>1.0000</td>\n",
       "      <td>1.0000</td>\n",
       "      <td>1.0883</td>\n",
       "      <td>1.0885</td>\n",
       "      <td>1.0878</td>\n",
       "      <td>1.0881</td>\n",
       "      <td>1.0883</td>\n",
       "      <td>0.0000</td>\n",
       "    </tr>\n",
       "    <tr>\n",
       "      <th>50%</th>\n",
       "      <td>19.4195</td>\n",
       "      <td>18.1405</td>\n",
       "      <td>17.5259</td>\n",
       "      <td>17.1498</td>\n",
       "      <td>16.9177</td>\n",
       "      <td>4.7153e-02</td>\n",
       "      <td>19.2647</td>\n",
       "      <td>18.0225</td>\n",
       "      <td>17.4434</td>\n",
       "      <td>17.0874</td>\n",
       "      <td>16.8694</td>\n",
       "      <td>2.0000</td>\n",
       "      <td>2.0000</td>\n",
       "      <td>1.1794</td>\n",
       "      <td>1.1792</td>\n",
       "      <td>1.1794</td>\n",
       "      <td>1.1794</td>\n",
       "      <td>1.1793</td>\n",
       "      <td>1.0000</td>\n",
       "    </tr>\n",
       "    <tr>\n",
       "      <th>75%</th>\n",
       "      <td>20.4320</td>\n",
       "      <td>19.0728</td>\n",
       "      <td>18.4279</td>\n",
       "      <td>18.0074</td>\n",
       "      <td>17.7288</td>\n",
       "      <td>9.4606e-02</td>\n",
       "      <td>20.1976</td>\n",
       "      <td>18.8883</td>\n",
       "      <td>18.2908</td>\n",
       "      <td>17.9070</td>\n",
       "      <td>17.6555</td>\n",
       "      <td>5.0000</td>\n",
       "      <td>5.0000</td>\n",
       "      <td>1.2275</td>\n",
       "      <td>1.2260</td>\n",
       "      <td>1.2292</td>\n",
       "      <td>1.2286</td>\n",
       "      <td>1.2268</td>\n",
       "      <td>2.0000</td>\n",
       "    </tr>\n",
       "    <tr>\n",
       "      <th>max</th>\n",
       "      <td>49.1436</td>\n",
       "      <td>46.3383</td>\n",
       "      <td>45.1299</td>\n",
       "      <td>32.8634</td>\n",
       "      <td>52.6127</td>\n",
       "      <td>4.4620e+01</td>\n",
       "      <td>30.7779</td>\n",
       "      <td>30.6132</td>\n",
       "      <td>31.2940</td>\n",
       "      <td>30.5509</td>\n",
       "      <td>28.5710</td>\n",
       "      <td>44.0000</td>\n",
       "      <td>42.0000</td>\n",
       "      <td>2.0491</td>\n",
       "      <td>2.0786</td>\n",
       "      <td>2.0205</td>\n",
       "      <td>2.0347</td>\n",
       "      <td>2.0637</td>\n",
       "      <td>2.0000</td>\n",
       "    </tr>\n",
       "  </tbody>\n",
       "</table>\n",
       "</div>"
      ],
      "text/plain": [
       "                 u            g            r            i            z  \\\n",
       "count  319923.0000  319923.0000  319923.0000  319923.0000  319923.0000   \n",
       "mean       19.8525      18.4318      17.7352      17.3037      17.0603   \n",
       "std         1.9392       1.6598       1.4586       1.3141       1.3310   \n",
       "min         2.2651     -12.4441       7.7314       7.7115      -9.2548   \n",
       "25%        18.7244      17.4750      16.8773      16.5240      16.2890   \n",
       "50%        19.4195      18.1405      17.5259      17.1498      16.9177   \n",
       "75%        20.4320      19.0728      18.4279      18.0074      17.7288   \n",
       "max        49.1436      46.3383      45.1299      32.8634      52.6127   \n",
       "\n",
       "         redshift      dered_u      dered_g      dered_r      dered_i  \\\n",
       "count  3.1992e+05  319923.0000  319923.0000  319923.0000  319923.0000   \n",
       "mean   6.0481e-02      19.6298      18.2591      17.6158      17.2151   \n",
       "std    2.9110e-01       1.9114       1.6594       1.4672       1.3250   \n",
       "min   -2.5915e+01     -30.6337     -18.6560      -8.7560      -3.6973   \n",
       "25%    3.5724e-05      18.5639      17.3486      16.7874      16.4532   \n",
       "50%    4.7153e-02      19.2647      18.0225      17.4434      17.0874   \n",
       "75%    9.4606e-02      20.1976      18.8883      18.2908      17.9070   \n",
       "max    4.4620e+01      30.7779      30.6132      31.2940      30.5509   \n",
       "\n",
       "           dered_z     nObserve      nDetect    airmass_u    airmass_g  \\\n",
       "count  319923.0000  319923.0000  319923.0000  319923.0000  319923.0000   \n",
       "mean       16.9944       6.3334       6.1396       1.1758       1.1765   \n",
       "std         1.3232       8.8817       8.5522       0.1163       0.1181   \n",
       "min         0.2159       1.0000       1.0000       1.0001       1.0001   \n",
       "25%        16.2343       1.0000       1.0000       1.0883       1.0885   \n",
       "50%        16.8694       2.0000       2.0000       1.1794       1.1792   \n",
       "75%        17.6555       5.0000       5.0000       1.2275       1.2260   \n",
       "max        28.5710      44.0000      42.0000       2.0491       2.0786   \n",
       "\n",
       "         airmass_r    airmass_i    airmass_z        class  \n",
       "count  319923.0000  319923.0000  319923.0000  319923.0000  \n",
       "mean        1.1751       1.1754       1.1761       1.1165  \n",
       "std         0.1147       0.1155       0.1171       0.9234  \n",
       "min         1.0002       1.0002       1.0002       0.0000  \n",
       "25%         1.0878       1.0881       1.0883       0.0000  \n",
       "50%         1.1794       1.1794       1.1793       1.0000  \n",
       "75%         1.2292       1.2286       1.2268       2.0000  \n",
       "max         2.0205       2.0347       2.0637       2.0000  "
      ]
     },
     "execution_count": 7,
     "metadata": {},
     "output_type": "execute_result"
    }
   ],
   "source": [
    "df_train.describe()"
   ]
  },
  {
   "cell_type": "code",
   "execution_count": 8,
   "metadata": {
    "ExecuteTime": {
     "end_time": "2020-09-26T11:06:43.325518Z",
     "start_time": "2020-09-26T11:06:43.210291Z"
    }
   },
   "outputs": [
    {
     "data": {
      "text/html": [
       "<div>\n",
       "<style scoped>\n",
       "    .dataframe tbody tr th:only-of-type {\n",
       "        vertical-align: middle;\n",
       "    }\n",
       "\n",
       "    .dataframe tbody tr th {\n",
       "        vertical-align: top;\n",
       "    }\n",
       "\n",
       "    .dataframe thead th {\n",
       "        text-align: right;\n",
       "    }\n",
       "</style>\n",
       "<table border=\"1\" class=\"dataframe\">\n",
       "  <thead>\n",
       "    <tr style=\"text-align: right;\">\n",
       "      <th></th>\n",
       "      <th>u</th>\n",
       "      <th>g</th>\n",
       "      <th>r</th>\n",
       "      <th>i</th>\n",
       "      <th>z</th>\n",
       "      <th>redshift</th>\n",
       "      <th>dered_u</th>\n",
       "      <th>dered_g</th>\n",
       "      <th>dered_r</th>\n",
       "      <th>dered_i</th>\n",
       "      <th>dered_z</th>\n",
       "      <th>nObserve</th>\n",
       "      <th>nDetect</th>\n",
       "      <th>airmass_u</th>\n",
       "      <th>airmass_g</th>\n",
       "      <th>airmass_r</th>\n",
       "      <th>airmass_i</th>\n",
       "      <th>airmass_z</th>\n",
       "    </tr>\n",
       "  </thead>\n",
       "  <tbody>\n",
       "    <tr>\n",
       "      <th>count</th>\n",
       "      <td>80000.0000</td>\n",
       "      <td>80000.0000</td>\n",
       "      <td>80000.0000</td>\n",
       "      <td>80000.0000</td>\n",
       "      <td>80000.0000</td>\n",
       "      <td>8.0000e+04</td>\n",
       "      <td>80000.0000</td>\n",
       "      <td>80000.0000</td>\n",
       "      <td>80000.0000</td>\n",
       "      <td>80000.0000</td>\n",
       "      <td>80000.0000</td>\n",
       "      <td>80000.0000</td>\n",
       "      <td>80000.0000</td>\n",
       "      <td>80000.0000</td>\n",
       "      <td>80000.0000</td>\n",
       "      <td>80000.0000</td>\n",
       "      <td>80000.0000</td>\n",
       "      <td>80000.0000</td>\n",
       "    </tr>\n",
       "    <tr>\n",
       "      <th>mean</th>\n",
       "      <td>19.8598</td>\n",
       "      <td>18.4371</td>\n",
       "      <td>17.7397</td>\n",
       "      <td>17.3065</td>\n",
       "      <td>17.1490</td>\n",
       "      <td>6.0083e-02</td>\n",
       "      <td>19.6350</td>\n",
       "      <td>18.2638</td>\n",
       "      <td>17.6193</td>\n",
       "      <td>17.2178</td>\n",
       "      <td>16.8702</td>\n",
       "      <td>6.3499</td>\n",
       "      <td>6.1578</td>\n",
       "      <td>1.1760</td>\n",
       "      <td>1.1767</td>\n",
       "      <td>1.1753</td>\n",
       "      <td>1.1756</td>\n",
       "      <td>1.1763</td>\n",
       "    </tr>\n",
       "    <tr>\n",
       "      <th>std</th>\n",
       "      <td>1.9543</td>\n",
       "      <td>1.7030</td>\n",
       "      <td>1.4786</td>\n",
       "      <td>1.3207</td>\n",
       "      <td>24.6431</td>\n",
       "      <td>3.4684e-01</td>\n",
       "      <td>1.9210</td>\n",
       "      <td>1.6657</td>\n",
       "      <td>1.4760</td>\n",
       "      <td>1.3324</td>\n",
       "      <td>35.4367</td>\n",
       "      <td>8.8728</td>\n",
       "      <td>8.5509</td>\n",
       "      <td>0.1164</td>\n",
       "      <td>0.1182</td>\n",
       "      <td>0.1148</td>\n",
       "      <td>0.1156</td>\n",
       "      <td>0.1173</td>\n",
       "    </tr>\n",
       "    <tr>\n",
       "      <th>min</th>\n",
       "      <td>-0.3385</td>\n",
       "      <td>-51.1753</td>\n",
       "      <td>-5.4387</td>\n",
       "      <td>5.3267</td>\n",
       "      <td>-39.5272</td>\n",
       "      <td>-3.0149e+01</td>\n",
       "      <td>-30.6337</td>\n",
       "      <td>-18.6560</td>\n",
       "      <td>-8.7560</td>\n",
       "      <td>-3.6973</td>\n",
       "      <td>-9999.0000</td>\n",
       "      <td>1.0000</td>\n",
       "      <td>1.0000</td>\n",
       "      <td>1.0001</td>\n",
       "      <td>1.0001</td>\n",
       "      <td>1.0002</td>\n",
       "      <td>1.0002</td>\n",
       "      <td>1.0001</td>\n",
       "    </tr>\n",
       "    <tr>\n",
       "      <th>25%</th>\n",
       "      <td>18.7273</td>\n",
       "      <td>17.4780</td>\n",
       "      <td>16.8820</td>\n",
       "      <td>16.5255</td>\n",
       "      <td>16.2882</td>\n",
       "      <td>3.3645e-05</td>\n",
       "      <td>18.5709</td>\n",
       "      <td>17.3522</td>\n",
       "      <td>16.7906</td>\n",
       "      <td>16.4562</td>\n",
       "      <td>16.2310</td>\n",
       "      <td>1.0000</td>\n",
       "      <td>1.0000</td>\n",
       "      <td>1.0881</td>\n",
       "      <td>1.0883</td>\n",
       "      <td>1.0877</td>\n",
       "      <td>1.0879</td>\n",
       "      <td>1.0882</td>\n",
       "    </tr>\n",
       "    <tr>\n",
       "      <th>50%</th>\n",
       "      <td>19.4261</td>\n",
       "      <td>18.1451</td>\n",
       "      <td>17.5299</td>\n",
       "      <td>17.1560</td>\n",
       "      <td>16.9212</td>\n",
       "      <td>4.7115e-02</td>\n",
       "      <td>19.2674</td>\n",
       "      <td>18.0247</td>\n",
       "      <td>17.4487</td>\n",
       "      <td>17.0912</td>\n",
       "      <td>16.8733</td>\n",
       "      <td>2.0000</td>\n",
       "      <td>2.0000</td>\n",
       "      <td>1.1794</td>\n",
       "      <td>1.1793</td>\n",
       "      <td>1.1794</td>\n",
       "      <td>1.1794</td>\n",
       "      <td>1.1793</td>\n",
       "    </tr>\n",
       "    <tr>\n",
       "      <th>75%</th>\n",
       "      <td>20.4344</td>\n",
       "      <td>19.0793</td>\n",
       "      <td>18.4345</td>\n",
       "      <td>18.0080</td>\n",
       "      <td>17.7333</td>\n",
       "      <td>9.4769e-02</td>\n",
       "      <td>20.1999</td>\n",
       "      <td>18.8948</td>\n",
       "      <td>18.2952</td>\n",
       "      <td>17.9109</td>\n",
       "      <td>17.6578</td>\n",
       "      <td>5.0000</td>\n",
       "      <td>5.0000</td>\n",
       "      <td>1.2278</td>\n",
       "      <td>1.2262</td>\n",
       "      <td>1.2294</td>\n",
       "      <td>1.2289</td>\n",
       "      <td>1.2269</td>\n",
       "    </tr>\n",
       "    <tr>\n",
       "      <th>max</th>\n",
       "      <td>56.8471</td>\n",
       "      <td>94.3591</td>\n",
       "      <td>46.6913</td>\n",
       "      <td>33.0259</td>\n",
       "      <td>6976.3922</td>\n",
       "      <td>4.6390e+01</td>\n",
       "      <td>30.8899</td>\n",
       "      <td>30.9529</td>\n",
       "      <td>31.6536</td>\n",
       "      <td>30.9478</td>\n",
       "      <td>28.6441</td>\n",
       "      <td>44.0000</td>\n",
       "      <td>42.0000</td>\n",
       "      <td>2.0502</td>\n",
       "      <td>2.0797</td>\n",
       "      <td>2.0216</td>\n",
       "      <td>2.0358</td>\n",
       "      <td>2.0648</td>\n",
       "    </tr>\n",
       "  </tbody>\n",
       "</table>\n",
       "</div>"
      ],
      "text/plain": [
       "                u           g           r           i           z    redshift  \\\n",
       "count  80000.0000  80000.0000  80000.0000  80000.0000  80000.0000  8.0000e+04   \n",
       "mean      19.8598     18.4371     17.7397     17.3065     17.1490  6.0083e-02   \n",
       "std        1.9543      1.7030      1.4786      1.3207     24.6431  3.4684e-01   \n",
       "min       -0.3385    -51.1753     -5.4387      5.3267    -39.5272 -3.0149e+01   \n",
       "25%       18.7273     17.4780     16.8820     16.5255     16.2882  3.3645e-05   \n",
       "50%       19.4261     18.1451     17.5299     17.1560     16.9212  4.7115e-02   \n",
       "75%       20.4344     19.0793     18.4345     18.0080     17.7333  9.4769e-02   \n",
       "max       56.8471     94.3591     46.6913     33.0259   6976.3922  4.6390e+01   \n",
       "\n",
       "          dered_u     dered_g     dered_r     dered_i     dered_z    nObserve  \\\n",
       "count  80000.0000  80000.0000  80000.0000  80000.0000  80000.0000  80000.0000   \n",
       "mean      19.6350     18.2638     17.6193     17.2178     16.8702      6.3499   \n",
       "std        1.9210      1.6657      1.4760      1.3324     35.4367      8.8728   \n",
       "min      -30.6337    -18.6560     -8.7560     -3.6973  -9999.0000      1.0000   \n",
       "25%       18.5709     17.3522     16.7906     16.4562     16.2310      1.0000   \n",
       "50%       19.2674     18.0247     17.4487     17.0912     16.8733      2.0000   \n",
       "75%       20.1999     18.8948     18.2952     17.9109     17.6578      5.0000   \n",
       "max       30.8899     30.9529     31.6536     30.9478     28.6441     44.0000   \n",
       "\n",
       "          nDetect   airmass_u   airmass_g   airmass_r   airmass_i   airmass_z  \n",
       "count  80000.0000  80000.0000  80000.0000  80000.0000  80000.0000  80000.0000  \n",
       "mean       6.1578      1.1760      1.1767      1.1753      1.1756      1.1763  \n",
       "std        8.5509      0.1164      0.1182      0.1148      0.1156      0.1173  \n",
       "min        1.0000      1.0001      1.0001      1.0002      1.0002      1.0001  \n",
       "25%        1.0000      1.0881      1.0883      1.0877      1.0879      1.0882  \n",
       "50%        2.0000      1.1794      1.1793      1.1794      1.1794      1.1793  \n",
       "75%        5.0000      1.2278      1.2262      1.2294      1.2289      1.2269  \n",
       "max       42.0000      2.0502      2.0797      2.0216      2.0358      2.0648  "
      ]
     },
     "execution_count": 8,
     "metadata": {},
     "output_type": "execute_result"
    }
   ],
   "source": [
    "df_test.describe()"
   ]
  },
  {
   "cell_type": "markdown",
   "metadata": {},
   "source": [
    "# 변수 생성"
   ]
  },
  {
   "cell_type": "markdown",
   "metadata": {},
   "source": [
    "ver1: 앞뒤 컬럼의 차이를 변수로 생성"
   ]
  },
  {
   "cell_type": "markdown",
   "metadata": {},
   "source": [
    "## Ver1"
   ]
  },
  {
   "cell_type": "code",
   "execution_count": 9,
   "metadata": {
    "ExecuteTime": {
     "end_time": "2020-09-26T11:06:43.348288Z",
     "start_time": "2020-09-26T11:06:43.326984Z"
    }
   },
   "outputs": [],
   "source": [
    "wave_columns = df_train.columns.drop(['nObserve','nDetect','class','redshift'])"
   ]
  },
  {
   "cell_type": "code",
   "execution_count": 10,
   "metadata": {
    "ExecuteTime": {
     "end_time": "2020-09-26T11:06:43.421547Z",
     "start_time": "2020-09-26T11:06:43.350019Z"
    }
   },
   "outputs": [
    {
     "name": "stdout",
     "output_type": "stream",
     "text": [
      "g  -  u 0\n",
      "r  -  g 1\n",
      "i  -  r 2\n",
      "z  -  i 3\n",
      "dered_u  -  z 4\n",
      "dered_g  -  dered_u 5\n",
      "dered_r  -  dered_g 6\n",
      "dered_i  -  dered_r 7\n",
      "dered_z  -  dered_i 8\n",
      "airmass_u  -  dered_z 9\n",
      "airmass_g  -  airmass_u 10\n",
      "airmass_r  -  airmass_g 11\n",
      "airmass_i  -  airmass_r 12\n",
      "airmass_z  -  airmass_i 13\n"
     ]
    }
   ],
   "source": [
    "for j in range(14):\n",
    "    name = 'diff_' + str(wave_columns[j+1]) + '_' + str(wave_columns[j])\n",
    "    df_train[name] = df_train[wave_columns[j+1]] - df_train[wave_columns[j]]\n",
    "    df_test[name] = df_test[wave_columns[j+1]] - df_test[wave_columns[j]]\n",
    "    print(wave_columns[j+1], ' - ', wave_columns[j], j)"
   ]
  },
  {
   "cell_type": "code",
   "execution_count": 11,
   "metadata": {
    "ExecuteTime": {
     "end_time": "2020-09-26T11:06:43.924500Z",
     "start_time": "2020-09-26T11:06:43.423259Z"
    }
   },
   "outputs": [],
   "source": [
    "# 15포인트 랭킹\n",
    "\n",
    "mag_rank_tr = df_train[wave_columns].rank(axis=1)\n",
    "mag_rank_tt = df_test[wave_columns].rank(axis=1)\n",
    "\n",
    "rank_col = []\n",
    "for col in df_train[wave_columns].columns:\n",
    "    col = col + '_rank'\n",
    "    rank_col.append(col)\n",
    "mag_rank_tr.columns = rank_col\n",
    "mag_rank_tt.columns = rank_col\n",
    "\n",
    "df_train = pd.concat([df_train, mag_rank_tr], axis=1)\n",
    "df_test = pd.concat([df_test,mag_rank_tt], axis=1)"
   ]
  },
  {
   "cell_type": "code",
   "execution_count": 12,
   "metadata": {
    "ExecuteTime": {
     "end_time": "2020-09-26T11:06:44.008053Z",
     "start_time": "2020-09-26T11:06:43.926453Z"
    },
    "code_folding": []
   },
   "outputs": [
    {
     "name": "stdout",
     "output_type": "stream",
     "text": [
      "u  -  dered_u 0\n",
      "g  -  dered_g 1\n",
      "r  -  dered_r 2\n",
      "i  -  dered_i 3\n",
      "z  -  dered_z 4\n",
      "u  -  airmass_u 5\n",
      "g  -  airmass_g 6\n",
      "r  -  airmass_r 7\n",
      "i  -  airmass_i 8\n",
      "z  -  airmass_z 9\n"
     ]
    }
   ],
   "source": [
    "# 측정방법별 파장 차이 비교 변수\n",
    "\n",
    "diff_col = []\n",
    "for col in ['u','g','r','i','z']:\n",
    "    for i in range(2):\n",
    "        diff_col.append(col + '_' + str(i))\n",
    "\n",
    "mag_wave_diff_tr = pd.DataFrame(np.zeros((df_train.shape[0], 10)), index=df_train.index)\n",
    "mag_wave_diff_tt = pd.DataFrame(np.zeros((df_test.shape[0],10)), index=df_test.index)\n",
    "\n",
    "for i in range(0,10,5):\n",
    "    for j in range(5):\n",
    "        mag_wave_diff_tr.loc[:, j+i] = df_train[wave_columns[j]] - df_train[wave_columns[5+j+i]]\n",
    "        mag_wave_diff_tt.loc[:, j+i] = df_test[wave_columns[j]] - df_test[wave_columns[5+j+i]]\n",
    "        print(wave_columns[j], ' - ', wave_columns[5+j+i],i+j)"
   ]
  },
  {
   "cell_type": "code",
   "execution_count": 13,
   "metadata": {
    "ExecuteTime": {
     "end_time": "2020-09-26T11:06:44.265524Z",
     "start_time": "2020-09-26T11:06:44.010222Z"
    }
   },
   "outputs": [],
   "source": [
    "mag_wave_diff_tr.columns = diff_col\n",
    "mag_wave_diff_tt.columns = diff_col\n",
    "\n",
    "df_train = pd.concat([df_train, mag_wave_diff_tr], axis=1)\n",
    "df_test = pd.concat([df_test, mag_wave_diff_tt], axis=1)"
   ]
  },
  {
   "cell_type": "code",
   "execution_count": 14,
   "metadata": {
    "ExecuteTime": {
     "end_time": "2020-09-26T11:06:44.305710Z",
     "start_time": "2020-09-26T11:06:44.267722Z"
    }
   },
   "outputs": [],
   "source": [
    "df_train['nObserve'] = df_train['nObserve'].apply(np.log1p)\n",
    "df_test['nObserve'] = df_test['nObserve'].apply(np.log1p)\n",
    "\n",
    "df_train['d_obs_det'] = df_train['nObserve'] - df_train['nDetect']\n",
    "df_test['d_obs_det'] = df_test['nObserve'] - df_test['nDetect']"
   ]
  },
  {
   "cell_type": "markdown",
   "metadata": {},
   "source": [
    "# dataset 생성"
   ]
  },
  {
   "cell_type": "code",
   "execution_count": 15,
   "metadata": {
    "ExecuteTime": {
     "end_time": "2020-09-26T11:06:44.334298Z",
     "start_time": "2020-09-26T11:06:44.307829Z"
    }
   },
   "outputs": [],
   "source": [
    "drop_columns = ['d_obs_det','g_0','diff_airmass_z_airmass_i','u','airmass_g','airmass_z','nDetect','dered_i_rank','diff_airmass_r_airmass_g','dered_r_rank','dered_g_rank','g_rank','airmass_i_rank','airmass_r_rank','airmass_g_rank','airmass_z_rank','dered_u_rank','r_rank','diff_airmass_u_dered_z','u_rank','z_rank','dered_z_rank','airmass_u_rank','diff_airmass_i_airmass_r','i_rank','airmass_r','z']\n"
   ]
  },
  {
   "cell_type": "code",
   "execution_count": 16,
   "metadata": {
    "ExecuteTime": {
     "end_time": "2020-09-26T11:06:44.676046Z",
     "start_time": "2020-09-26T11:06:44.336482Z"
    }
   },
   "outputs": [],
   "source": [
    "df_train = df_train.drop(drop_columns, axis=1).copy()\n",
    "df_test = df_test.drop(drop_columns, axis=1).copy()"
   ]
  },
  {
   "cell_type": "code",
   "execution_count": 17,
   "metadata": {
    "ExecuteTime": {
     "end_time": "2020-09-26T11:06:44.815156Z",
     "start_time": "2020-09-26T11:06:44.677920Z"
    }
   },
   "outputs": [],
   "source": [
    "# train set\n",
    "X = df_train.drop(columns=['class'], axis=1)\n",
    "y = df_train.loc[:,'class']\n",
    "\n",
    "# test set\n",
    "test = df_test\n",
    "\n",
    "# train set splitd\n",
    "X_train, X_val, y_train, y_val = train_test_split(X,y,test_size=0.3, random_state=SEED)"
   ]
  },
  {
   "cell_type": "markdown",
   "metadata": {},
   "source": [
    "# 모델 학습 "
   ]
  },
  {
   "cell_type": "code",
   "execution_count": 18,
   "metadata": {
    "ExecuteTime": {
     "end_time": "2020-09-26T11:06:44.844394Z",
     "start_time": "2020-09-26T11:06:44.817375Z"
    }
   },
   "outputs": [],
   "source": [
    "# Xgboost\n",
    "xgb_params = {\n",
    "    'n_jobs' : -1, \n",
    "    'n_estimators': 100,\n",
    "    'eval_metric': 'mlogloss',\n",
    "    'eta': 0.3, # learning_rate\n",
    "    'booster': 'gbtree',\n",
    "    'tree_method': 'auto',\n",
    "    'objective': 'multi:softmax',\n",
    "    'num_class': 3,\n",
    "    'random_state': 2020\n",
    "}"
   ]
  },
  {
   "cell_type": "code",
   "execution_count": 19,
   "metadata": {
    "ExecuteTime": {
     "end_time": "2020-09-26T11:11:09.734855Z",
     "start_time": "2020-09-26T11:06:44.846174Z"
    }
   },
   "outputs": [
    {
     "name": "stdout",
     "output_type": "stream",
     "text": [
      "0.9344217885535077\n"
     ]
    }
   ],
   "source": [
    "xgb_clf = xgb.XGBClassifier(**xgb_params)\n",
    "xgb_clf.fit(X_train,y_train)\n",
    "p = xgb_clf.predict(X_val)\n",
    "print(accuracy_score(p,y_val))"
   ]
  },
  {
   "cell_type": "code",
   "execution_count": 20,
   "metadata": {
    "ExecuteTime": {
     "end_time": "2020-09-26T11:11:09.764629Z",
     "start_time": "2020-09-26T11:11:09.736903Z"
    }
   },
   "outputs": [],
   "source": [
    "# # 0.9356\n",
    "\n",
    "# xgb_clf.fit(X,y)\n",
    "# p = xgb_clf.predict(test)\n",
    "\n",
    "# submission = pd.read_csv('../input/dankook/sample_submission.csv')\n",
    "# submission['class'] = p\n",
    "# submission.to_csv('submission.csv',index=False, encoding='utf-8-sig')"
   ]
  },
  {
   "cell_type": "markdown",
   "metadata": {},
   "source": [
    "# 파라미터 튜닝"
   ]
  },
  {
   "cell_type": "code",
   "execution_count": 21,
   "metadata": {
    "ExecuteTime": {
     "end_time": "2020-09-26T11:11:09.807638Z",
     "start_time": "2020-09-26T11:11:09.766341Z"
    }
   },
   "outputs": [],
   "source": [
    "# Classifier\n",
    "bayes_cv_tuner = BayesSearchCV(\n",
    "    estimator = xgb_clf,\n",
    "    search_spaces = {\n",
    "        'learning_rate': (0.01, 1.0),\n",
    "        'max_depth': (0, 50),\n",
    "        'max_delta_step': (0, 20),\n",
    "        'max_bin': (100, 1000),\n",
    "        'gamma': (0.001, 0.5),\n",
    "        'subsample': (0.01, 1.0),\n",
    "        'colsample_bytree': (0.01, 1.0),\n",
    "        'colsample_bylevel': (0.01, 1.0),\n",
    "        'min_child_weight': (0, 10),\n",
    "        'reg_lambda': (0.01, 1000),\n",
    "        'reg_alpha': (0.01, 1.0),\n",
    "        'scale_pos_weight': (0.01, 500),\n",
    "        'n_estimators': (50, 100),\n",
    "    },    \n",
    "    cv = StratifiedKFold(\n",
    "        n_splits=5,\n",
    "        shuffle=True,\n",
    "        random_state=2020\n",
    "    ),\n",
    "    scoring='neg_log_loss',\n",
    "    n_jobs = -1,\n",
    "    n_iter = 1000,   \n",
    "    verbose = 0,\n",
    "    refit = True,\n",
    "    random_state = 2020\n",
    ")\n",
    "\n",
    "def status_print(optim_result):\n",
    "    \"\"\"Status callback durring bayesian hyperparameter search\"\"\"\n",
    "    \n",
    "    # Get all the models tested so far in DataFrame format\n",
    "    all_models = pd.DataFrame(bayes_cv_tuner.cv_results_)    \n",
    "    \n",
    "    # Get current parameters and the best parameters    \n",
    "    best_params = pd.Series(bayes_cv_tuner.best_params_)\n",
    "    print('Model #{}\\nBest ROC-AUC: {}\\nBest params: {}\\n'.format(\n",
    "        len(all_models),\n",
    "        np.round(bayes_cv_tuner.best_score_, 4),\n",
    "        bayes_cv_tuner.best_params_\n",
    "    ))\n",
    "    \n",
    "    # Save all model results\n",
    "    clf_name = bayes_cv_tuner.estimator.__class__.__name__\n",
    "    all_models.to_csv(clf_name+\"_cv_results.csv\")"
   ]
  },
  {
   "cell_type": "code",
   "execution_count": null,
   "metadata": {
    "ExecuteTime": {
     "end_time": "2020-09-28T11:23:30.135096Z",
     "start_time": "2020-09-28T11:23:26.377Z"
    }
   },
   "outputs": [],
   "source": [
    "result = bayes_cv_tuner.fit(X.values, y.values, callback=status_print)"
   ]
  },
  {
   "cell_type": "code",
   "execution_count": null,
   "metadata": {},
   "outputs": [],
   "source": []
  }
 ],
 "metadata": {
  "kernelspec": {
   "display_name": "Python 3",
   "language": "python",
   "name": "python3"
  },
  "toc": {
   "base_numbering": 1,
   "nav_menu": {},
   "number_sections": true,
   "sideBar": true,
   "skip_h1_title": false,
   "title_cell": "Table of Contents",
   "title_sidebar": "Contents",
   "toc_cell": false,
   "toc_position": {},
   "toc_section_display": true,
   "toc_window_display": false
  },
  "varInspector": {
   "cols": {
    "lenName": 16,
    "lenType": 16,
    "lenVar": 40
   },
   "kernels_config": {
    "python": {
     "delete_cmd_postfix": "",
     "delete_cmd_prefix": "del ",
     "library": "var_list.py",
     "varRefreshCmd": "print(var_dic_list())"
    },
    "r": {
     "delete_cmd_postfix": ") ",
     "delete_cmd_prefix": "rm(",
     "library": "var_list.r",
     "varRefreshCmd": "cat(var_dic_list()) "
    }
   },
   "types_to_exclude": [
    "module",
    "function",
    "builtin_function_or_method",
    "instance",
    "_Feature"
   ],
   "window_display": false
  }
 },
 "nbformat": 4,
 "nbformat_minor": 2
}
