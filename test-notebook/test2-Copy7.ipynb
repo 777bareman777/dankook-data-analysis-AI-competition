{
 "cells": [
  {
   "cell_type": "code",
   "execution_count": 30,
   "metadata": {
    "ExecuteTime": {
     "end_time": "2020-09-25T14:11:08.204599Z",
     "start_time": "2020-09-25T14:11:08.143847Z"
    }
   },
   "outputs": [],
   "source": [
    "%reload_ext autoreload\n",
    "%autoreload 2\n",
    "%matplotlib inline"
   ]
  },
  {
   "cell_type": "code",
   "execution_count": 31,
   "metadata": {
    "ExecuteTime": {
     "end_time": "2020-09-25T14:11:09.751339Z",
     "start_time": "2020-09-25T14:11:09.694418Z"
    }
   },
   "outputs": [],
   "source": [
    "import numpy as np\n",
    "import pandas as pd\n",
    "\n",
    "import matplotlib.pyplot as plt\n",
    "from matplotlib import rcParams\n",
    "import seaborn as sns\n",
    "\n",
    "import warnings\n",
    "from pathlib import Path\n",
    "\n",
    "# FE\n",
    "from scipy.signal import find_peaks, peak_widths, peak_prominences\n",
    "\n",
    "from sklearn.model_selection import train_test_split\n",
    "\n",
    "import gc\n",
    "from bayes_opt import BayesianOptimization\n",
    "from sklearn.model_selection import cross_val_score, StratifiedKFold, StratifiedShuffleSplit\n",
    "from sklearn.metrics import log_loss, matthews_corrcoef, roc_auc_score\n",
    "from sklearn.preprocessing import MinMaxScaler\n",
    "import xgboost as xgb\n",
    "import contextlib\n",
    "\n",
    "from sklearn.metrics import accuracy_score\n",
    "\n",
    "from skopt import BayesSearchCV\n",
    "from sklearn.model_selection import StratifiedKFold"
   ]
  },
  {
   "cell_type": "code",
   "execution_count": 32,
   "metadata": {
    "ExecuteTime": {
     "end_time": "2020-09-25T14:11:11.029523Z",
     "start_time": "2020-09-25T14:11:10.983716Z"
    }
   },
   "outputs": [],
   "source": [
    "pd.set_option('max_columns', 100)\n",
    "pd.set_option('display.precision', 4)\n",
    "\n",
    "rcParams['figure.figsize'] = (16, 8)\n",
    "plt.style.use('fivethirtyeight')\n",
    "sns.set(font_scale=2.5)\n",
    "\n",
    "warnings.filterwarnings('ignore')"
   ]
  },
  {
   "cell_type": "markdown",
   "metadata": {
    "ExecuteTime": {
     "end_time": "2020-09-24T03:20:08.717989Z",
     "start_time": "2020-09-24T03:20:08.694547Z"
    }
   },
   "source": [
    "# 데이터 로드"
   ]
  },
  {
   "cell_type": "code",
   "execution_count": 33,
   "metadata": {
    "ExecuteTime": {
     "end_time": "2020-09-25T14:11:12.338471Z",
     "start_time": "2020-09-25T14:11:12.291959Z"
    }
   },
   "outputs": [],
   "source": [
    "data_dir = Path('../input/dankook')\n",
    "sub_dir = Path('../output/')\n",
    "\n",
    "train_file = data_dir / 'train.csv'\n",
    "test_file = data_dir / 'test.csv'\n",
    "sample_file = data_dir / 'sample_submission.csv'\n",
    "sub_file = sub_dir / 'submission.csv'\n",
    "\n",
    "SEED = 2020"
   ]
  },
  {
   "cell_type": "code",
   "execution_count": 34,
   "metadata": {
    "ExecuteTime": {
     "end_time": "2020-09-25T14:11:14.677604Z",
     "start_time": "2020-09-25T14:11:13.511982Z"
    }
   },
   "outputs": [],
   "source": [
    "df_train = pd.read_csv(train_file, index_col=0)\n",
    "df_test = pd.read_csv(test_file, index_col=0)"
   ]
  },
  {
   "cell_type": "markdown",
   "metadata": {},
   "source": [
    "# 변수 생성"
   ]
  },
  {
   "cell_type": "markdown",
   "metadata": {},
   "source": [
    "ver1: 앞뒤 컬럼의 차이를 변수로 생성\n",
    "\n",
    "ver2: 5개 컬럼 전의 컬럼과의 차이까지 변수로 생성"
   ]
  },
  {
   "cell_type": "code",
   "execution_count": 35,
   "metadata": {
    "ExecuteTime": {
     "end_time": "2020-09-25T14:11:15.910814Z",
     "start_time": "2020-09-25T14:11:15.865749Z"
    }
   },
   "outputs": [],
   "source": [
    "wave_columns = df_train.columns.drop(['nObserve','nDetect','class','redshift'])"
   ]
  },
  {
   "cell_type": "markdown",
   "metadata": {},
   "source": [
    "## Ver1"
   ]
  },
  {
   "cell_type": "code",
   "execution_count": 36,
   "metadata": {
    "ExecuteTime": {
     "end_time": "2020-09-25T14:11:17.208882Z",
     "start_time": "2020-09-25T14:11:17.116434Z"
    }
   },
   "outputs": [
    {
     "name": "stdout",
     "output_type": "stream",
     "text": [
      "g  -  u 0\n",
      "r  -  g 1\n",
      "i  -  r 2\n",
      "z  -  i 3\n",
      "dered_u  -  z 4\n",
      "dered_g  -  dered_u 5\n",
      "dered_r  -  dered_g 6\n",
      "dered_i  -  dered_r 7\n",
      "dered_z  -  dered_i 8\n",
      "airmass_u  -  dered_z 9\n",
      "airmass_g  -  airmass_u 10\n",
      "airmass_r  -  airmass_g 11\n",
      "airmass_i  -  airmass_r 12\n",
      "airmass_z  -  airmass_i 13\n"
     ]
    }
   ],
   "source": [
    "for j in range(14):\n",
    "    name = 'diff_' + str(wave_columns[j+1]) + '_' + str(wave_columns[j])\n",
    "    df_train[name] = df_train[wave_columns[j+1]] - df_train[wave_columns[j]]\n",
    "    df_test[name] = df_test[wave_columns[j+1]] - df_test[wave_columns[j]]\n",
    "    print(wave_columns[j+1], ' - ', wave_columns[j], j)"
   ]
  },
  {
   "cell_type": "code",
   "execution_count": 37,
   "metadata": {
    "ExecuteTime": {
     "end_time": "2020-09-25T14:11:19.045864Z",
     "start_time": "2020-09-25T14:11:18.540966Z"
    }
   },
   "outputs": [],
   "source": [
    "# 15포인트 랭킹\n",
    "\n",
    "mag_rank_tr = df_train[wave_columns].rank(axis=1)\n",
    "mag_rank_tt = df_test[wave_columns].rank(axis=1)\n",
    "\n",
    "rank_col = []\n",
    "for col in df_train[wave_columns].columns:\n",
    "    col = col + '_rank'\n",
    "    rank_col.append(col)\n",
    "mag_rank_tr.columns = rank_col\n",
    "mag_rank_tt.columns = rank_col\n",
    "\n",
    "df_train = pd.concat([df_train, mag_rank_tr], axis=1)\n",
    "df_test = pd.concat([df_test,mag_rank_tt], axis=1)"
   ]
  },
  {
   "cell_type": "code",
   "execution_count": 38,
   "metadata": {
    "ExecuteTime": {
     "end_time": "2020-09-25T14:11:20.474358Z",
     "start_time": "2020-09-25T14:11:20.370246Z"
    },
    "code_folding": []
   },
   "outputs": [
    {
     "name": "stdout",
     "output_type": "stream",
     "text": [
      "u  -  dered_u 0\n",
      "g  -  dered_g 1\n",
      "r  -  dered_r 2\n",
      "i  -  dered_i 3\n",
      "z  -  dered_z 4\n",
      "u  -  airmass_u 5\n",
      "g  -  airmass_g 6\n",
      "r  -  airmass_r 7\n",
      "i  -  airmass_i 8\n",
      "z  -  airmass_z 9\n"
     ]
    }
   ],
   "source": [
    "# 측정방법별 파장 차이 비교 변수\n",
    "\n",
    "diff_col = []\n",
    "for col in ['u','g','r','i','z']:\n",
    "    for i in range(2):\n",
    "        diff_col.append(col + '_' + str(i))\n",
    "\n",
    "mag_wave_diff_tr = pd.DataFrame(np.zeros((df_train.shape[0], 10)), index=df_train.index)\n",
    "mag_wave_diff_tt = pd.DataFrame(np.zeros((df_test.shape[0],10)), index=df_test.index)\n",
    "\n",
    "for i in range(0,10,5):\n",
    "    for j in range(5):\n",
    "        mag_wave_diff_tr.loc[:, j+i] = df_train[wave_columns[j]] - df_train[wave_columns[5+j+i]]\n",
    "        mag_wave_diff_tt.loc[:, j+i] = df_test[wave_columns[j]] - df_test[wave_columns[5+j+i]]\n",
    "        print(wave_columns[j], ' - ', wave_columns[5+j+i],i+j)"
   ]
  },
  {
   "cell_type": "code",
   "execution_count": 39,
   "metadata": {
    "ExecuteTime": {
     "end_time": "2020-09-25T14:11:22.062026Z",
     "start_time": "2020-09-25T14:11:21.791634Z"
    }
   },
   "outputs": [],
   "source": [
    "mag_wave_diff_tr.columns = diff_col\n",
    "mag_wave_diff_tt.columns = diff_col\n",
    "\n",
    "df_train = pd.concat([df_train, mag_wave_diff_tr], axis=1)\n",
    "df_test = pd.concat([df_test, mag_wave_diff_tt], axis=1)\n",
    "\n"
   ]
  },
  {
   "cell_type": "code",
   "execution_count": 40,
   "metadata": {
    "ExecuteTime": {
     "end_time": "2020-09-25T14:11:23.494533Z",
     "start_time": "2020-09-25T14:11:23.439953Z"
    }
   },
   "outputs": [],
   "source": [
    "df_train['nObserve'] = df_train['nObserve'].apply(np.log1p)\n",
    "df_test['nObserve'] = df_test['nObserve'].apply(np.log1p)\n",
    "\n",
    "df_train['d_obs_det'] = df_train['nObserve'] - df_train['nDetect']\n",
    "df_test['d_obs_det'] = df_test['nObserve'] - df_test['nDetect']"
   ]
  },
  {
   "cell_type": "code",
   "execution_count": 41,
   "metadata": {
    "ExecuteTime": {
     "end_time": "2020-09-25T14:11:24.963629Z",
     "start_time": "2020-09-25T14:11:24.916474Z"
    }
   },
   "outputs": [],
   "source": [
    "delete_column=['u','g','r','i','nDetect',\n",
    "               'airmass_g', 'airmass_r', 'airmass_i', 'airmass_z',\n",
    "               'dered_u','dered_g','dered_r','dered_i',\n",
    "               'diff_airmass_g_airmass_u','diff_airmass_r_airmass_g',\n",
    "               'diff_airmass_i_airmass_r',\n",
    "               'airmass_u_rank', 'airmass_g_rank', 'airmass_r_rank',\n",
    "               'airmass_i_rank','i_1','z_1','u_1','i_0','r_rank','dered_z_rank','dered_g_rank','z_rank','dered_i_rank','airmass_z_rank','i_rank','dered_u_rank','u_rank','g_rank','dered_r_rank','airmass_u','diff_airmass_z_airmass_i'\n",
    "              ]"
   ]
  },
  {
   "cell_type": "code",
   "execution_count": 42,
   "metadata": {
    "ExecuteTime": {
     "end_time": "2020-09-25T14:11:26.738064Z",
     "start_time": "2020-09-25T14:11:26.431277Z"
    }
   },
   "outputs": [],
   "source": [
    "df_train.drop(delete_column, axis=1, inplace=True)\n",
    "df_test.drop(delete_column, axis=1, inplace=True)"
   ]
  },
  {
   "cell_type": "markdown",
   "metadata": {},
   "source": [
    "# 데이터셋 생성"
   ]
  },
  {
   "cell_type": "code",
   "execution_count": 43,
   "metadata": {
    "ExecuteTime": {
     "end_time": "2020-09-25T14:11:28.121193Z",
     "start_time": "2020-09-25T14:11:27.948313Z"
    }
   },
   "outputs": [],
   "source": [
    "features = df_train.columns.drop(['class'])\n",
    "scaler = MinMaxScaler()\n",
    "\n",
    "# train set\n",
    "X = scaler.fit_transform(df_train.drop(columns=['class'], axis=1))\n",
    "X = pd.DataFrame(X, columns=features)\n",
    "y = df_train.loc[:,'class']\n",
    "\n",
    "# test set\n",
    "test = scaler.transform(df_test)\n",
    "test = pd.DataFrame(test, columns=features)"
   ]
  },
  {
   "cell_type": "code",
   "execution_count": 44,
   "metadata": {
    "ExecuteTime": {
     "end_time": "2020-09-25T14:11:29.386435Z",
     "start_time": "2020-09-25T14:11:29.341818Z"
    }
   },
   "outputs": [],
   "source": [
    "X = pd.DataFrame(X, columns=features)\n",
    "test = pd.DataFrame(test,columns=features)"
   ]
  },
  {
   "cell_type": "code",
   "execution_count": 45,
   "metadata": {
    "ExecuteTime": {
     "end_time": "2020-09-25T14:11:30.724437Z",
     "start_time": "2020-09-25T14:11:30.612814Z"
    }
   },
   "outputs": [],
   "source": [
    "# train set split\n",
    "X_train, X_test, y_train, y_test = train_test_split(X,y,test_size=0.3, random_state=2020)"
   ]
  },
  {
   "cell_type": "markdown",
   "metadata": {},
   "source": [
    "# feature 선택"
   ]
  },
  {
   "cell_type": "code",
   "execution_count": 46,
   "metadata": {
    "ExecuteTime": {
     "end_time": "2020-09-25T14:11:32.117955Z",
     "start_time": "2020-09-25T14:11:32.072822Z"
    }
   },
   "outputs": [],
   "source": [
    "# Xgboost\n",
    "xgb_params = {\n",
    "    'n_jobs' : -1, \n",
    "    'n_estimators': 100,\n",
    "    'eval_metric': 'mlogloss',\n",
    "    'eta': 0.3, # learning_rate\n",
    "    'booster': 'gbtree',\n",
    "    'tree_method': 'auto',\n",
    "    'objective': 'multi:softmax',\n",
    "    'num_class': 3,\n",
    "    'random_state': 2020\n",
    "}"
   ]
  },
  {
   "cell_type": "code",
   "execution_count": 47,
   "metadata": {
    "ExecuteTime": {
     "end_time": "2020-09-25T14:11:33.509683Z",
     "start_time": "2020-09-25T14:11:33.462629Z"
    }
   },
   "outputs": [],
   "source": [
    "xgb_clf = xgb.XGBClassifier(**xgb_params)"
   ]
  },
  {
   "cell_type": "code",
   "execution_count": 19,
   "metadata": {
    "ExecuteTime": {
     "end_time": "2020-09-25T13:18:01.363715Z",
     "start_time": "2020-09-25T13:18:01.323507Z"
    }
   },
   "outputs": [],
   "source": [
    "# Classifier\n",
    "bayes_cv_tuner = BayesSearchCV(\n",
    "    estimator = xgb_clf,\n",
    "    search_spaces = {\n",
    "        'learning_rate': (0.01, 1.0, 'log-uniform'),\n",
    "        'max_depth': (0, 50),\n",
    "        'max_delta_step': (0, 20),\n",
    "        'max_bin': (100, 1000),\n",
    "        'gamma': (1e-9, 0.5, 'log-uniform'),\n",
    "        'subsample': (0.01, 1.0, 'uniform'),\n",
    "        'colsample_bytree': (0.01, 1.0, 'uniform'),\n",
    "        'colsample_bylevel': (0.01, 1.0, 'uniform'),\n",
    "        'min_child_weight': (0, 10),\n",
    "        'reg_lambda': (1e-9, 1000, 'log-uniform'),\n",
    "        'reg_alpha': (1e-9, 1.0, 'log-uniform'),\n",
    "        'scale_pos_weight': (1e-6, 500, 'log-uniform'),\n",
    "        'n_estimators': (50, 100),\n",
    "    },    \n",
    "    cv = StratifiedKFold(\n",
    "        n_splits=5,\n",
    "        shuffle=True,\n",
    "        random_state=2020\n",
    "    ),\n",
    "    scoring='neg_log_loss',\n",
    "    n_jobs = -1,\n",
    "    n_iter = 1000,   \n",
    "    verbose = 0,\n",
    "    refit = True,\n",
    "    random_state = 2020\n",
    ")\n",
    "\n",
    "def status_print(optim_result):\n",
    "    \"\"\"Status callback durring bayesian hyperparameter search\"\"\"\n",
    "    \n",
    "    # Get all the models tested so far in DataFrame format\n",
    "    all_models = pd.DataFrame(bayes_cv_tuner.cv_results_)    \n",
    "    \n",
    "    # Get current parameters and the best parameters    \n",
    "    best_params = pd.Series(bayes_cv_tuner.best_params_)\n",
    "    print('Model #{}\\nBest ROC-AUC: {}\\nBest params: {}\\n'.format(\n",
    "        len(all_models),\n",
    "        np.round(bayes_cv_tuner.best_score_, 4),\n",
    "        bayes_cv_tuner.best_params_\n",
    "    ))\n",
    "    \n",
    "    # Save all model results\n",
    "    clf_name = bayes_cv_tuner.estimator.__class__.__name__\n",
    "    all_models.to_csv(clf_name+\"_cv_results.csv\")"
   ]
  },
  {
   "cell_type": "code",
   "execution_count": 20,
   "metadata": {
    "ExecuteTime": {
     "end_time": "2020-09-25T13:49:28.412732Z",
     "start_time": "2020-09-25T13:18:01.365409Z"
    }
   },
   "outputs": [
    {
     "name": "stdout",
     "output_type": "stream",
     "text": [
      "Model #1\n",
      "Best ROC-AUC: -0.2117\n",
      "Best params: OrderedDict([('colsample_bylevel', 0.20284208990056435), ('colsample_bytree', 0.4100434869006526), ('gamma', 1.3370880967690957e-07), ('learning_rate', 0.616247102917486), ('max_bin', 583), ('max_delta_step', 1), ('max_depth', 12), ('min_child_weight', 2), ('n_estimators', 76), ('reg_alpha', 0.04669386473350748), ('reg_lambda', 631), ('scale_pos_weight', 52), ('subsample', 0.03193070143140899)])\n",
      "\n",
      "Model #2\n",
      "Best ROC-AUC: -0.2117\n",
      "Best params: OrderedDict([('colsample_bylevel', 0.20284208990056435), ('colsample_bytree', 0.4100434869006526), ('gamma', 1.3370880967690957e-07), ('learning_rate', 0.616247102917486), ('max_bin', 583), ('max_delta_step', 1), ('max_depth', 12), ('min_child_weight', 2), ('n_estimators', 76), ('reg_alpha', 0.04669386473350748), ('reg_lambda', 631), ('scale_pos_weight', 52), ('subsample', 0.03193070143140899)])\n",
      "\n",
      "Model #3\n",
      "Best ROC-AUC: -0.1604\n",
      "Best params: OrderedDict([('colsample_bylevel', 0.6460711463783065), ('colsample_bytree', 0.5067261227154364), ('gamma', 0.0006718314387438347), ('learning_rate', 0.6149730588674646), ('max_bin', 975), ('max_delta_step', 9), ('max_depth', 8), ('min_child_weight', 10), ('n_estimators', 66), ('reg_alpha', 5.328124599606665e-06), ('reg_lambda', 152), ('scale_pos_weight', 306), ('subsample', 0.3024335471902203)])\n",
      "\n",
      "Model #4\n",
      "Best ROC-AUC: -0.1604\n",
      "Best params: OrderedDict([('colsample_bylevel', 0.6460711463783065), ('colsample_bytree', 0.5067261227154364), ('gamma', 0.0006718314387438347), ('learning_rate', 0.6149730588674646), ('max_bin', 975), ('max_delta_step', 9), ('max_depth', 8), ('min_child_weight', 10), ('n_estimators', 66), ('reg_alpha', 5.328124599606665e-06), ('reg_lambda', 152), ('scale_pos_weight', 306), ('subsample', 0.3024335471902203)])\n",
      "\n",
      "Model #5\n",
      "Best ROC-AUC: -0.1604\n",
      "Best params: OrderedDict([('colsample_bylevel', 0.6460711463783065), ('colsample_bytree', 0.5067261227154364), ('gamma', 0.0006718314387438347), ('learning_rate', 0.6149730588674646), ('max_bin', 975), ('max_delta_step', 9), ('max_depth', 8), ('min_child_weight', 10), ('n_estimators', 66), ('reg_alpha', 5.328124599606665e-06), ('reg_lambda', 152), ('scale_pos_weight', 306), ('subsample', 0.3024335471902203)])\n",
      "\n",
      "Model #6\n",
      "Best ROC-AUC: -0.1604\n",
      "Best params: OrderedDict([('colsample_bylevel', 0.6460711463783065), ('colsample_bytree', 0.5067261227154364), ('gamma', 0.0006718314387438347), ('learning_rate', 0.6149730588674646), ('max_bin', 975), ('max_delta_step', 9), ('max_depth', 8), ('min_child_weight', 10), ('n_estimators', 66), ('reg_alpha', 5.328124599606665e-06), ('reg_lambda', 152), ('scale_pos_weight', 306), ('subsample', 0.3024335471902203)])\n",
      "\n",
      "Model #7\n",
      "Best ROC-AUC: -0.1604\n",
      "Best params: OrderedDict([('colsample_bylevel', 0.6460711463783065), ('colsample_bytree', 0.5067261227154364), ('gamma', 0.0006718314387438347), ('learning_rate', 0.6149730588674646), ('max_bin', 975), ('max_delta_step', 9), ('max_depth', 8), ('min_child_weight', 10), ('n_estimators', 66), ('reg_alpha', 5.328124599606665e-06), ('reg_lambda', 152), ('scale_pos_weight', 306), ('subsample', 0.3024335471902203)])\n",
      "\n",
      "Model #8\n",
      "Best ROC-AUC: -0.1558\n",
      "Best params: OrderedDict([('colsample_bylevel', 0.7480728057848978), ('colsample_bytree', 0.6619670423033129), ('gamma', 7.847728598031166e-08), ('learning_rate', 0.3953093729257288), ('max_bin', 699), ('max_delta_step', 3), ('max_depth', 35), ('min_child_weight', 1), ('n_estimators', 85), ('reg_alpha', 4.2828440148238096e-09), ('reg_lambda', 347), ('scale_pos_weight', 369), ('subsample', 0.6829260755774319)])\n",
      "\n",
      "Model #9\n",
      "Best ROC-AUC: -0.1558\n",
      "Best params: OrderedDict([('colsample_bylevel', 0.7480728057848978), ('colsample_bytree', 0.6619670423033129), ('gamma', 7.847728598031166e-08), ('learning_rate', 0.3953093729257288), ('max_bin', 699), ('max_delta_step', 3), ('max_depth', 35), ('min_child_weight', 1), ('n_estimators', 85), ('reg_alpha', 4.2828440148238096e-09), ('reg_lambda', 347), ('scale_pos_weight', 369), ('subsample', 0.6829260755774319)])\n",
      "\n",
      "[0.20284209 0.97416807 0.64607115 0.85762531 0.63183987 0.54183671\n",
      " 0.85618523 0.74807281 0.9577509  0.90351248]\n",
      "[0.41004349 0.06445102 0.50672612 0.9086185  0.92392729 0.34333041\n",
      " 0.19645045 0.66196704 0.27847577 0.13124708]\n",
      "[-6.87383998 -1.5946916  -3.17273968 -0.96737168 -1.31587854 -6.6738762\n",
      " -6.71418178 -7.10525602 -4.64119665 -5.12000245]\n",
      "[-0.21024511 -1.95379976 -0.21114391 -1.61618515 -0.03300125 -1.72307327\n",
      " -1.60603768 -0.40306289 -0.95130282 -0.08620973]\n",
      "[583 766 975 696 633 567 630 699 432 693]\n",
      "[ 1  9  9 13 20  4  3  3 13  7]\n",
      "[12 20  8 42 24 47 20 35 17 36]\n",
      "[ 2  8 10  8  1  3  4  1  4  3]\n",
      "[76 95 66 74 69 83 96 85 67 59]\n",
      "[-1.33074018 -0.28597848 -5.27342563 -1.86865441 -8.77399035 -4.18826504\n",
      " -6.25503559 -8.36826774 -7.91447325 -5.30849016]\n",
      "[631 707 152 779 330  16 498 347 956 484]\n",
      "[ 52 171 306  59 299 487 263 369 137 468]\n",
      "[0.0319307  0.91419465 0.30243355 0.3077744  0.580507   0.53712831\n",
      " 0.43573762 0.68292608 0.76317974 0.24950349]\n",
      "[0.53572968 0.02396075 0.57980526 ... 0.37083421 0.49373725 0.35134134]\n",
      "[0.84334753 0.47365496 0.54149051 ... 0.76634437 0.49890948 0.80181585]\n",
      "[-4.66546461 -4.70396173 -6.01994876 ... -2.01920033 -3.5467643\n",
      " -7.22344378]\n",
      "[-1.88951394 -1.91117233 -1.94074621 ... -0.20372334 -1.91112113\n",
      " -1.65522099]\n",
      "[192 360 563 ... 582 645 643]\n",
      "[ 4  5 12 ...  3 10 15]\n",
      "[38  7 18 ... 38 36 25]\n",
      "[ 1  1  1 ... 10  4  1]\n",
      "[99 88 95 ... 95 55 55]\n",
      "[-2.27344624 -2.24997589 -4.40063982 ... -0.65602776 -3.62586886\n",
      " -5.57050037]\n",
      "[853 599 703 ... 219 772 964]\n"
     ]
    },
    {
     "ename": "ValueError",
     "evalue": "All integer values shouldbe greater than 0.000000",
     "output_type": "error",
     "traceback": [
      "\u001b[0;31m---------------------------------------------------------------------------\u001b[0m",
      "\u001b[0;31mValueError\u001b[0m                                Traceback (most recent call last)",
      "\u001b[0;32m<ipython-input-20-1e90e4bb0bf4>\u001b[0m in \u001b[0;36m<module>\u001b[0;34m\u001b[0m\n\u001b[0;32m----> 1\u001b[0;31m \u001b[0mresult\u001b[0m \u001b[0;34m=\u001b[0m \u001b[0mbayes_cv_tuner\u001b[0m\u001b[0;34m.\u001b[0m\u001b[0mfit\u001b[0m\u001b[0;34m(\u001b[0m\u001b[0mX\u001b[0m\u001b[0;34m.\u001b[0m\u001b[0mvalues\u001b[0m\u001b[0;34m,\u001b[0m \u001b[0my\u001b[0m\u001b[0;34m.\u001b[0m\u001b[0mvalues\u001b[0m\u001b[0;34m,\u001b[0m \u001b[0mcallback\u001b[0m\u001b[0;34m=\u001b[0m\u001b[0mstatus_print\u001b[0m\u001b[0;34m)\u001b[0m\u001b[0;34m\u001b[0m\u001b[0;34m\u001b[0m\u001b[0m\n\u001b[0m",
      "\u001b[0;32m~/.pyenv/versions/anaconda3-5.3.1/envs/py38/lib/python3.8/site-packages/skopt/searchcv.py\u001b[0m in \u001b[0;36mfit\u001b[0;34m(self, X, y, groups, callback)\u001b[0m\n\u001b[1;32m    690\u001b[0m                 \u001b[0mn_points_adjusted\u001b[0m \u001b[0;34m=\u001b[0m \u001b[0mmin\u001b[0m\u001b[0;34m(\u001b[0m\u001b[0mn_iter\u001b[0m\u001b[0;34m,\u001b[0m \u001b[0mn_points\u001b[0m\u001b[0;34m)\u001b[0m\u001b[0;34m\u001b[0m\u001b[0;34m\u001b[0m\u001b[0m\n\u001b[1;32m    691\u001b[0m \u001b[0;34m\u001b[0m\u001b[0m\n\u001b[0;32m--> 692\u001b[0;31m                 optim_result = self._step(\n\u001b[0m\u001b[1;32m    693\u001b[0m                     \u001b[0mX\u001b[0m\u001b[0;34m,\u001b[0m \u001b[0my\u001b[0m\u001b[0;34m,\u001b[0m \u001b[0msearch_space\u001b[0m\u001b[0;34m,\u001b[0m \u001b[0moptimizer\u001b[0m\u001b[0;34m,\u001b[0m\u001b[0;34m\u001b[0m\u001b[0;34m\u001b[0m\u001b[0m\n\u001b[1;32m    694\u001b[0m                     \u001b[0mgroups\u001b[0m\u001b[0;34m=\u001b[0m\u001b[0mgroups\u001b[0m\u001b[0;34m,\u001b[0m \u001b[0mn_points\u001b[0m\u001b[0;34m=\u001b[0m\u001b[0mn_points_adjusted\u001b[0m\u001b[0;34m\u001b[0m\u001b[0;34m\u001b[0m\u001b[0m\n",
      "\u001b[0;32m~/.pyenv/versions/anaconda3-5.3.1/envs/py38/lib/python3.8/site-packages/skopt/searchcv.py\u001b[0m in \u001b[0;36m_step\u001b[0;34m(self, X, y, search_space, optimizer, groups, n_points)\u001b[0m\n\u001b[1;32m    563\u001b[0m \u001b[0;34m\u001b[0m\u001b[0m\n\u001b[1;32m    564\u001b[0m         \u001b[0;31m# get parameter values to evaluate\u001b[0m\u001b[0;34m\u001b[0m\u001b[0;34m\u001b[0m\u001b[0;34m\u001b[0m\u001b[0m\n\u001b[0;32m--> 565\u001b[0;31m         \u001b[0mparams\u001b[0m \u001b[0;34m=\u001b[0m \u001b[0moptimizer\u001b[0m\u001b[0;34m.\u001b[0m\u001b[0mask\u001b[0m\u001b[0;34m(\u001b[0m\u001b[0mn_points\u001b[0m\u001b[0;34m=\u001b[0m\u001b[0mn_points\u001b[0m\u001b[0;34m)\u001b[0m\u001b[0;34m\u001b[0m\u001b[0;34m\u001b[0m\u001b[0m\n\u001b[0m\u001b[1;32m    566\u001b[0m \u001b[0;34m\u001b[0m\u001b[0m\n\u001b[1;32m    567\u001b[0m         \u001b[0;31m# convert parameters to python native types\u001b[0m\u001b[0;34m\u001b[0m\u001b[0;34m\u001b[0m\u001b[0;34m\u001b[0m\u001b[0m\n",
      "\u001b[0;32m~/.pyenv/versions/anaconda3-5.3.1/envs/py38/lib/python3.8/site-packages/skopt/optimizer/optimizer.py\u001b[0m in \u001b[0;36mask\u001b[0;34m(self, n_points, strategy)\u001b[0m\n\u001b[1;32m    415\u001b[0m                 \u001b[0mopt\u001b[0m\u001b[0;34m.\u001b[0m\u001b[0m_tell\u001b[0m\u001b[0;34m(\u001b[0m\u001b[0mx\u001b[0m\u001b[0;34m,\u001b[0m \u001b[0;34m(\u001b[0m\u001b[0my_lie\u001b[0m\u001b[0;34m,\u001b[0m \u001b[0mt_lie\u001b[0m\u001b[0;34m)\u001b[0m\u001b[0;34m)\u001b[0m\u001b[0;34m\u001b[0m\u001b[0;34m\u001b[0m\u001b[0m\n\u001b[1;32m    416\u001b[0m             \u001b[0;32melse\u001b[0m\u001b[0;34m:\u001b[0m\u001b[0;34m\u001b[0m\u001b[0;34m\u001b[0m\u001b[0m\n\u001b[0;32m--> 417\u001b[0;31m                 \u001b[0mopt\u001b[0m\u001b[0;34m.\u001b[0m\u001b[0m_tell\u001b[0m\u001b[0;34m(\u001b[0m\u001b[0mx\u001b[0m\u001b[0;34m,\u001b[0m \u001b[0my_lie\u001b[0m\u001b[0;34m)\u001b[0m\u001b[0;34m\u001b[0m\u001b[0;34m\u001b[0m\u001b[0m\n\u001b[0m\u001b[1;32m    418\u001b[0m \u001b[0;34m\u001b[0m\u001b[0m\n\u001b[1;32m    419\u001b[0m         \u001b[0mself\u001b[0m\u001b[0;34m.\u001b[0m\u001b[0mcache_\u001b[0m \u001b[0;34m=\u001b[0m \u001b[0;34m{\u001b[0m\u001b[0;34m(\u001b[0m\u001b[0mn_points\u001b[0m\u001b[0;34m,\u001b[0m \u001b[0mstrategy\u001b[0m\u001b[0;34m)\u001b[0m\u001b[0;34m:\u001b[0m \u001b[0mX\u001b[0m\u001b[0;34m}\u001b[0m  \u001b[0;31m# cache_ the result\u001b[0m\u001b[0;34m\u001b[0m\u001b[0;34m\u001b[0m\u001b[0m\n",
      "\u001b[0;32m~/.pyenv/versions/anaconda3-5.3.1/envs/py38/lib/python3.8/site-packages/skopt/optimizer/optimizer.py\u001b[0m in \u001b[0;36m_tell\u001b[0;34m(self, x, y, fit)\u001b[0m\n\u001b[1;32m    550\u001b[0m             \u001b[0;31m# even with BFGS as optimizer we want to sample a large number\u001b[0m\u001b[0;34m\u001b[0m\u001b[0;34m\u001b[0m\u001b[0;34m\u001b[0m\u001b[0m\n\u001b[1;32m    551\u001b[0m             \u001b[0;31m# of points and then pick the best ones as starting points\u001b[0m\u001b[0;34m\u001b[0m\u001b[0;34m\u001b[0m\u001b[0;34m\u001b[0m\u001b[0m\n\u001b[0;32m--> 552\u001b[0;31m             X = self.space.transform(self.space.rvs(\n\u001b[0m\u001b[1;32m    553\u001b[0m                 n_samples=self.n_points, random_state=self.rng))\n\u001b[1;32m    554\u001b[0m \u001b[0;34m\u001b[0m\u001b[0m\n",
      "\u001b[0;32m~/.pyenv/versions/anaconda3-5.3.1/envs/py38/lib/python3.8/site-packages/skopt/space/space.py\u001b[0m in \u001b[0;36mtransform\u001b[0;34m(self, X)\u001b[0m\n\u001b[1;32m    961\u001b[0m         \u001b[0;31m# Transform\u001b[0m\u001b[0;34m\u001b[0m\u001b[0;34m\u001b[0m\u001b[0;34m\u001b[0m\u001b[0m\n\u001b[1;32m    962\u001b[0m         \u001b[0;32mfor\u001b[0m \u001b[0mj\u001b[0m \u001b[0;32min\u001b[0m \u001b[0mrange\u001b[0m\u001b[0;34m(\u001b[0m\u001b[0mself\u001b[0m\u001b[0;34m.\u001b[0m\u001b[0mn_dims\u001b[0m\u001b[0;34m)\u001b[0m\u001b[0;34m:\u001b[0m\u001b[0;34m\u001b[0m\u001b[0;34m\u001b[0m\u001b[0m\n\u001b[0;32m--> 963\u001b[0;31m             \u001b[0mcolumns\u001b[0m\u001b[0;34m[\u001b[0m\u001b[0mj\u001b[0m\u001b[0;34m]\u001b[0m \u001b[0;34m=\u001b[0m \u001b[0mself\u001b[0m\u001b[0;34m.\u001b[0m\u001b[0mdimensions\u001b[0m\u001b[0;34m[\u001b[0m\u001b[0mj\u001b[0m\u001b[0;34m]\u001b[0m\u001b[0;34m.\u001b[0m\u001b[0mtransform\u001b[0m\u001b[0;34m(\u001b[0m\u001b[0mcolumns\u001b[0m\u001b[0;34m[\u001b[0m\u001b[0mj\u001b[0m\u001b[0;34m]\u001b[0m\u001b[0;34m)\u001b[0m\u001b[0;34m\u001b[0m\u001b[0;34m\u001b[0m\u001b[0m\n\u001b[0m\u001b[1;32m    964\u001b[0m \u001b[0;34m\u001b[0m\u001b[0m\n\u001b[1;32m    965\u001b[0m         \u001b[0;31m# Repack as an array\u001b[0m\u001b[0;34m\u001b[0m\u001b[0;34m\u001b[0m\u001b[0;34m\u001b[0m\u001b[0m\n",
      "\u001b[0;32m~/.pyenv/versions/anaconda3-5.3.1/envs/py38/lib/python3.8/site-packages/skopt/space/space.py\u001b[0m in \u001b[0;36mtransform\u001b[0;34m(self, X)\u001b[0m\n\u001b[1;32m    160\u001b[0m     \u001b[0;32mdef\u001b[0m \u001b[0mtransform\u001b[0m\u001b[0;34m(\u001b[0m\u001b[0mself\u001b[0m\u001b[0;34m,\u001b[0m \u001b[0mX\u001b[0m\u001b[0;34m)\u001b[0m\u001b[0;34m:\u001b[0m\u001b[0;34m\u001b[0m\u001b[0;34m\u001b[0m\u001b[0m\n\u001b[1;32m    161\u001b[0m         \u001b[0;34m\"\"\"Transform samples form the original space to a warped space.\"\"\"\u001b[0m\u001b[0;34m\u001b[0m\u001b[0;34m\u001b[0m\u001b[0m\n\u001b[0;32m--> 162\u001b[0;31m         \u001b[0;32mreturn\u001b[0m \u001b[0mself\u001b[0m\u001b[0;34m.\u001b[0m\u001b[0mtransformer\u001b[0m\u001b[0;34m.\u001b[0m\u001b[0mtransform\u001b[0m\u001b[0;34m(\u001b[0m\u001b[0mX\u001b[0m\u001b[0;34m)\u001b[0m\u001b[0;34m\u001b[0m\u001b[0;34m\u001b[0m\u001b[0m\n\u001b[0m\u001b[1;32m    163\u001b[0m \u001b[0;34m\u001b[0m\u001b[0m\n\u001b[1;32m    164\u001b[0m     \u001b[0;32mdef\u001b[0m \u001b[0minverse_transform\u001b[0m\u001b[0;34m(\u001b[0m\u001b[0mself\u001b[0m\u001b[0;34m,\u001b[0m \u001b[0mXt\u001b[0m\u001b[0;34m)\u001b[0m\u001b[0;34m:\u001b[0m\u001b[0;34m\u001b[0m\u001b[0;34m\u001b[0m\u001b[0m\n",
      "\u001b[0;32m~/.pyenv/versions/anaconda3-5.3.1/envs/py38/lib/python3.8/site-packages/skopt/space/transformers.py\u001b[0m in \u001b[0;36mtransform\u001b[0;34m(self, X)\u001b[0m\n\u001b[1;32m    303\u001b[0m     \u001b[0;32mdef\u001b[0m \u001b[0mtransform\u001b[0m\u001b[0;34m(\u001b[0m\u001b[0mself\u001b[0m\u001b[0;34m,\u001b[0m \u001b[0mX\u001b[0m\u001b[0;34m)\u001b[0m\u001b[0;34m:\u001b[0m\u001b[0;34m\u001b[0m\u001b[0;34m\u001b[0m\u001b[0m\n\u001b[1;32m    304\u001b[0m         \u001b[0;32mfor\u001b[0m \u001b[0mtransformer\u001b[0m \u001b[0;32min\u001b[0m \u001b[0mself\u001b[0m\u001b[0;34m.\u001b[0m\u001b[0mtransformers\u001b[0m\u001b[0;34m:\u001b[0m\u001b[0;34m\u001b[0m\u001b[0;34m\u001b[0m\u001b[0m\n\u001b[0;32m--> 305\u001b[0;31m             \u001b[0mX\u001b[0m \u001b[0;34m=\u001b[0m \u001b[0mtransformer\u001b[0m\u001b[0;34m.\u001b[0m\u001b[0mtransform\u001b[0m\u001b[0;34m(\u001b[0m\u001b[0mX\u001b[0m\u001b[0;34m)\u001b[0m\u001b[0;34m\u001b[0m\u001b[0;34m\u001b[0m\u001b[0m\n\u001b[0m\u001b[1;32m    306\u001b[0m         \u001b[0;32mreturn\u001b[0m \u001b[0mX\u001b[0m\u001b[0;34m\u001b[0m\u001b[0;34m\u001b[0m\u001b[0m\n\u001b[1;32m    307\u001b[0m \u001b[0;34m\u001b[0m\u001b[0m\n",
      "\u001b[0;32m~/.pyenv/versions/anaconda3-5.3.1/envs/py38/lib/python3.8/site-packages/skopt/space/transformers.py\u001b[0m in \u001b[0;36mtransform\u001b[0;34m(self, X)\u001b[0m\n\u001b[1;32m    249\u001b[0m                         \"be less than %f\" % self.high)\n\u001b[1;32m    250\u001b[0m             \u001b[0;32mif\u001b[0m \u001b[0mnp\u001b[0m\u001b[0;34m.\u001b[0m\u001b[0many\u001b[0m\u001b[0;34m(\u001b[0m\u001b[0mnp\u001b[0m\u001b[0;34m.\u001b[0m\u001b[0mround\u001b[0m\u001b[0;34m(\u001b[0m\u001b[0mX\u001b[0m\u001b[0;34m)\u001b[0m \u001b[0;34m<\u001b[0m \u001b[0mself\u001b[0m\u001b[0;34m.\u001b[0m\u001b[0mlow\u001b[0m\u001b[0;34m)\u001b[0m\u001b[0;34m:\u001b[0m\u001b[0;34m\u001b[0m\u001b[0;34m\u001b[0m\u001b[0m\n\u001b[0;32m--> 251\u001b[0;31m                 raise ValueError(\"All integer values should\"\n\u001b[0m\u001b[1;32m    252\u001b[0m                         \"be greater than %f\" % self.low)\n\u001b[1;32m    253\u001b[0m         \u001b[0;32melse\u001b[0m\u001b[0;34m:\u001b[0m\u001b[0;34m\u001b[0m\u001b[0;34m\u001b[0m\u001b[0m\n",
      "\u001b[0;31mValueError\u001b[0m: All integer values shouldbe greater than 0.000000"
     ]
    }
   ],
   "source": [
    "\n",
    "result = bayes_cv_tuner.fit(X.values, y.values, callback=status_print)"
   ]
  },
  {
   "cell_type": "code",
   "execution_count": 50,
   "metadata": {
    "ExecuteTime": {
     "end_time": "2020-09-25T14:15:43.459059Z",
     "start_time": "2020-09-25T14:15:43.307023Z"
    }
   },
   "outputs": [
    {
     "data": {
      "text/plain": [
       "(z                         1.0\n",
       " redshift                  1.0\n",
       " dered_z                   1.0\n",
       " nObserve                  1.0\n",
       " diff_g_u                  1.0\n",
       " diff_r_g                  1.0\n",
       " diff_i_r                  1.0\n",
       " diff_z_i                  1.0\n",
       " diff_dered_u_z            1.0\n",
       " diff_dered_g_dered_u      1.0\n",
       " diff_dered_r_dered_g      1.0\n",
       " diff_dered_i_dered_r      1.0\n",
       " diff_dered_z_dered_i      1.0\n",
       " diff_airmass_u_dered_z    1.0\n",
       " u_0                       1.0\n",
       " g_0                       1.0\n",
       " g_1                       1.0\n",
       " r_0                       1.0\n",
       " r_1                       1.0\n",
       " z_0                       1.0\n",
       " d_obs_det                 1.0\n",
       " dtype: float64,\n",
       " z                         0.0\n",
       " redshift                  0.0\n",
       " dered_z                   0.0\n",
       " nObserve                  0.0\n",
       " diff_g_u                  0.0\n",
       " diff_r_g                  0.0\n",
       " diff_i_r                  0.0\n",
       " diff_z_i                  0.0\n",
       " diff_dered_u_z            0.0\n",
       " diff_dered_g_dered_u      0.0\n",
       " diff_dered_r_dered_g      0.0\n",
       " diff_dered_i_dered_r      0.0\n",
       " diff_dered_z_dered_i      0.0\n",
       " diff_airmass_u_dered_z    0.0\n",
       " u_0                       0.0\n",
       " g_0                       0.0\n",
       " g_1                       0.0\n",
       " r_0                       0.0\n",
       " r_1                       0.0\n",
       " z_0                       0.0\n",
       " d_obs_det                 0.0\n",
       " dtype: float64,\n",
       " 0,\n",
       " 2)"
      ]
     },
     "execution_count": 50,
     "metadata": {},
     "output_type": "execute_result"
    }
   ],
   "source": [
    "X.max(), X.min(), y.min(), y.max()"
   ]
  },
  {
   "cell_type": "code",
   "execution_count": null,
   "metadata": {},
   "outputs": [],
   "source": []
  }
 ],
 "metadata": {
  "kernelspec": {
   "display_name": "Python 3",
   "language": "python",
   "name": "python3"
  },
  "language_info": {
   "codemirror_mode": {
    "name": "ipython",
    "version": 3
   },
   "file_extension": ".py",
   "mimetype": "text/x-python",
   "name": "python",
   "nbconvert_exporter": "python",
   "pygments_lexer": "ipython3",
   "version": "3.8.2"
  },
  "toc": {
   "base_numbering": 1,
   "nav_menu": {},
   "number_sections": true,
   "sideBar": true,
   "skip_h1_title": false,
   "title_cell": "Table of Contents",
   "title_sidebar": "Contents",
   "toc_cell": false,
   "toc_position": {},
   "toc_section_display": true,
   "toc_window_display": false
  },
  "varInspector": {
   "cols": {
    "lenName": 16,
    "lenType": 16,
    "lenVar": 40
   },
   "kernels_config": {
    "python": {
     "delete_cmd_postfix": "",
     "delete_cmd_prefix": "del ",
     "library": "var_list.py",
     "varRefreshCmd": "print(var_dic_list())"
    },
    "r": {
     "delete_cmd_postfix": ") ",
     "delete_cmd_prefix": "rm(",
     "library": "var_list.r",
     "varRefreshCmd": "cat(var_dic_list()) "
    }
   },
   "types_to_exclude": [
    "module",
    "function",
    "builtin_function_or_method",
    "instance",
    "_Feature"
   ],
   "window_display": false
  }
 },
 "nbformat": 4,
 "nbformat_minor": 2
}
