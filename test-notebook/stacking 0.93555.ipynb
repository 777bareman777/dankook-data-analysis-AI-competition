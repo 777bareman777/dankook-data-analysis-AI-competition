{
 "cells": [
  {
   "cell_type": "code",
   "execution_count": 1,
   "metadata": {
    "ExecuteTime": {
     "end_time": "2020-09-17T12:32:40.491029Z",
     "start_time": "2020-09-17T12:32:40.063784Z"
    }
   },
   "outputs": [],
   "source": [
    "%reload_ext autoreload\n",
    "%autoreload 2\n",
    "%matplotlib inline"
   ]
  },
  {
   "cell_type": "code",
   "execution_count": 2,
   "metadata": {
    "ExecuteTime": {
     "end_time": "2020-09-17T12:32:41.041356Z",
     "start_time": "2020-09-17T12:32:40.493204Z"
    }
   },
   "outputs": [],
   "source": [
    "import numpy as np\n",
    "import pandas as pd\n",
    "\n",
    "import matplotlib.pyplot as plt\n",
    "from matplotlib import rcParams\n",
    "import seaborn as sns\n",
    "\n",
    "import warnings"
   ]
  },
  {
   "cell_type": "code",
   "execution_count": 3,
   "metadata": {
    "ExecuteTime": {
     "end_time": "2020-09-17T12:32:41.072961Z",
     "start_time": "2020-09-17T12:32:41.043224Z"
    }
   },
   "outputs": [],
   "source": [
    "pd.set_option('max_columns', 100)\n",
    "pd.set_option('display.precision', 4)\n",
    "\n",
    "rcParams['figure.figsize'] = (16, 8)\n",
    "plt.style.use('fivethirtyeight')\n",
    "sns.set(font_scale=2.5)\n",
    "\n",
    "warnings.filterwarnings('ignore')"
   ]
  },
  {
   "cell_type": "markdown",
   "metadata": {},
   "source": [
    "# 데이터 로드"
   ]
  },
  {
   "cell_type": "code",
   "execution_count": 4,
   "metadata": {
    "ExecuteTime": {
     "end_time": "2020-09-17T12:32:43.090258Z",
     "start_time": "2020-09-17T12:32:41.075007Z"
    }
   },
   "outputs": [],
   "source": [
    "df_train = pd.read_csv('../input/dankook/train.csv', index_col=0)\n",
    "df_test = pd.read_csv('../input/dankook/test.csv', index_col=0)"
   ]
  },
  {
   "cell_type": "markdown",
   "metadata": {},
   "source": [
    "## 학습/테스트 데이터 결합"
   ]
  },
  {
   "cell_type": "code",
   "execution_count": 5,
   "metadata": {
    "ExecuteTime": {
     "end_time": "2020-09-17T12:32:43.226934Z",
     "start_time": "2020-09-17T12:32:43.092600Z"
    }
   },
   "outputs": [],
   "source": [
    "dataset = pd.concat([df_train,df_test], axis=0)\n",
    "df_train_len = len(df_train)\n",
    "\n",
    "dataset.fillna(-1, inplace=True)"
   ]
  },
  {
   "cell_type": "code",
   "execution_count": 6,
   "metadata": {
    "ExecuteTime": {
     "end_time": "2020-09-17T12:32:43.259972Z",
     "start_time": "2020-09-17T12:32:43.228768Z"
    }
   },
   "outputs": [],
   "source": [
    "dataset['nObserve'] = dataset['nObserve'].apply(np.log1p)"
   ]
  },
  {
   "cell_type": "code",
   "execution_count": 7,
   "metadata": {
    "ExecuteTime": {
     "end_time": "2020-09-17T12:32:43.320072Z",
     "start_time": "2020-09-17T12:32:43.261624Z"
    }
   },
   "outputs": [],
   "source": [
    "dataset['d_dered_u'] = dataset['dered_u'] - dataset['u']\n",
    "dataset['d_dered_g'] = dataset['dered_g'] - dataset['g']\n",
    "dataset['d_dered_r'] = dataset['dered_r'] - dataset['r']\n",
    "dataset['d_dered_i'] = dataset['dered_i'] - dataset['i']\n",
    "dataset['d_dered_z'] = dataset['dered_z'] - dataset['z']\n",
    "dataset['d_dered_rg'] = dataset['dered_r'] - dataset['dered_g']\n",
    "dataset['d_dered_ig'] = dataset['dered_i'] - dataset['dered_g']\n",
    "dataset['d_dered_zg'] = dataset['dered_z'] - dataset['dered_g']\n",
    "dataset['d_dered_ri'] = dataset['dered_r'] - dataset['dered_i']\n",
    "dataset['d_dered_rz'] = dataset['dered_r'] - dataset['dered_z']\n",
    "dataset['d_dered_iz'] = dataset['dered_i'] - dataset['dered_z']\n",
    "dataset['d_obs_det'] = dataset['nObserve'] - dataset['nDetect']"
   ]
  },
  {
   "cell_type": "code",
   "execution_count": 8,
   "metadata": {
    "ExecuteTime": {
     "end_time": "2020-09-17T12:32:43.450138Z",
     "start_time": "2020-09-17T12:32:43.322462Z"
    }
   },
   "outputs": [],
   "source": [
    "dataset.drop(['airmass_z', 'airmass_i', 'airmass_r', 'airmass_g', 'u', 'g', 'r', 'i', 'nDetect'], \n",
    "        axis=1, inplace=True)"
   ]
  },
  {
   "cell_type": "markdown",
   "metadata": {},
   "source": [
    "## 데이터셋 분리"
   ]
  },
  {
   "cell_type": "code",
   "execution_count": 9,
   "metadata": {
    "ExecuteTime": {
     "end_time": "2020-09-17T12:32:43.882941Z",
     "start_time": "2020-09-17T12:32:43.452127Z"
    }
   },
   "outputs": [],
   "source": [
    "from sklearn.model_selection import train_test_split \n",
    "\n",
    "# train set\n",
    "X = dataset.loc[ dataset.index < df_train_len , :]\n",
    "X.drop(columns='class',inplace=True,axis=1)\n",
    "y = dataset.loc[ dataset.index < df_train_len, 'class']\n",
    "\n",
    "# test set\n",
    "test = dataset.loc[ dataset.index >= df_train_len, :]\n",
    "test.drop(columns='class', inplace=True,axis=1)\n",
    "\n",
    "# train set split\n",
    "SEED = 2020\n",
    "X_train, X_test, y_train, y_test = train_test_split(X, y, test_size=0.3, random_state = SEED)"
   ]
  },
  {
   "cell_type": "markdown",
   "metadata": {
    "ExecuteTime": {
     "end_time": "2020-09-17T11:57:26.962900Z",
     "start_time": "2020-09-17T11:57:26.930313Z"
    }
   },
   "source": [
    "## 모델 학습"
   ]
  },
  {
   "cell_type": "code",
   "execution_count": 10,
   "metadata": {
    "ExecuteTime": {
     "end_time": "2020-09-17T12:32:44.228465Z",
     "start_time": "2020-09-17T12:32:43.884784Z"
    }
   },
   "outputs": [],
   "source": [
    "from sklearn.ensemble import RandomForestClassifier\n",
    "from sklearn.ensemble import AdaBoostClassifier\n",
    "from sklearn.ensemble import ExtraTreesClassifier\n",
    "from sklearn.ensemble import GradientBoostingClassifier\n",
    "from sklearn.svm import SVC\n",
    "from sklearn.ensemble import StackingClassifier\n",
    "import xgboost as xg\n",
    "\n",
    "from sklearn.metrics import accuracy_score \n",
    "from sklearn.metrics import mean_squared_error \n",
    "\n",
    "\n",
    "from sklearn.preprocessing import StandardScaler\n",
    "from sklearn.pipeline import make_pipeline"
   ]
  },
  {
   "cell_type": "code",
   "execution_count": 11,
   "metadata": {
    "ExecuteTime": {
     "end_time": "2020-09-17T12:32:44.295894Z",
     "start_time": "2020-09-17T12:32:44.230457Z"
    }
   },
   "outputs": [],
   "source": [
    "# Put in our parameters for said classifiers\n",
    "\n",
    "# Random Forest parameters\n",
    "rf_params = {\n",
    "    'n_jobs': -1,\n",
    "    'n_estimators': 100,\n",
    "    'max_features' : 'sqrt',\n",
    "    'verbose' : 0,\n",
    "    'random_state': 2020\n",
    "}\n",
    "\n",
    "# Extra Trees Parameters\n",
    "et_params = {\n",
    "    'n_jobs' : -1,\n",
    "    'n_estimators': 100,\n",
    "    'max_features' : 'sqrt',\n",
    "    'verbose' : 0,\n",
    "    'random_state': 2020\n",
    "}\n",
    "\n",
    "# AdaBoost Parameters\n",
    "ada_params = {\n",
    "    'n_estimators': 100,\n",
    "    'learning_rate': 0.1,\n",
    "    'algorithm': 'SAMME.R',\n",
    "    'random_state': 2020\n",
    "}\n",
    "\n",
    "# Gradient Bossting parameters\n",
    "gb_params = {\n",
    "    'n_estimators': 100,\n",
    "    'learning_rate': 0.1,\n",
    "    'max_features': 'sqrt',\n",
    "    'verbose': 0,\n",
    "    'random_state': 2020\n",
    "}\n",
    "\n",
    "# Xgboost\n",
    "xgb_params = {\n",
    "    'n_jobs' : -1, \n",
    "    'n_estimators': 100,\n",
    "    'eta': 0.3, # learning_rate\n",
    "    'booster': 'gbtree',\n",
    "    'gamma': 0,\n",
    "    'tree_method': 'auto',\n",
    "    'objective': 'reg:squarederror',\n",
    "    'random_state': 2020\n",
    "}\n",
    "\n",
    "# SVC\n",
    "svc_params = {\n",
    "    'random_state': 2020\n",
    "}"
   ]
  },
  {
   "cell_type": "code",
   "execution_count": 12,
   "metadata": {
    "ExecuteTime": {
     "end_time": "2020-09-17T12:32:44.332878Z",
     "start_time": "2020-09-17T12:32:44.297412Z"
    }
   },
   "outputs": [],
   "source": [
    "estimators = [\n",
    "    ('rf', RandomForestClassifier(**rf_params)),\n",
    "    ('et',ExtraTreesClassifier(**et_params)),\n",
    "    ('ada',AdaBoostClassifier(**ada_params)),\n",
    "    ('gb',GradientBoostingClassifier(**gb_params)),\n",
    "    ('svc', make_pipeline(StandardScaler(), SVC(random_state=2020)))\n",
    "]\n",
    "\n",
    "model = StackingClassifier(estimators=estimators, final_estimator=xg.XGBClassifier(**xgb_params), n_jobs=-1)"
   ]
  },
  {
   "cell_type": "code",
   "execution_count": 13,
   "metadata": {
    "ExecuteTime": {
     "end_time": "2020-09-17T13:37:21.004086Z",
     "start_time": "2020-09-17T12:32:44.334793Z"
    }
   },
   "outputs": [
    {
     "data": {
      "text/plain": [
       "StackingClassifier(estimators=[('rf',\n",
       "                                RandomForestClassifier(max_features='sqrt',\n",
       "                                                       n_jobs=-1,\n",
       "                                                       random_state=2020)),\n",
       "                               ('et',\n",
       "                                ExtraTreesClassifier(max_features='sqrt',\n",
       "                                                     n_jobs=-1,\n",
       "                                                     random_state=2020)),\n",
       "                               ('ada',\n",
       "                                AdaBoostClassifier(learning_rate=0.1,\n",
       "                                                   n_estimators=100,\n",
       "                                                   random_state=2020)),\n",
       "                               ('gb',\n",
       "                                GradientBoostingClassifier(max_features='sqrt',\n",
       "                                                           random_state=2020)),\n",
       "                               ('svc',\n",
       "                                Pi...\n",
       "                                                 interaction_constraints=None,\n",
       "                                                 learning_rate=None,\n",
       "                                                 max_delta_step=None,\n",
       "                                                 max_depth=None,\n",
       "                                                 min_child_weight=None,\n",
       "                                                 missing=nan,\n",
       "                                                 monotone_constraints=None,\n",
       "                                                 n_estimators=100, n_jobs=-1,\n",
       "                                                 num_parallel_tree=None,\n",
       "                                                 objective='reg:squarederror',\n",
       "                                                 random_state=2020,\n",
       "                                                 reg_alpha=None,\n",
       "                                                 reg_lambda=None,\n",
       "                                                 scale_pos_weight=None,\n",
       "                                                 subsample=None,\n",
       "                                                 tree_method='auto',\n",
       "                                                 validate_parameters=None,\n",
       "                                                 verbosity=None),\n",
       "                   n_jobs=-1)"
      ]
     },
     "execution_count": 13,
     "metadata": {},
     "output_type": "execute_result"
    }
   ],
   "source": [
    "model.fit(X_train,y_train)"
   ]
  },
  {
   "cell_type": "code",
   "execution_count": 14,
   "metadata": {
    "ExecuteTime": {
     "end_time": "2020-09-17T13:41:41.832275Z",
     "start_time": "2020-09-17T13:37:21.008243Z"
    }
   },
   "outputs": [
    {
     "name": "stdout",
     "output_type": "stream",
     "text": [
      "accuracy for stacking : 0.932875\n"
     ]
    }
   ],
   "source": [
    "p = model.predict(X_test)\n",
    "print('accuracy for stacking :', accuracy_score(y_test,p))"
   ]
  },
  {
   "cell_type": "code",
   "execution_count": 20,
   "metadata": {
    "ExecuteTime": {
     "end_time": "2020-09-17T13:51:35.320160Z",
     "start_time": "2020-09-17T13:48:11.746174Z"
    }
   },
   "outputs": [
    {
     "data": {
      "text/html": [
       "<div>\n",
       "<style scoped>\n",
       "    .dataframe tbody tr th:only-of-type {\n",
       "        vertical-align: middle;\n",
       "    }\n",
       "\n",
       "    .dataframe tbody tr th {\n",
       "        vertical-align: top;\n",
       "    }\n",
       "\n",
       "    .dataframe thead th {\n",
       "        text-align: right;\n",
       "    }\n",
       "</style>\n",
       "<table border=\"1\" class=\"dataframe\">\n",
       "  <thead>\n",
       "    <tr style=\"text-align: right;\">\n",
       "      <th></th>\n",
       "      <th>id</th>\n",
       "      <th>class</th>\n",
       "    </tr>\n",
       "  </thead>\n",
       "  <tbody>\n",
       "    <tr>\n",
       "      <th>0</th>\n",
       "      <td>320000</td>\n",
       "      <td>2.0</td>\n",
       "    </tr>\n",
       "    <tr>\n",
       "      <th>1</th>\n",
       "      <td>320001</td>\n",
       "      <td>0.0</td>\n",
       "    </tr>\n",
       "    <tr>\n",
       "      <th>2</th>\n",
       "      <td>320002</td>\n",
       "      <td>2.0</td>\n",
       "    </tr>\n",
       "    <tr>\n",
       "      <th>3</th>\n",
       "      <td>320003</td>\n",
       "      <td>0.0</td>\n",
       "    </tr>\n",
       "    <tr>\n",
       "      <th>4</th>\n",
       "      <td>320004</td>\n",
       "      <td>2.0</td>\n",
       "    </tr>\n",
       "  </tbody>\n",
       "</table>\n",
       "</div>"
      ],
      "text/plain": [
       "       id  class\n",
       "0  320000    2.0\n",
       "1  320001    0.0\n",
       "2  320002    2.0\n",
       "3  320003    0.0\n",
       "4  320004    2.0"
      ]
     },
     "execution_count": 20,
     "metadata": {},
     "output_type": "execute_result"
    }
   ],
   "source": [
    "p = model.predict(test)\n",
    "submission = pd.read_csv('../input/dankook/sample_submission.csv')\n",
    "submission['class'] = p\n",
    "submission.head()"
   ]
  },
  {
   "cell_type": "code",
   "execution_count": 22,
   "metadata": {
    "ExecuteTime": {
     "end_time": "2020-09-17T13:53:17.535681Z",
     "start_time": "2020-09-17T13:53:17.303496Z"
    }
   },
   "outputs": [],
   "source": [
    "# 0.934525 제출파일\n",
    "\n",
    "submission.to_csv('submission.csv',index=False, encoding='utf-8-sig')"
   ]
  },
  {
   "cell_type": "code",
   "execution_count": 23,
   "metadata": {
    "ExecuteTime": {
     "end_time": "2020-09-17T15:42:04.059251Z",
     "start_time": "2020-09-17T13:53:24.698885Z"
    }
   },
   "outputs": [
    {
     "data": {
      "text/html": [
       "<div>\n",
       "<style scoped>\n",
       "    .dataframe tbody tr th:only-of-type {\n",
       "        vertical-align: middle;\n",
       "    }\n",
       "\n",
       "    .dataframe tbody tr th {\n",
       "        vertical-align: top;\n",
       "    }\n",
       "\n",
       "    .dataframe thead th {\n",
       "        text-align: right;\n",
       "    }\n",
       "</style>\n",
       "<table border=\"1\" class=\"dataframe\">\n",
       "  <thead>\n",
       "    <tr style=\"text-align: right;\">\n",
       "      <th></th>\n",
       "      <th>id</th>\n",
       "      <th>class</th>\n",
       "    </tr>\n",
       "  </thead>\n",
       "  <tbody>\n",
       "    <tr>\n",
       "      <th>0</th>\n",
       "      <td>320000</td>\n",
       "      <td>2.0</td>\n",
       "    </tr>\n",
       "    <tr>\n",
       "      <th>1</th>\n",
       "      <td>320001</td>\n",
       "      <td>0.0</td>\n",
       "    </tr>\n",
       "    <tr>\n",
       "      <th>2</th>\n",
       "      <td>320002</td>\n",
       "      <td>2.0</td>\n",
       "    </tr>\n",
       "    <tr>\n",
       "      <th>3</th>\n",
       "      <td>320003</td>\n",
       "      <td>0.0</td>\n",
       "    </tr>\n",
       "    <tr>\n",
       "      <th>4</th>\n",
       "      <td>320004</td>\n",
       "      <td>2.0</td>\n",
       "    </tr>\n",
       "  </tbody>\n",
       "</table>\n",
       "</div>"
      ],
      "text/plain": [
       "       id  class\n",
       "0  320000    2.0\n",
       "1  320001    0.0\n",
       "2  320002    2.0\n",
       "3  320003    0.0\n",
       "4  320004    2.0"
      ]
     },
     "execution_count": 23,
     "metadata": {},
     "output_type": "execute_result"
    }
   ],
   "source": [
    "model.fit(X,y)\n",
    "p = model.predict(test)\n",
    "submission = pd.read_csv('../input/dankook/sample_submission.csv')\n",
    "submission['class'] = p\n",
    "submission.head()"
   ]
  },
  {
   "cell_type": "code",
   "execution_count": 24,
   "metadata": {
    "ExecuteTime": {
     "end_time": "2020-09-18T01:17:56.061919Z",
     "start_time": "2020-09-18T01:17:55.696272Z"
    }
   },
   "outputs": [],
   "source": [
    "# 0.93555 제출파일\n",
    "\n",
    "submission.to_csv('submission.csv',index=False, encoding='utf-8-sig')"
   ]
  },
  {
   "cell_type": "code",
   "execution_count": null,
   "metadata": {},
   "outputs": [],
   "source": []
  }
 ],
 "metadata": {
  "kernelspec": {
   "display_name": "Python 3",
   "language": "python",
   "name": "python3"
  },
  "language_info": {
   "codemirror_mode": {
    "name": "ipython",
    "version": 3
   },
   "file_extension": ".py",
   "mimetype": "text/x-python",
   "name": "python",
   "nbconvert_exporter": "python",
   "pygments_lexer": "ipython3",
   "version": "3.8.2"
  },
  "toc": {
   "base_numbering": 1,
   "nav_menu": {},
   "number_sections": true,
   "sideBar": true,
   "skip_h1_title": false,
   "title_cell": "Table of Contents",
   "title_sidebar": "Contents",
   "toc_cell": false,
   "toc_position": {},
   "toc_section_display": true,
   "toc_window_display": false
  },
  "varInspector": {
   "cols": {
    "lenName": 16,
    "lenType": 16,
    "lenVar": 40
   },
   "kernels_config": {
    "python": {
     "delete_cmd_postfix": "",
     "delete_cmd_prefix": "del ",
     "library": "var_list.py",
     "varRefreshCmd": "print(var_dic_list())"
    },
    "r": {
     "delete_cmd_postfix": ") ",
     "delete_cmd_prefix": "rm(",
     "library": "var_list.r",
     "varRefreshCmd": "cat(var_dic_list()) "
    }
   },
   "types_to_exclude": [
    "module",
    "function",
    "builtin_function_or_method",
    "instance",
    "_Feature"
   ],
   "window_display": false
  }
 },
 "nbformat": 4,
 "nbformat_minor": 2
}
